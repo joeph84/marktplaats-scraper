{
 "cells": [
  {
   "cell_type": "code",
   "execution_count": 37,
   "metadata": {},
   "outputs": [],
   "source": [
    "import requests\n",
    "# from lxml import html\n",
    "\n",
    "from bs4 import BeautifulSoup\n",
    "import json\n",
    "import random\n",
    "import pandas as pd\n",
    "import plotly.express as px\n",
    "\n",
    "\n",
    "DownloadNewData = True\n",
    "\n",
    "if DownloadNewData:\n",
    "    # session = requests.Session()\n",
    "\n",
    "    user_agents = [\n",
    "        \"Mozilla/5.0 (Windows NT 10.0; rv:91.0) Gecko/20100101 Firefox/91.0\",\n",
    "        \"Mozilla/5.0 (Windows NT 10.0; rv:78.0) Gecko/20100101 Firefox/78.0\",\n",
    "        \"Mozilla/5.0 (X11; Linux x86_64; rv:95.0) Gecko/20100101 Firefox/95.0\"\n",
    "    ]\n",
    "    random_user_agent = random.choice(user_agents)\n",
    "\n",
    "    headers = {'User-Agent': random_user_agent,\n",
    "                # 'cookie':'CONSENT=PENDING+660',\n",
    "                }\n",
    "    # session.headers.update(headers)\n",
    "    \n",
    "    ads_returned = True\n",
    "    pagenr = 0\n",
    "    # maxpages = 5\n",
    "    df_ads = pd.DataFrame()\n",
    "    while (ads_returned):\n",
    "        pagenr = pagenr+1\n",
    "        url = f'https://www.marktplaats.nl/l/caravans-en-kamperen/vouwwagens/p/{pagenr}/#q:holtkamper|PriceCentsTo:1000000|searchInTitleAndDescription:true'\n",
    "        page = requests.get(url,headers=headers)\n",
    "        soup = BeautifulSoup(page.content, 'html.parser')\n",
    "        # print(soup.prettify())\n",
    "        data = json.loads(soup.find('script',type='application/json').text)\n",
    "        ads = data['props']['pageProps']['searchRequestAndResponse']['listings']\n",
    "        if len(ads) > 0:\n",
    "            df_temp = pd.DataFrame(ads)\n",
    "            df_ads = pd.concat([df_ads,df_temp],ignore_index=True)\n",
    "        else:\n",
    "            ads_returned = False\n",
    "    timestamp = pd.Timestamp.strftime(pd.Timestamp.now(),'%Y%m%dT%H%M')\n",
    "    df_ads.to_pickle(f'{timestamp}_Marktplaats_vouwwagen_ads.pkl')\n",
    "else:\n",
    "    df_ads = pd.read_pickle('Download vouwwagens 20230821.pkl')\n",
    "\n",
    "# df_ads"
   ]
  },
  {
   "cell_type": "code",
   "execution_count": 16,
   "metadata": {},
   "outputs": [
    {
     "data": {
      "text/plain": [
       "1"
      ]
     },
     "execution_count": 16,
     "metadata": {},
     "output_type": "execute_result"
    }
   ],
   "source": []
  },
  {
   "cell_type": "code",
   "execution_count": 26,
   "metadata": {},
   "outputs": [],
   "source": [
    "### drop adevrtisement with \"a\" (commercial?)\n",
    "df_ads.drop(df_ads[df_ads['itemId'].str.contains('a')].index,inplace=True)\n",
    "# df_ads"
   ]
  },
  {
   "cell_type": "code",
   "execution_count": 27,
   "metadata": {},
   "outputs": [
    {
     "data": {
      "text/html": [
       "<div>\n",
       "<style scoped>\n",
       "    .dataframe tbody tr th:only-of-type {\n",
       "        vertical-align: middle;\n",
       "    }\n",
       "\n",
       "    .dataframe tbody tr th {\n",
       "        vertical-align: top;\n",
       "    }\n",
       "\n",
       "    .dataframe thead th {\n",
       "        text-align: right;\n",
       "    }\n",
       "</style>\n",
       "<table border=\"1\" class=\"dataframe\">\n",
       "  <thead>\n",
       "    <tr style=\"text-align: right;\">\n",
       "      <th></th>\n",
       "      <th>itemId</th>\n",
       "      <th>title</th>\n",
       "      <th>description</th>\n",
       "      <th>Manufacturer</th>\n",
       "      <th>construction_year</th>\n",
       "      <th>price_eur</th>\n",
       "    </tr>\n",
       "  </thead>\n",
       "  <tbody>\n",
       "    <tr>\n",
       "      <th>8</th>\n",
       "      <td>m2007138116</td>\n",
       "      <td>Vouwwagen 2016</td>\n",
       "      <td>Vouwwagen teun ttt4. Tentdoek gemaakt door dor...</td>\n",
       "      <td>Not found in list</td>\n",
       "      <td>2016</td>\n",
       "      <td>4750.0</td>\n",
       "    </tr>\n",
       "    <tr>\n",
       "      <th>16</th>\n",
       "      <td>m2009966572</td>\n",
       "      <td>vouwwagen voor de snelle beslisser en vakantie...</td>\n",
       "      <td>Vouwwagen trigano odyssee. Vakantieklaar! 1-2-...</td>\n",
       "      <td>Not found in list</td>\n",
       "      <td>2006</td>\n",
       "      <td>1900.0</td>\n",
       "    </tr>\n",
       "    <tr>\n",
       "      <th>18</th>\n",
       "      <td>m2011714862</td>\n",
       "      <td>VOUWWAGENS komen uit verhuur 1,5 jaar oud  6-7...</td>\n",
       "      <td>Vouwwagens komen uit verhuur 1,5 jaar oud 6-8 ...</td>\n",
       "      <td>Not found in list</td>\n",
       "      <td>2022</td>\n",
       "      <td>5825.0</td>\n",
       "    </tr>\n",
       "    <tr>\n",
       "      <th>25</th>\n",
       "      <td>m2011609794</td>\n",
       "      <td>CAMPLET Concorde</td>\n",
       "      <td>Deze fijne snel op te zetten (1 2 3 systeem) v...</td>\n",
       "      <td>Not found in list</td>\n",
       "      <td>1997</td>\n",
       "      <td>350.0</td>\n",
       "    </tr>\n",
       "    <tr>\n",
       "      <th>30</th>\n",
       "      <td>m2013636293</td>\n",
       "      <td>Camplet concorde 2004</td>\n",
       "      <td>Camp-let concorde vouwwagen! Bouwjaar:2004 led...</td>\n",
       "      <td>Not found in list</td>\n",
       "      <td>2004</td>\n",
       "      <td>1750.0</td>\n",
       "    </tr>\n",
       "    <tr>\n",
       "      <th>...</th>\n",
       "      <td>...</td>\n",
       "      <td>...</td>\n",
       "      <td>...</td>\n",
       "      <td>...</td>\n",
       "      <td>...</td>\n",
       "      <td>...</td>\n",
       "    </tr>\n",
       "    <tr>\n",
       "      <th>984</th>\n",
       "      <td>m2003891505</td>\n",
       "      <td>Retro Vouwwagen</td>\n",
       "      <td>Super leuke retro alpenkreutzer vouwwagen incl...</td>\n",
       "      <td>Not found in list</td>\n",
       "      <td>&lt;NA&gt;</td>\n",
       "      <td>0.0</td>\n",
       "    </tr>\n",
       "    <tr>\n",
       "      <th>985</th>\n",
       "      <td>m1930976570</td>\n",
       "      <td>Scout vouwwagen 6 persoon inruil auto/brommer ...</td>\n",
       "      <td>Hierbij bied ik te koop leuke nette vouwwagen ...</td>\n",
       "      <td>Not found in list</td>\n",
       "      <td>1996</td>\n",
       "      <td>850.0</td>\n",
       "    </tr>\n",
       "    <tr>\n",
       "      <th>987</th>\n",
       "      <td>m2003700586</td>\n",
       "      <td>Coleman Fleetwood Pop-up Vouwwagen Uniek!</td>\n",
       "      <td>Ontdek de ultieme kampeerervaring met onze pra...</td>\n",
       "      <td>Not found in list</td>\n",
       "      <td>&lt;NA&gt;</td>\n",
       "      <td>8500.0</td>\n",
       "    </tr>\n",
       "    <tr>\n",
       "      <th>999</th>\n",
       "      <td>m2003489320</td>\n",
       "      <td>Tag Mountain Ranger 2000</td>\n",
       "      <td>Nette taga mountain ranger 2000. Kan zeker nog...</td>\n",
       "      <td>Not found in list</td>\n",
       "      <td>&lt;NA&gt;</td>\n",
       "      <td>699.0</td>\n",
       "    </tr>\n",
       "    <tr>\n",
       "      <th>1001</th>\n",
       "      <td>m2003421115</td>\n",
       "      <td>Vouwwagen 4 persoons</td>\n",
       "      <td>Te koop vouwwagen uit het jaar 2000. Gerjak ta...</td>\n",
       "      <td>Not found in list</td>\n",
       "      <td>&lt;NA&gt;</td>\n",
       "      <td>250.0</td>\n",
       "    </tr>\n",
       "  </tbody>\n",
       "</table>\n",
       "<p>186 rows × 6 columns</p>\n",
       "</div>"
      ],
      "text/plain": [
       "           itemId                                              title  \\\n",
       "8     m2007138116                                     Vouwwagen 2016   \n",
       "16    m2009966572  vouwwagen voor de snelle beslisser en vakantie...   \n",
       "18    m2011714862  VOUWWAGENS komen uit verhuur 1,5 jaar oud  6-7...   \n",
       "25    m2011609794                                   CAMPLET Concorde   \n",
       "30    m2013636293                              Camplet concorde 2004   \n",
       "...           ...                                                ...   \n",
       "984   m2003891505                                    Retro Vouwwagen   \n",
       "985   m1930976570  Scout vouwwagen 6 persoon inruil auto/brommer ...   \n",
       "987   m2003700586          Coleman Fleetwood Pop-up Vouwwagen Uniek!   \n",
       "999   m2003489320                           Tag Mountain Ranger 2000   \n",
       "1001  m2003421115                               Vouwwagen 4 persoons   \n",
       "\n",
       "                                            description       Manufacturer  \\\n",
       "8     Vouwwagen teun ttt4. Tentdoek gemaakt door dor...  Not found in list   \n",
       "16    Vouwwagen trigano odyssee. Vakantieklaar! 1-2-...  Not found in list   \n",
       "18    Vouwwagens komen uit verhuur 1,5 jaar oud 6-8 ...  Not found in list   \n",
       "25    Deze fijne snel op te zetten (1 2 3 systeem) v...  Not found in list   \n",
       "30    Camp-let concorde vouwwagen! Bouwjaar:2004 led...  Not found in list   \n",
       "...                                                 ...                ...   \n",
       "984   Super leuke retro alpenkreutzer vouwwagen incl...  Not found in list   \n",
       "985   Hierbij bied ik te koop leuke nette vouwwagen ...  Not found in list   \n",
       "987   Ontdek de ultieme kampeerervaring met onze pra...  Not found in list   \n",
       "999   Nette taga mountain ranger 2000. Kan zeker nog...  Not found in list   \n",
       "1001  Te koop vouwwagen uit het jaar 2000. Gerjak ta...  Not found in list   \n",
       "\n",
       "     construction_year  price_eur  \n",
       "8                 2016     4750.0  \n",
       "16                2006     1900.0  \n",
       "18                2022     5825.0  \n",
       "25                1997      350.0  \n",
       "30                2004     1750.0  \n",
       "...                ...        ...  \n",
       "984               <NA>        0.0  \n",
       "985               1996      850.0  \n",
       "987               <NA>     8500.0  \n",
       "999               <NA>      699.0  \n",
       "1001              <NA>      250.0  \n",
       "\n",
       "[186 rows x 6 columns]"
      ]
     },
     "execution_count": 27,
     "metadata": {},
     "output_type": "execute_result"
    }
   ],
   "source": [
    "def get_production_year(x):\n",
    "    # bla bla\n",
    "    if pd.isna(x):\n",
    "        return pd.NA\n",
    "    else:\n",
    "        return int(x[0]['value'])\n",
    "    \n",
    "def get_price(x):\n",
    "    # return 1\n",
    "    # print(x)\n",
    "    if pd.isna(x):\n",
    "        return pd.NA\n",
    "    else:\n",
    "        return x['priceCents']/100\n",
    "    \n",
    "def get_manufacturer(x):\n",
    "    ManufacturerList = ['Jamet', 'Holtkamper', 'Combi Camp','Aart Kok','Alpenkreuzer','Kip','Cabanon','Campooz','Trigano','Raclet','Camp-Let','Paradiso','Roadmaster','Gerjak','Rapido','3Dog','Conway']\n",
    "    for Manufacturer in ManufacturerList:\n",
    "        if x.lower().find(Manufacturer.lower()) > -1:\n",
    "            return Manufacturer\n",
    "    return 'Not found in list'\n",
    "\n",
    "\n",
    "df_ads['price_eur'] = df_ads['priceInfo'].apply(get_price)\n",
    "df_ads['construction_year'] = df_ads['attributes'].apply(get_production_year)\n",
    "df_ads['Manufacturer'] = df_ads['title'].apply(get_manufacturer)\n",
    "\n",
    "df_ads[df_ads['Manufacturer']=='Not found in list'][['itemId','title','description','Manufacturer','construction_year','price_eur']]\n"
   ]
  },
  {
   "cell_type": "code",
   "execution_count": 28,
   "metadata": {},
   "outputs": [
    {
     "data": {
      "application/vnd.plotly.v1+json": {
       "config": {
        "plotlyServerURL": "https://plot.ly"
       },
       "data": [
        {
         "customdata": [
          [
           "m2013609411",
           "Holtkamper Kyte XL met Windforce"
          ],
          [
           "m2013253836",
           "Holtkamper Cocoon S (2013)"
          ],
          [
           "m2011942847",
           "Holtkamper Cocoon S, model 2008 met Greenbox keuken"
          ],
          [
           "m2005396366",
           "Holtkamper Spacer (2015) trailer uitvoering"
          ],
          [
           "m2013659178",
           "Holtkamper Flyer Expedition (Whitebox Disselkeuken/Imperial)"
          ],
          [
           "m2013402208",
           "Holtkamper Kyte Vouwwagen in prima staat! Veel extra's! 2011"
          ],
          [
           "m2013367845",
           "Holtkamper Cocoon M Expedition MTT 2011"
          ],
          [
           "m2013524962",
           "Holtkamper Cocoon XL"
          ],
          [
           "m2005908822",
           "Holtkamper flyer met veel extra’s"
          ],
          [
           "m2013377352",
           "Holtkamper flyer jeans blauw"
          ],
          [
           "m2013324842",
           "Holtkamper cocoon modulair 2014"
          ],
          [
           "m2013298077",
           "Holtkamper Feluka incl. keuken, compleet en waterdicht"
          ],
          [
           "m2013278263",
           "Holtkamper Cocoon XL 2011"
          ],
          [
           "m2013066418",
           "Holtkamper Cocoon Aero"
          ],
          [
           "m2013058027",
           "Holtkamper Cocoon xl Vouwwagen 2006 in zeer goede staat"
          ],
          [
           "m2010095560",
           "Holtkamper Spacer 2004"
          ],
          [
           "m2012998942",
           "Holtkamper cocoon Aero Membrane Airco MTT bouwjaar 2017"
          ],
          [
           "m2009951953",
           "Holtkamper Flyer Expedition Bedouin, in uitstekende staat!"
          ],
          [
           "m2009093673",
           "Holtkamper spacer expedition (2003)"
          ],
          [
           "m2012781645",
           "Holtkamper Cocoon M Expedition"
          ],
          [
           "m2007832666",
           "Holtkamper Cocoon Aero Wind Force 2015"
          ],
          [
           "m2012685378",
           "Holtkamper Flyer Bedouin 2001, incl Keuken"
          ],
          [
           "m2009467629",
           "Holtkamper Aero Zonder windforce"
          ],
          [
           "m2011766318",
           "Holtkamper Aero Zonder windforce"
          ],
          [
           "m2009462789",
           "Holtkamper Cocoon MTT met HPL blad ''NIEUW'"
          ],
          [
           "m2012611392",
           "Holtkamper Aero Combinatie Model"
          ],
          [
           "m2012579409",
           "Holtkamper Cocoon 2022"
          ],
          [
           "m2012546134",
           "Holtkamper Cocoon Top Edition met keuken en zonnestroom"
          ],
          [
           "m2012535665",
           "Nette Holtkamper Spacer Expedition met WhiteBox keuken"
          ],
          [
           "m2012123436",
           "Holtkamper Cocoon Expedition, 2009"
          ],
          [
           "m2012446071",
           "Holtkamper Spacer vouwwagen"
          ],
          [
           "m2012279745",
           "Mooie Holtkamper Astro Expedition"
          ],
          [
           "m2012260406",
           "Holtkamper Astro Vouwwagen 2011"
          ],
          [
           "m2012080757",
           "Vouwwagen Holtkamper Cocoon xl"
          ],
          [
           "m2011944535",
           "Holtkamper Flyer"
          ],
          [
           "m2001411329",
           "Holtkamper Flyer Expedition met whitebox disselkeuken"
          ],
          [
           "m2011639258",
           "Holtkamper Cocoon XL"
          ],
          [
           "m2011529375",
           "Holtkamper Kyte XL Windforce 2016 (1e eigenaar)"
          ],
          [
           "m2011381101",
           "Holtkamper Family"
          ],
          [
           "m1981301646",
           "vouwwagen Holtkamper Flyer"
          ],
          [
           "m2000711406",
           "Holtkamper Spacer Explorer"
          ],
          [
           "m2011181042",
           "Holtkamper Cocoon M"
          ],
          [
           "m2011142892",
           "Holtkamper Flyer Expedition"
          ],
          [
           "m2011060288",
           "Holtkamper cocoon"
          ],
          [
           "m2010996036",
           "Holtkamper cocoon xl"
          ],
          [
           "m2010967194",
           "Holtkamper Flyer (retro)"
          ],
          [
           "m2010937101",
           "Holtkamper Astro XL uit 2006"
          ],
          [
           "m2010741307",
           "Holtkamper Cocoon M"
          ],
          [
           "m2010692075",
           "Holtkamper feluka vouwwagen"
          ],
          [
           "m2010998064",
           "Holtkamper Cocoon XL (2014)"
          ],
          [
           "m2010375317",
           "holtkamper family"
          ],
          [
           "m2010280109",
           "Holtkamper-kindertent M - €400 met vast grondzeil en hor"
          ],
          [
           "m2010254808",
           "Holtkamper Flyer Expedition Bedouin"
          ],
          [
           "m2010148252",
           "Holtkamper Astro vouwwagen 2001"
          ],
          [
           "m2010128362",
           "vouwwagen Holtkamper spacer  expedition"
          ],
          [
           "m2010028956",
           "Holtkamper Astro XL"
          ],
          [
           "m2009757123",
           "Holtkamper cocoon met basekitchen xxl"
          ],
          [
           "m2009597674",
           "holtkamper flyer \"retro\""
          ],
          [
           "m2000124271",
           "Vouwwagen Holtkamper Feluka 6 prs whitebox keuken"
          ],
          [
           "m1968880897",
           "Complete Holtkamper Flyer Expedition"
          ],
          [
           "m2007969897",
           "Holtkamper Flyer Expedition Vouwwagen (2004)"
          ],
          [
           "m2007636581",
           "Holtkamper Cocoon M"
          ],
          [
           "m2007540738",
           "Holtkamper Cocoon modulair MTT 2015"
          ],
          [
           "m2007436147",
           "Holtkamper flyer te koop"
          ],
          [
           "m2006560518",
           "Holtkamper Cocoon M 2008"
          ],
          [
           "m2006537398",
           "Holtkamper Cocoon XL met 5 slaapplaatsen en extra‘s"
          ],
          [
           "m2005666665",
           "Prachtige Holtkamper Cocoon"
          ],
          [
           "m2005498250",
           "Holtkamper family vouwwagen"
          ],
          [
           "m2004841412",
           "Holtkamper astro overkompeet!"
          ],
          [
           "m1985131298",
           "GLAMPING in mooie HOLTKAMPER FLYER membrane met airco wer"
          ],
          [
           "m1994345466",
           "HOLTKAMPER FAMILY Vouwwagen"
          ]
         ],
         "hovertemplate": "Manufacturer=Holtkamper<br>construction_year=%{x}<br>price_eur=%{y}<br>itemId=%{customdata[0]}<br>title=%{customdata[1]}<extra></extra>",
         "legendgroup": "Holtkamper",
         "marker": {
          "color": "#636efa",
          "symbol": "circle"
         },
         "mode": "markers",
         "name": "Holtkamper",
         "orientation": "v",
         "showlegend": true,
         "type": "scatter",
         "x": [
          2015,
          2013,
          2008,
          2015,
          1990,
          2011,
          null,
          2007,
          null,
          null,
          2014,
          null,
          2011,
          2013,
          null,
          2004,
          null,
          2001,
          null,
          2011,
          2015,
          2001,
          null,
          2023,
          2023,
          2023,
          2022,
          2012,
          2005,
          null,
          2002,
          2020,
          2011,
          2004,
          2015,
          null,
          2010,
          2016,
          null,
          2000,
          2006,
          2004,
          null,
          2005,
          null,
          null,
          2006,
          2005,
          null,
          2014,
          null,
          2017,
          2005,
          2001,
          2006,
          null,
          null,
          1987,
          null,
          2006,
          null,
          2005,
          2015,
          1995,
          2008,
          null,
          null,
          null,
          2003,
          2005,
          2000
         ],
         "xaxis": "x",
         "y": [
          15950,
          7000,
          4900,
          0,
          900,
          11950,
          6600,
          5500,
          750,
          750,
          6750,
          1450,
          6800,
          12500,
          3000,
          0,
          20750,
          5900,
          2500,
          7395,
          14000,
          4750,
          18295,
          18495,
          21495,
          22895,
          0,
          0,
          2500,
          4000,
          3750,
          4825,
          6000,
          2850,
          2500,
          900,
          6250,
          18500,
          445,
          1150,
          0,
          2200,
          1000,
          3000,
          4500,
          850,
          0,
          0,
          1200,
          9000,
          450,
          400,
          3900,
          2500,
          350,
          4200,
          2950,
          500,
          1700,
          5500,
          0,
          3850,
          12500,
          0,
          1450,
          3400,
          3950,
          0,
          0,
          6950,
          750
         ],
         "yaxis": "y"
        },
        {
         "customdata": [
          [
           "m2013406244",
           "Jamet Dakota outdoor 2019 met easy pack system"
          ],
          [
           "m2013363332",
           "Vouwwagen Jamet Dakota All Season (zelfreinigend dak)"
          ],
          [
           "m2008112387",
           "Jamet Montana vouwwagen"
          ],
          [
           "m2007326989",
           "Zeer nette Jamet Louisiana te koop bouwjaar 2015"
          ],
          [
           "m2012087742",
           "Jamet Jametic Rondo XL vouwwagen"
          ],
          [
           "m2011663604",
           "Jamet Louisiana"
          ],
          [
           "m2004467674",
           "Mooie Jamet Jametic 2007 met lattenbodem en 13 inch wielen"
          ],
          [
           "m2013598714",
           "Vouwwagen Jamet Jametic uit 2006 (1,2,3) MET GASTENVERBLIJF!"
          ],
          [
           "m2011295291",
           "Jamet Louisiana Vouwwagen uit 2011"
          ],
          [
           "m2008041908",
           "Jamet Jametic 2019 all season, luifel, nw banden evt uitbouw"
          ],
          [
           "m2013398202",
           "Jamet Jametic 2005"
          ],
          [
           "m2013590227",
           "Jamet Dakota vouwwagen (zeer nette complete vouwwagen)"
          ],
          [
           "m2013585282",
           "jamet montana"
          ],
          [
           "m1983568116",
           "Jamet jametic 2003"
          ],
          [
           "m1993067794",
           "Jamet Jametic all season"
          ],
          [
           "m2013565407",
           "Jamet arizona all season"
          ],
          [
           "m2013515381",
           "6-8 persoons vouwwagen van Jamet"
          ],
          [
           "m2013463108",
           "keurig nette Jamet Arizona vouwwagen"
          ],
          [
           "m2013435413",
           "Jamet Dakota bouwjaar.2018"
          ],
          [
           "m2013417771",
           "Jamet Jametic Outdoor 2023"
          ],
          [
           "m2007041814",
           "Jamet Jametic 2004 met veel extra's"
          ],
          [
           "m1999092989",
           "Vouwwagen Jamet Arizona 6 tot 8 persoons met imperial"
          ],
          [
           "m2013406882",
           "Jamet vouwwagen"
          ],
          [
           "m1992900325",
           "Jamet arizona 4 tot 8 personen uit 2005"
          ],
          [
           "m2008944362",
           "Jamet Rondo XL"
          ],
          [
           "m2002806520",
           "Jamet Arizona 2005"
          ],
          [
           "m2008351787",
           "Mooie jamet Arizona uit 2005 limited edition."
          ],
          [
           "m1992878324",
           "vouwwagen Jametic 4x4"
          ],
          [
           "m2013360135",
           "Jamet jamet 2016, dealeronderhouden incl. Inboedel"
          ],
          [
           "m1983238459",
           "Jamet vouwwagen compleet met inrichten"
          ],
          [
           "m2009939948",
           "Nette Jamet Dakota Vouwwagen Compleet 2010"
          ],
          [
           "m2013284658",
           "Vouwwagen Jamet Trigano"
          ],
          [
           "m2013281328",
           "Vouwwagen Jamet Arizona"
          ],
          [
           "m2013272515",
           "Jamet Duo luxe XL 2021"
          ],
          [
           "m2013228190",
           "Vouwwagen jamet air uit 2019."
          ],
          [
           "m1983141409",
           "Vouwwagen Jamet Arizona 2003 8 personen"
          ],
          [
           "m2013201347",
           "Te koop MOET WEG VANDAAG Z.g.o.h jamet Louisiana grl 2004"
          ],
          [
           "m2013189237",
           "Vouwwagen Jamet Dakota outdoor in nette staat"
          ],
          [
           "m2013175189",
           "jamet jametic panorama"
          ],
          [
           "m2013175228",
           "Jamet Arizona 1998"
          ],
          [
           "m2013174335",
           "Jamet"
          ],
          [
           "m1983067950",
           "Te koop, zeer mooie Jametic. Laatste week dan ga ik van MP"
          ],
          [
           "m1993292553",
           "Jamet Jametic panorama mooi en met nieuwe banden"
          ],
          [
           "m2013071459",
           "Jamet Louisiana AS 2013, disselbak, tempo 100, verlengd zeil"
          ],
          [
           "m2013069631",
           "Vouwwagen Jamet Rondo XL 2013"
          ],
          [
           "m2002430471",
           "Vouwwagen Jamet  Arizona 1997 blauw,grijs,groen"
          ],
          [
           "m2012923656",
           "Jamet 123"
          ],
          [
           "m2003448261",
           "vouwwagen - Jamet Arizona"
          ],
          [
           "m2012900603",
           "Jamet lousiana 2001"
          ],
          [
           "m2012898601",
           "Te koop vouwwagen jamet"
          ],
          [
           "m1992414501",
           "Vouwwagen Jamet Lousiana 1998"
          ],
          [
           "m2012855693",
           "Jamet Jametic vouwwagen, bouwjaar 2007"
          ],
          [
           "m2012820613",
           "Jamet Dakota"
          ],
          [
           "m2012814745",
           "Jamet Arizona Vouw wagen -2010"
          ],
          [
           "m2012779900",
           "Vouwwagen Jamet Louisiana, 6persoons"
          ],
          [
           "m2012759991",
           "Jamet vouwagen."
          ],
          [
           "m2012755763",
           "Jamet Canyon"
          ],
          [
           "m1992275192",
           "Jamet Arizona met fietsendrager"
          ],
          [
           "m1982667298",
           "Jamet Arizona All season mooi met lattenbodems"
          ],
          [
           "m2012689355",
           "Vouwwagen jamet arizona 6-8personen met imperiaal en luifel"
          ],
          [
           "m2012688559",
           "Jamet Louisiana 1997"
          ],
          [
           "m2012686830",
           "Jamet montana vouwagen"
          ],
          [
           "m2012686459",
           "Jamet Arizona 6-8 pers. uit 2007 met inventaris"
          ],
          [
           "m2012679324",
           "Jamet Arizona 6 á 8 pers bwjr 2002"
          ],
          [
           "m2012671378",
           "Jamet Panorama easy acces 2017"
          ],
          [
           "m2012992804",
           "Jamet rondo panorama xl 2012"
          ],
          [
           "m2012600859",
           "Vouwwagen Jamet Dakota 2009"
          ],
          [
           "m2012583968",
           "Jamet Arizona 2003  met luifel"
          ],
          [
           "m2012530916",
           "Jamet Montana de luxe vouwwagen 1999"
          ],
          [
           "m2012528882",
           "Vouwwagen Jametic Outdoor -2016"
          ],
          [
           "m2010167882",
           "Jamet Arizona 2005 - Bovag onderhouden - nieuwe banden"
          ],
          [
           "m2011797421",
           "Jamet Dakota outdoor AS 2016"
          ],
          [
           "m2012463199",
           "Jamet Dakota Outdoor AS + Luifel  2011"
          ],
          [
           "m2012802293",
           "jamet jametic met uitbouw"
          ],
          [
           "m2012419497",
           "Nette Jamet Jametic uit 2004, 1-2-3 Opzet systeem"
          ],
          [
           "m2012412125",
           "Vouwwagen Jamet Arizona 2005 +fietsimperiaal, zeer compleet!"
          ],
          [
           "m2012391006",
           "Vouwwagen jamet Louisiana."
          ],
          [
           "m2012369839",
           "Jamet vouwcaravan met voortent ,ready to go"
          ],
          [
           "m2001781271",
           "Jamet Jametic 1,2,3 systeem LOWBUDGET ! met luifel"
          ],
          [
           "m2012364652",
           "Jamet Jametic Jametic off road"
          ],
          [
           "m2012300848",
           "Jamet dakota 2010"
          ],
          [
           "m2012247610",
           "Vouwwagen Jamet Arizona 2003 - All season - lattenbodem"
          ],
          [
           "m2006884158",
           "Jamet Jametic @4 Rondo Panorama XL CP 7p o.a. Gastencabine"
          ],
          [
           "m1996129921",
           "Jamet Arizona"
          ],
          [
           "m2010589548",
           "Vouwwagen Jamet arizona 6/8 pers."
          ],
          [
           "m2012181502",
           "Jamet Arizona All Season 2019"
          ],
          [
           "m2001477532",
           "Jamet ARIZONA 2007 in goede staat met luifel MARGE"
          ],
          [
           "m2011929500",
           "Vouwwagen jamet 123"
          ],
          [
           "m2011914263",
           "Jamet Dakota 2016 Vouwwagen 6+ personen"
          ],
          [
           "m2011885034",
           "Vouwwagen Jamet Dacota"
          ],
          [
           "m2011871862",
           "Ruime complete Jamet Louisiana Vouwwagen 2011"
          ],
          [
           "m2011870455",
           "Jamet Jametic Outdoor 2020"
          ],
          [
           "m2011841523",
           "Jamet Louisiana 2016 Disselbak,Luifel,Kuipzeil"
          ],
          [
           "m2011841291",
           "Jamet Louisiana 2014 Kuipzeil,Luifel,Disselbak"
          ],
          [
           "m2011841032",
           "Jamet Jametic luifel,lattenbodem,disbak"
          ],
          [
           "m2011840885",
           "Jamet Arizona luifel,kuipzeil,dis bak"
          ],
          [
           "m2011792015",
           "Vouwwagen Jamet Arizona 2004"
          ],
          [
           "m2011693605",
           "Jametic Vouwwagen uit 2001"
          ],
          [
           "m2009352808",
           "Jamet louissianna"
          ],
          [
           "m2011544052",
           "Te koop Jamet Louisiana 1993"
          ],
          [
           "m1999561970",
           "Jamet Louisiana"
          ],
          [
           "m2011825880",
           "Jamet keuken wielen"
          ],
          [
           "m2000947555",
           "Nette jamet Arizona met extra's."
          ],
          [
           "m2001230026",
           "Vouwwagen Gerjak Tago Ranger (bj 2009) (Jamet, alpenkreuzer)"
          ],
          [
           "m2011699200",
           "Vouwwagen Jamet Arizona 4/8 persoons 2002"
          ],
          [
           "m2004635041",
           "Jamet Jametic 2005"
          ],
          [
           "m2011304646",
           "Jamet Louisiana 2006 met lattenbodems"
          ],
          [
           "m2011296605",
           "Jamet jametic 1-2-3 systeem vouwwagen"
          ],
          [
           "m2006194936",
           "Jametic 2004"
          ],
          [
           "m2001074157",
           "2004 Jamet Arizona 4/8 persoons vouwwagen"
          ],
          [
           "m2011187715",
           "Vouwwagen Jamet Jametic 123"
          ],
          [
           "m2011184366",
           "Jamet Dakota obelink special 2023 nieuw"
          ],
          [
           "m1981255549",
           "Jamet vouwwagen 6/8 persoons"
          ],
          [
           "m2011139661",
           "Vouwwagen Jamet Jametic uit 1999"
          ],
          [
           "m2011126541",
           "Jamet Jametic overcompleet 2006"
          ],
          [
           "m2011100897",
           "Jamet Rondo te koop"
          ],
          [
           "m2011100236",
           "Jamet Louisiana 2009"
          ],
          [
           "m2011087328",
           "Jamet Louissiana 2012 inclusief"
          ],
          [
           "m2011002323",
           "Jamet Texas super luxe"
          ],
          [
           "m2010996905",
           "Jamet Jametic met gastencabine"
          ],
          [
           "m2011350860",
           "Jamet vouwagen met impriaal fietsdrager en dakkoffer"
          ],
          [
           "m2005357419",
           "Vouwwagen Jamet Arizona 2004"
          ],
          [
           "m2010809445",
           "Jamet Jametic All Season 2018 123 packing"
          ],
          [
           "m2008974293",
           "Vouwwagen Jamet Air 2022"
          ],
          [
           "m2000281974",
           "Jamet Arizona 2003"
          ],
          [
           "m2010696242",
           "Jamet Jametic Outdoor 123 systeem"
          ],
          [
           "m2010659097",
           "Jamet Dakota outdoor vouwwagen 2021"
          ],
          [
           "m2010654181",
           "Jamet Jametic Panorama Easy access 2017"
          ],
          [
           "m2010584290",
           "Jamet Jametic 4x4"
          ],
          [
           "m1990761013",
           "Jamet Jametic 123 systeem"
          ],
          [
           "m2000055456",
           "Jamet Louisiana"
          ],
          [
           "m2000419109",
           "Jamet Rondo XL incl. Stalling!"
          ],
          [
           "m2003306757",
           "vouwagen louisiana Jamet 20004/2005"
          ],
          [
           "m2010467342",
           "Jamet Jametic Panorama 123 easy access 2017"
          ],
          [
           "m2010423137",
           "Vouwwagen Jamet Arizona all-season model 2010/2011 te koop"
          ],
          [
           "m2010394609",
           "Jamet Louisiana vouwwagen"
          ],
          [
           "m2007560955",
           "Vouwwagen jamet jametic all season 2015, 1-2-3 systeem"
          ],
          [
           "m1999833010",
           "Vouwwagen JAMET-montana met fietsrek"
          ],
          [
           "m2010327372",
           "Jamet Arizona “95% travel-ready”"
          ],
          [
           "m2010259494",
           "Jamet vouwagen Louisiana"
          ],
          [
           "m2010592611",
           "Vouwwagen Jamet Arizona"
          ],
          [
           "m2010218862",
           "Vouwwagen Jamet Louisiana 2004"
          ],
          [
           "m2010211254",
           "Vouwwagen Jamet Dakota 2020"
          ],
          [
           "m2010055354",
           "Jamet jametic vouwwagen 123systeem"
          ],
          [
           "m2010030430",
           "Jamet Lousiana 5-6 pers. vouwwagen met verlengstuk en keuken"
          ],
          [
           "m2010011125",
           "Jamet Louisiana met fietsendrager, voortent en luifel"
          ],
          [
           "m2009999424",
           "Vouwwagen Jamet Arizona (2004) met imperiaal en lattenbodems"
          ],
          [
           "m2004128976",
           "Jamet Kentucky"
          ],
          [
           "m1989837217",
           "JAMET Louisianna 2001   Crème kleur met bruin  8 pers"
          ],
          [
           "m2009955564",
           "Vouwwagen jamet de luxe"
          ],
          [
           "m2009947999",
           "Vouwwagen Jamet 6/8 persoons"
          ],
          [
           "m2009919235",
           "Jamet Louisiana vouwwagen"
          ],
          [
           "m2009895468",
           "Te koop: JAMET JAMETIC 1-2-3 vouwwagen"
          ],
          [
           "m2009763043",
           "Jamet Arizona 1999"
          ],
          [
           "m2009722157",
           "Jamet Louisiana vouwwagen"
          ],
          [
           "m1989600025",
           "Vouwwagen Jamet Texas de Luxe"
          ],
          [
           "m1979787705",
           "jamet louisiana 2005"
          ],
          [
           "m2009696493",
           "Vouwwagen Jamet Air 2017 8 personen"
          ],
          [
           "m2009630701",
           "Vouwwagen Jamet te koop"
          ],
          [
           "m2009626966",
           "Complete Jamet Jametic vouwwagen 2003"
          ],
          [
           "m2009602872",
           "Jamet Arizona 2008"
          ],
          [
           "m2006569435",
           "Jamet Arizona van 2002"
          ],
          [
           "m2009571249",
           "Jamet Dakota vouwwagen 2010 met inritsbaarkuipzeil"
          ],
          [
           "m2009527988",
           "vouwwagen Jamet  Louisiana 5-6 persoons"
          ],
          [
           "m2009494834",
           "Vouwwagen Jamet Dakota"
          ],
          [
           "m2009375116",
           "Vouwwagen Jamet"
          ],
          [
           "m2009260600",
           "Jamet vouwwagen."
          ],
          [
           "m2009159994",
           "Jamet montana vouwwagen uit 2000 4 tot 6 personen"
          ],
          [
           "m2005566179",
           "Jamet Jametic te koop"
          ],
          [
           "m2009133688",
           "Jamet Rondo XL vouwwagen"
          ],
          [
           "m2009084617",
           "Jamet montana 1995"
          ],
          [
           "m2007324793",
           "In goede staat verkerende Jamet Louisiana uit 2012"
          ],
          [
           "m1998574108",
           "Jamet vouwwagen met luifel type Jametic 123"
          ],
          [
           "m2008586461",
           "Mooie jamet texas super luxe"
          ],
          [
           "m2008851935",
           "Jamet Arizona zeer compleet"
          ],
          [
           "m2008793835",
           "Vouwwagen Jamet Canyon"
          ],
          [
           "m2008751729",
           "Vouwwagen jamet  arizona 2007"
          ],
          [
           "m1998158557",
           "vouwwagen Jamet Luisiana Texas"
          ],
          [
           "m1978491683",
           "Vouwwagen Jamet Louisiana"
          ],
          [
           "m2008379716",
           "Jamet Jametic vouwwagen"
          ],
          [
           "m2008371854",
           "Jamet Arizona Vouwwagen"
          ],
          [
           "m2008344744",
           "Zeer nette en complete Jamet Jametic 123 systeem bj 2002"
          ],
          [
           "m2008128990",
           "Jamet Vouwwagen Arizona"
          ],
          [
           "m2008096799",
           "jamet air 2022"
          ],
          [
           "m2008038630",
           "Jamet jametic 123 opzetsysteem"
          ],
          [
           "m2007975650",
           "Jametic Rondo XL Panorama voor 4 tot 6 personen."
          ],
          [
           "m2005171835",
           "Vouwwagen Jamet Louisiana 2008"
          ],
          [
           "m2007754616",
           "Jamet Air 2023 nu in onze showroom"
          ],
          [
           "m2007731732",
           "Jamet Dakota in nieuwstaat"
          ],
          [
           "m1997397128",
           "Jamet vouwwagen let op zonder luifel"
          ],
          [
           "m1997347519",
           "Jamet Arizona 2003: ruime 8-persoons vouwwagen"
          ],
          [
           "m2007488897",
           "Jamet Jametic Panorama Easy Access 2017"
          ],
          [
           "m1997283959",
           "Vouwagen jamet Arizona 2000"
          ],
          [
           "m1997436828",
           "Jamet Dakota Outdoor"
          ],
          [
           "m2007242769",
           "Vouwwagen Jamet Dakota Outdoor 2021"
          ],
          [
           "m2007161549",
           "Jamet Liberty vouwwagen"
          ],
          [
           "m2007075745",
           "vouwwagen jamet montana te koop"
          ],
          [
           "m2006787735",
           "Vouwwagen jamet texas super luxe bj.2003"
          ],
          [
           "m2006239730",
           "Jamet Air Ruime gezinswagen op luch"
          ],
          [
           "m2006123446",
           "Vouwwagen Jamet easy 2019"
          ],
          [
           "m2006040456",
           "Jamet Arizona 2002"
          ],
          [
           "m2006002610",
           "Jamet Air Luifel disselbak."
          ],
          [
           "m2005984725",
           "Jamet Arizona - Bijna nieuw compleet-"
          ],
          [
           "m2005822305",
           "Jamet Jametic 123 systeem"
          ],
          [
           "m2005396646",
           "Jamet arizona vouwwagen 8 persoons"
          ],
          [
           "m2005079431",
           "Leuke vouwwagen jamet montana 6persoons"
          ],
          [
           "m2004950280",
           "Jamet louisiana"
          ],
          [
           "m2004846173",
           "vouwwagen Jamet, type Jametic 2004"
          ],
          [
           "m2004652708",
           "Jamet Arizona met lattenbodems"
          ],
          [
           "m1994537441",
           "Jamet canyon 6 persoons vouwwagen"
          ],
          [
           "m2004570483",
           "Jamet Dakota 2018"
          ],
          [
           "m2004304473",
           "Jamet vouwwagen (volledig met uitrusting)"
          ],
          [
           "m1994517514",
           "jamet arizona vouwwagen 2001"
          ],
          [
           "m2004108763",
           "Jamet Jametic Outdoor 2023 Cash G0"
          ],
          [
           "m2003928386",
           "Vouwwagen Jamet Canyon"
          ],
          [
           "m2003687824",
           "Jamet Arizona te koop"
          ],
          [
           "m2003541419",
           "Jamet Jametic"
          ],
          [
           "m2003536401",
           "Jamet Louisiana"
          ],
          [
           "m2003536217",
           "Jamet Jametic"
          ],
          [
           "m2003448049",
           "Vouwwagen Jamet Arizona - klaar voor vertrek"
          ],
          [
           "m2002049333",
           "Jamet Panorama"
          ],
          [
           "m2001978105",
           "Jamet Jametic Blue Style"
          ]
         ],
         "hovertemplate": "Manufacturer=Jamet<br>construction_year=%{x}<br>price_eur=%{y}<br>itemId=%{customdata[0]}<br>title=%{customdata[1]}<extra></extra>",
         "legendgroup": "Jamet",
         "marker": {
          "color": "#EF553B",
          "symbol": "circle"
         },
         "mode": "markers",
         "name": "Jamet",
         "orientation": "v",
         "showlegend": true,
         "type": "scatter",
         "x": [
          null,
          2017,
          null,
          2015,
          2012,
          1998,
          null,
          2006,
          2011,
          2019,
          null,
          2016,
          null,
          2003,
          2015,
          2021,
          null,
          null,
          null,
          2023,
          2004,
          2004,
          null,
          null,
          2010,
          2005,
          null,
          2012,
          null,
          null,
          2010,
          2007,
          2010,
          null,
          2019,
          2003,
          2004,
          null,
          2015,
          null,
          null,
          null,
          2013,
          2013,
          null,
          null,
          null,
          2004,
          null,
          null,
          1998,
          2007,
          2011,
          2010,
          2002,
          null,
          null,
          2004,
          2011,
          2002,
          null,
          null,
          2007,
          2002,
          2017,
          null,
          2009,
          null,
          1999,
          2016,
          null,
          2016,
          2011,
          2002,
          null,
          null,
          1997,
          null,
          2000,
          2013,
          2010,
          2003,
          2011,
          1997,
          1997,
          2019,
          2007,
          2007,
          2016,
          null,
          2011,
          2019,
          2016,
          2014,
          2005,
          2017,
          2004,
          2001,
          null,
          null,
          2003,
          null,
          null,
          null,
          2002,
          null,
          null,
          2004,
          null,
          2004,
          null,
          null,
          null,
          null,
          null,
          null,
          null,
          2012,
          null,
          2009,
          null,
          2004,
          2018,
          2022,
          null,
          2022,
          2021,
          2017,
          2012,
          2003,
          null,
          null,
          2004,
          2017,
          2010,
          1997,
          2015,
          null,
          null,
          1999,
          null,
          2004,
          2021,
          null,
          1994,
          null,
          null,
          2006,
          2001,
          null,
          2004,
          1999,
          2004,
          1999,
          2004,
          2002,
          2005,
          null,
          null,
          null,
          null,
          2002,
          2011,
          1993,
          null,
          null,
          2007,
          2000,
          null,
          2011,
          null,
          null,
          null,
          null,
          2004,
          1994,
          2007,
          null,
          null,
          null,
          null,
          null,
          null,
          2022,
          null,
          2012,
          null,
          2023,
          2017,
          null,
          2003,
          2017,
          2000,
          2010,
          2021,
          null,
          null,
          null,
          2023,
          2019,
          2002,
          2022,
          2021,
          null,
          1997,
          null,
          2006,
          2003,
          2007,
          1992,
          2018,
          null,
          2001,
          2023,
          1993,
          2005,
          2012,
          1996,
          2011,
          2012,
          2014,
          2014
         ],
         "xaxis": "x",
         "y": [
          7250,
          6000,
          650,
          5800,
          3500,
          0,
          1050,
          1750,
          2700,
          6650,
          600,
          5750,
          200,
          450,
          4500,
          10500,
          2550,
          450,
          5500,
          9650,
          1200,
          750,
          450,
          1000,
          2100,
          0,
          500,
          3250,
          0,
          1800,
          3250,
          2600,
          1500,
          8750,
          7450,
          0,
          825,
          3250,
          4500,
          800,
          800,
          1400,
          2595,
          4500,
          4500,
          400,
          100,
          0,
          750,
          875,
          650,
          1000,
          3250,
          2750,
          800,
          400,
          450,
          1500,
          2850,
          1400,
          500,
          800,
          1400,
          0,
          6750,
          3500,
          0,
          1000,
          450,
          4600,
          0,
          3900,
          3000,
          0,
          0,
          0,
          500,
          385,
          750,
          3995,
          1750,
          0,
          0,
          600,
          500,
          0,
          1750,
          0,
          5500,
          0,
          3900,
          0,
          6950,
          4950,
          1500,
          6500,
          1100,
          2250,
          0,
          1990,
          850,
          135,
          1150,
          1200,
          1999,
          0,
          1100,
          1100,
          0,
          700,
          0,
          8500,
          325,
          750,
          1250,
          0,
          2800,
          3150,
          550,
          1800,
          600,
          0,
          6500,
          0,
          675,
          7995,
          7000,
          5975,
          3100,
          750,
          0,
          1950,
          600,
          0,
          0,
          550,
          0,
          300,
          0,
          400,
          1050,
          500,
          7500,
          0,
          600,
          1500,
          1250,
          1250,
          0,
          900,
          0,
          250,
          1750,
          0,
          1125,
          1000,
          1000,
          6750,
          1750,
          700,
          1800,
          750,
          1750,
          0,
          5500,
          600,
          0,
          450,
          850,
          0,
          395,
          4500,
          750,
          0,
          0,
          600,
          1250,
          0,
          0,
          0,
          400,
          1500,
          1150,
          9500,
          0,
          3900,
          0,
          11395,
          4950,
          500,
          1250,
          0,
          750,
          3800,
          0,
          1050,
          750,
          500,
          10650,
          4700,
          0,
          0,
          10500,
          3100,
          900,
          500,
          1250,
          3000,
          1495,
          650,
          6750,
          475,
          800,
          9650,
          0,
          0,
          3295,
          795,
          2995,
          0,
          0,
          3995
         ],
         "yaxis": "y"
        },
        {
         "customdata": [
          [
           "m2013201620",
           "Combi Camp Flexi Comfort XL - 2020 - Katoen - Boogluifel"
          ],
          [
           "m2011859316",
           "Combi Camp Country vouwwagen 2021 model 2022"
          ],
          [
           "m2011489639",
           "Combi Camp Valley 2010 met Varioluifel, Gastencabine & Mover"
          ],
          [
           "m2013582687",
           "Complete Combi Camp Country 2011 met grote boogluifel"
          ],
          [
           "m2010436853",
           "Combi Camp Easy vintage"
          ],
          [
           "m2013402644",
           "Combi Camp Flexi Comfort XL met boogluifel"
          ],
          [
           "m2013658566",
           "Combi camp Venezia"
          ],
          [
           "m2013573708",
           "Combi Camp vouwwagen Venezia/Country"
          ],
          [
           "m2002955287",
           "Combi camp venezia"
          ],
          [
           "m2002861774",
           "Combi Camp vouwwagen 1965"
          ],
          [
           "m2013436834",
           "Combi Camp Country met gastencabine 2005"
          ],
          [
           "m2013076633",
           "Combi Camp venezia 2007"
          ],
          [
           "m2012748992",
           "Combi camp Flexi, tent & trailer."
          ],
          [
           "m2005834669",
           "Combi Camp"
          ],
          [
           "m2012644345",
           "Combi camp"
          ],
          [
           "m2012605988",
           "Combi Camp Flexi T&T mei 2021 met nieuwe boogluifel en hor"
          ],
          [
           "m2012482244",
           "Combi Camp Country"
          ],
          [
           "m2012460700",
           "Combi Camp Country"
          ],
          [
           "m2012312446",
           "Combi Camp voortent en wagentent"
          ],
          [
           "m2012296058",
           "Combi camp country  Xclusive 2019"
          ],
          [
           "m2011684534",
           "Combi Camp Venezia"
          ],
          [
           "m2011570287",
           "Combi camp country 2016"
          ],
          [
           "m2010969034",
           "Combi Camp Venezia met gastencabine"
          ],
          [
           "m2009888695",
           "Vouwwagen Combi Camp Valley 2007"
          ],
          [
           "m1998299499",
           "Gevraagd Combi Camp Country voortent en/of voortent frame."
          ],
          [
           "m1997828817",
           "Combi Camp Flexi Comfort XL 2016"
          ],
          [
           "m2000320614",
           "Combi Camp Valley met gastencabine, keuken, disselbak & meer"
          ],
          [
           "m2008176339",
           "Vouwwagen Combi Camp Country"
          ],
          [
           "m1987784942",
           "Combi camp valley 2010 in prima staat."
          ],
          [
           "m2007455954",
           "Combi Camp Country Zeer netjes en compleet"
          ],
          [
           "m1996476072",
           "Vouwwagen | Combi Camp - Panda"
          ],
          [
           "m2006203275",
           "Combi Camp FLEXI met boogluifel 2020"
          ],
          [
           "m2005976654",
           "Vouwwagen Combi Camp Flexi Comfort XL 2016"
          ],
          [
           "m2003661732",
           "Vouwwagen Combi Camp 4 persoons (nieuwe foto's)"
          ]
         ],
         "hovertemplate": "Manufacturer=Combi Camp<br>construction_year=%{x}<br>price_eur=%{y}<br>itemId=%{customdata[0]}<br>title=%{customdata[1]}<extra></extra>",
         "legendgroup": "Combi Camp",
         "marker": {
          "color": "#00cc96",
          "symbol": "circle"
         },
         "mode": "markers",
         "name": "Combi Camp",
         "orientation": "v",
         "showlegend": true,
         "type": "scatter",
         "x": [
          2020,
          2021,
          2010,
          2011,
          1991,
          2016,
          null,
          null,
          null,
          1965,
          2005,
          2006,
          null,
          2005,
          null,
          null,
          2010,
          null,
          null,
          null,
          2003,
          null,
          2003,
          2007,
          null,
          2016,
          2011,
          null,
          null,
          2008,
          1999,
          2020,
          2016,
          null
         ],
         "xaxis": "x",
         "y": [
          9500,
          18750,
          0,
          6000,
          0,
          7250,
          1500,
          7950,
          2850,
          0,
          4950,
          3500,
          4125,
          2950,
          3950,
          0,
          0,
          0,
          0,
          13000,
          0,
          9950,
          2000,
          0,
          0,
          8000,
          7000,
          3600,
          3100,
          5750,
          0,
          7500,
          8000,
          975
         ],
         "yaxis": "y"
        },
        {
         "customdata": [
          [
           "m2007138116",
           "Vouwwagen 2016"
          ],
          [
           "m2009966572",
           "vouwwagen voor de snelle beslisser en vakantieklaar!"
          ],
          [
           "m2011714862",
           "VOUWWAGENS komen uit verhuur 1,5 jaar oud  6-7 weken gebruik"
          ],
          [
           "m2011609794",
           "CAMPLET Concorde"
          ],
          [
           "m2013636293",
           "Camplet concorde 2004"
          ],
          [
           "m2012120312",
           "Vouwwagen"
          ],
          [
           "m2005558141",
           "Combi-Camp Flexi Comfort laden/lossen XL met boogluifel"
          ],
          [
           "m2013411780",
           "Tago River vouwwagen"
          ],
          [
           "m2010805750",
           "Offroad trailer met 2 daktenten 6 persoons"
          ],
          [
           "m2013643399",
           "Combi-Camp Flexi Tent en Trailer"
          ],
          [
           "m2013630072",
           "Living luifel voor Camplet vouwwagen"
          ],
          [
           "m2013555448",
           "Leuke Vouwwagen Holycamp"
          ],
          [
           "m2013552067",
           "Te koop pennine crusader"
          ],
          [
           "m2013544428",
           "Vouwwagen Alpen Kreuzer"
          ],
          [
           "m1983362435",
           "Camplet Savanne 2008 met gastencabine"
          ],
          [
           "m2013422117",
           "Vouwwagen"
          ],
          [
           "m2002839965",
           "Vouwwagen Aard Kok Tundra"
          ],
          [
           "m1930046438",
           "TakeOff verhuur"
          ],
          [
           "m2013398223",
           "Pennine fiesta folding camper"
          ],
          [
           "m2013377079",
           "te koop vouwwagen"
          ],
          [
           "m2013306889",
           "Walker vouwwagen uit 1986 te koop"
          ],
          [
           "m2013148650",
           "Camping Car , Happy oldtimer 1960"
          ],
          [
           "m2013139070",
           "Canon Mercury"
          ],
          [
           "m2013006255",
           "Te Koop: Vouwwagen uit 1980"
          ],
          [
           "m2012986840",
           "vouwwagen"
          ],
          [
           "m2012971289",
           "Esterel U31 vouwcaravan harde wanden."
          ],
          [
           "m2012970507",
           "Oud vouwwagen"
          ],
          [
           "m2007448653",
           "KANS: Combi-camp flexi t&t laden&lossen.2023 nieuw."
          ],
          [
           "m2012919441",
           "Zeer mooie vouwwagen 5-6 pers. 2015"
          ],
          [
           "m2012901211",
           "Livingstone River Lodge Game Drive vouwwagen"
          ],
          [
           "m2012899097",
           "Te koop vouwwagen"
          ],
          [
           "m2012887440",
           "Europa camper Futura"
          ],
          [
           "m2012883839",
           "Camplet Savanne"
          ],
          [
           "m2012881723",
           "Camplet Classic 2015 vouwwagen, als nieuw!"
          ],
          [
           "m2012877711",
           "Holtcamper Cocoon XL bouwjaar 2011"
          ],
          [
           "m2002225277",
           "vintage vouwwagen"
          ],
          [
           "m2012831072",
           "Wolder Hoggar 2. Vouwwagen snelopzetter ! 4 persoons"
          ],
          [
           "m2012830097",
           "Camplet apollo plus"
          ],
          [
           "m2004378921",
           "Vouwwagen AartKok Kariba 2008"
          ],
          [
           "m2012747583",
           "Vouwwagen scout pivo"
          ],
          [
           "m2012743584",
           "Teun TTT4 vouwwagen 4-6 personen"
          ],
          [
           "m2012704550",
           "Tago Settler vouwwagen"
          ],
          [
           "m2012700233",
           "alpekreutzer"
          ],
          [
           "m2002024101",
           "Vouwwagen Walker Sunny (1984) te koop"
          ],
          [
           "m2011766238",
           "Easy Caravanning TakeOff Active Showmodel"
          ],
          [
           "m2001859609",
           "Alpen Kreuzer Mont Blanc met Heel veel extra's"
          ],
          [
           "m2012440719",
           "Alpen Kreuzer Parade 1996"
          ],
          [
           "m2012420173",
           "Combicamp Venezia"
          ],
          [
           "m2012415608",
           "Nette Caravan voor de liefhebber"
          ],
          [
           "m2010311089",
           "Vouwwagen scout Pivo"
          ],
          [
           "m2012378574",
           "Europa Camper Sunliner AVANT GARDE PAKKET + MEER"
          ],
          [
           "m2012268920",
           "Vouwwagen te koop vanaf 25 augustus."
          ],
          [
           "m2012258865",
           "vouwwagen alpen kreuzer"
          ],
          [
           "m2012201049",
           "Gordi Gear Savannah Australische  Tenttrailer | zgan |"
          ],
          [
           "m2010722574",
           "Vouwwagen te koop"
          ],
          [
           "m2012166661",
           "Vouwwagen"
          ],
          [
           "m2012156346",
           "Tago Desert Vouwwagen"
          ],
          [
           "m2009965079",
           "Zambezi River Camp"
          ],
          [
           "m2011947187",
           "Vouwwagen Alpen Kreuzer Parade"
          ],
          [
           "m2011928513",
           "Zeer nette Camplet 2Go 2017.(model 2018)"
          ],
          [
           "m2011902189",
           "Vouwwagen RoadStar zeer ruim"
          ],
          [
           "m2011887546",
           "Vouwwagen Alpen Kreuzer, Bovag gekeurd"
          ],
          [
           "m2011879790",
           "Alpen Kreuzer"
          ],
          [
           "m2011783516",
           "Alpen kreuzer"
          ],
          [
           "m1981814277",
           "vouwwagens"
          ],
          [
           "m2011683337",
           "Voortent Ventura Pacific"
          ],
          [
           "m2011597991",
           "Vouwwagen Odyssee GL 2001"
          ],
          [
           "m2007220509",
           "Bagagewagen"
          ],
          [
           "m2011490049",
           "Combicamp Sport vouwwagen met voortent ritssluiting stuk"
          ],
          [
           "m2009615053",
           "Vouwwagen te koop"
          ],
          [
           "m2011454027",
           "Camplet Passion 2019 vouwwagen"
          ],
          [
           "m2007094980",
           "Vouwwagen Alpen Kreuzer Duet"
          ],
          [
           "m2008595324",
           "Vouwwagen te koop"
          ],
          [
           "m2011169535",
           "Camplet Savanne (2008, de stoere versie)"
          ],
          [
           "m2011122676",
           "Te koop Europa Camper Futura 8 persoons vouwwagen"
          ],
          [
           "m2011083029",
           "Cabano Mistral vouwwagen"
          ],
          [
           "m2000385476",
           "Campwerk OffRoad Familie compleet met voortent/luifel"
          ],
          [
           "m2000296443",
           "Camplet Apollo"
          ],
          [
           "m2010776840",
           "Camplet concorde"
          ],
          [
           "m2010750464",
           "Holkamper flyer"
          ],
          [
           "m2010737721",
           "Prachtige vouwwagen Alpen Kreuzer Parade"
          ],
          [
           "m2010715930",
           "Alpen Kreuzer Super GT"
          ],
          [
           "m2000222879",
           "Vouwwagen 1994"
          ],
          [
           "m2010629388",
           "Camplet Royal"
          ],
          [
           "m2010588019",
           "camplet vouwwagen 1-2-3- systeem"
          ],
          [
           "m2010583267",
           "Nette James Loisiana vouwwagen"
          ],
          [
           "m2004802208",
           "Camplet Concorde (2002)"
          ],
          [
           "m1917778864",
           "Vouwwagens te huur STOER EN ROBUUST Kamperen"
          ],
          [
           "m2010520286",
           "Zambesi Original vouwwagen"
          ],
          [
           "m2010519796",
           "Campwerk family vouwwagen (verhoogde bak!)"
          ],
          [
           "m2010405597",
           "Combi-Camp FLEXI comfort uit 2022 met keuken, zeer compleet"
          ],
          [
           "m2010386001",
           "Dandy type 4 vintage vouwwagen"
          ],
          [
           "m2010313102",
           "Camplet  appolo 2001"
          ],
          [
           "m2010252521",
           "Zeer complete Smitveld Ruebist vouwwagen (2016)"
          ],
          [
           "m2010242516",
           "Leuke Camplet gepimpte vouwwagen"
          ],
          [
           "m2010236214",
           "Coleman Fleetwood rio grande Destiny  bouwjaar 1997"
          ],
          [
           "m2003312536",
           "vouwwagen"
          ],
          [
           "m2010137680",
           "Camplet concorde vouwwagen"
          ],
          [
           "m2010037975",
           "vouwwagen te koop, zeer compleet, wegens overstap caravan."
          ],
          [
           "m2010037651",
           "Vouwwagen"
          ],
          [
           "m2010027460",
           "Alpen kreuzer"
          ],
          [
           "m2010008371",
           "Per direct te koop, nette vouwwagen met koelkast ."
          ],
          [
           "m2010001731",
           "Camplet Royal super compleet en in perfecte staat!"
          ],
          [
           "m2009870738",
           "TEUN tenttrailer 4vouwwagen"
          ],
          [
           "m2009793396",
           "Vouwwagen Alpen kreutzer 4 bij 9 meter"
          ],
          [
           "m2009695641",
           "Bungalowtent te koop 4 persoon goede kwaliteit de wit"
          ],
          [
           "m2009643227",
           "Manga Deluxe met diverse opties uit 2018"
          ],
          [
           "m2009625857",
           "Vouwwagen te koop"
          ],
          [
           "m2009604877",
           "Tago camper vouwwagen"
          ],
          [
           "m2009567473",
           "Aartk Kok Tundra Vouwwagen"
          ],
          [
           "m1989467667",
           "Tago vouwwagen"
          ],
          [
           "m2009558784",
           "Gebruikte vouwwagen"
          ],
          [
           "m1979604348",
           "Gerjac Tago 2008  4tot 8 persoons"
          ],
          [
           "m2009454506",
           "Smitveld Beauvist XL 2013"
          ],
          [
           "m2009320953",
           "Smitveld Ruebist vouwwagen"
          ],
          [
           "m2009307467",
           "Keizer weekender vouwwagen 2020."
          ],
          [
           "m1998815536",
           "Vouwwagen"
          ],
          [
           "m2009238788",
           "vouwwagen"
          ],
          [
           "m2009109665",
           "Europa Camper Sunrider UIT VOORRAAD LEVERBAAR"
          ],
          [
           "m2009103170",
           "Europa Camper Sunrider Comfort - snel leverbaar -"
          ],
          [
           "m1998516252",
           "Camplet Savanne incl gastencabine en living luifel"
          ],
          [
           "m1998497063",
           "Vouwwagen"
          ],
          [
           "m2008840764",
           "Antieke jaren-60 Carstabo travelsleeper (vouwwagen)"
          ],
          [
           "m1988797325",
           "Ruime en snel op te zetten Vouwwagen voor gezin te huur"
          ],
          [
           "m1998489886",
           "Vouwwagen hoggar 3, 8 persoons"
          ],
          [
           "m1978538638",
           "Camplet concorde van 2003"
          ],
          [
           "m2008506916",
           "CAMPWERK - Offroad Black-Silver-Edition tenttrailer"
          ],
          [
           "m2008485023",
           "Keizer weekender vouwwagen 2 persoons"
          ],
          [
           "m2008316377",
           "Alpen Kreuzer parade royale 1996"
          ],
          [
           "m2008304622",
           "Multifunctionele overland 4x4 vouwwagen - trailer"
          ],
          [
           "m2008204101",
           "Alpen Kreuzer Vario 2000"
          ],
          [
           "m1997751205",
           "Vouwcaravan   ESTERELLE  met nieuwe voortent"
          ],
          [
           "m2008039230",
           "Mooie Buite lewe 1 2021 full options. Vouwwagen"
          ],
          [
           "m2008038228",
           "Canyon 2000"
          ],
          [
           "m2008037461",
           "Smitveld Beauvist 4 tot 6 pers vouwwagen zeer degelijk."
          ],
          [
           "m2007967464",
           "UNIEKE Riva Dandy Destiny vouwwagen/klapcaravan"
          ],
          [
           "m1978055531",
           "zo goed als nieuwe vouwwagen."
          ],
          [
           "m2007813691",
           "Vouwwagen"
          ],
          [
           "m1997323276",
           "vouwwagen"
          ],
          [
           "m1987804701",
           "Vouwwagen"
          ],
          [
           "m2007134256",
           "Vouwwagen  te koop"
          ],
          [
           "m2007033279",
           "Vouwwagen NIEUW wegens omstandigheden te koop niet gebruikt."
          ],
          [
           "m1987307420",
           "Camp master  mini vouwwagen"
          ],
          [
           "m1987272946",
           "Tenttrailer, trailertent, vouwwagen"
          ],
          [
           "m1966553564",
           "de wit, vouwwagen"
          ],
          [
           "m2006551159",
           "Tekoop  Chateau 380"
          ],
          [
           "m2006696150",
           "Retro Vouwwagen"
          ],
          [
           "m1998971726",
           "Sunbird Campingtrailer XXL Daktent -Tenttrailer - Vouwagen -"
          ],
          [
           "m2006632172",
           "vouwwagen"
          ],
          [
           "m2006584105",
           "Fleetwood Santa Fe pop-up caravan met voortent"
          ],
          [
           "m1986973171",
           "TAJUM tenttrailer vouwwagen 2019 (nieuwprijs €16.000)"
          ],
          [
           "m2006510494",
           "Eurocamper suncruiser"
          ],
          [
           "m2006504018",
           "Camplet vouwwagen  Savanne"
          ],
          [
           "m1976762781",
           "Tent trailer"
          ],
          [
           "m2006295750",
           "Combi-Camp Family oldtimer vouwwagen tandem-asser"
          ],
          [
           "m2006185715",
           "Camplet vouwwagen"
          ],
          [
           "m2006160558",
           "Te koop vouwwagen"
          ],
          [
           "m1955006543",
           "Offroad  Caravan conqueror comander bj2020"
          ],
          [
           "m1996021142",
           "Prachtige La Bohème vouwwagen 1978"
          ],
          [
           "m1988475333",
           "Vouwwagen"
          ],
          [
           "m1995458579",
           "Vouwwagen Alpen kreuzer te koop"
          ],
          [
           "m2005423967",
           "Vouwwagen Louisiana 2015"
          ],
          [
           "m1975687155",
           "Vouwwagen Walker Vega (retro)"
          ],
          [
           "m2005314898",
           "Scout vouwwagen"
          ],
          [
           "m1985767633",
           "TE KOOP Zambezi vouwwagen"
          ],
          [
           "m2005158589",
           "smitveld violist"
          ],
          [
           "m1995135592",
           "Ruime prettige vouwwagen roadmaste family s 8 pers"
          ],
          [
           "m2005111775",
           "3 Dog op Ifor Williams kampeer / motor caravan deur en klep"
          ],
          [
           "m2005110575",
           "Te koop vouwwagen voor 8 persoon"
          ],
          [
           "m2004924367",
           "vouwwagen te koop"
          ],
          [
           "m2004647971",
           "Europa Camper Sunliner Comfort - Snel leverbaar -"
          ],
          [
           "m1994541636",
           "Vouwwagen"
          ],
          [
           "m2004385774",
           "Camplet Apollo 1-2-3 systeem"
          ],
          [
           "m2004364133",
           "Combicamp vouwwagen te huur met twee thule fietsdragers"
          ],
          [
           "m2004293893",
           "Vouwwagen Camplet 2 Go"
          ],
          [
           "m1677962353",
           "offroad vouwwagen, campertrailer, 4x4, terreinwagen,kamperen"
          ],
          [
           "m1942242647",
           "Alpen Kreuzer Vario 2000"
          ],
          [
           "m1994403228",
           "Vouwwagen"
          ],
          [
           "m2004073347",
           "Gordigear Taiga trailertent met of zonder aanhanger"
          ],
          [
           "m2004010341",
           "Te koop vouwwagen walker 1987"
          ],
          [
           "m2003957140",
           "Mooie Panama up gl modeljaar 2015"
          ],
          [
           "m2003891505",
           "Retro Vouwwagen"
          ],
          [
           "m1930976570",
           "Scout vouwwagen 6 persoon inruil auto/brommer mogelijk"
          ],
          [
           "m2003700586",
           "Coleman Fleetwood Pop-up Vouwwagen Uniek!"
          ],
          [
           "m2003489320",
           "Tag Mountain Ranger 2000"
          ],
          [
           "m2003421115",
           "Vouwwagen 4 persoons"
          ]
         ],
         "hovertemplate": "Manufacturer=Not found in list<br>construction_year=%{x}<br>price_eur=%{y}<br>itemId=%{customdata[0]}<br>title=%{customdata[1]}<extra></extra>",
         "legendgroup": "Not found in list",
         "marker": {
          "color": "#ab63fa",
          "symbol": "circle"
         },
         "mode": "markers",
         "name": "Not found in list",
         "orientation": "v",
         "showlegend": true,
         "type": "scatter",
         "x": [
          2016,
          2006,
          2022,
          1997,
          2004,
          null,
          2016,
          null,
          null,
          null,
          null,
          null,
          2010,
          1993,
          2008,
          null,
          2006,
          2021,
          2003,
          1999,
          1986,
          null,
          null,
          1980,
          1983,
          null,
          null,
          2022,
          null,
          2017,
          null,
          2014,
          2008,
          null,
          null,
          1980,
          2012,
          null,
          2008,
          null,
          null,
          1989,
          null,
          null,
          2021,
          null,
          null,
          null,
          1991,
          null,
          2018,
          null,
          1979,
          2022,
          null,
          1996,
          null,
          2009,
          1999,
          null,
          1989,
          null,
          null,
          null,
          2007,
          null,
          null,
          null,
          null,
          null,
          2019,
          null,
          null,
          2008,
          2010,
          2003,
          null,
          null,
          2003,
          null,
          null,
          1983,
          1994,
          2003,
          null,
          null,
          null,
          null,
          2005,
          2017,
          2022,
          1982,
          null,
          2016,
          null,
          null,
          1999,
          null,
          null,
          null,
          null,
          null,
          1991,
          null,
          null,
          null,
          2018,
          null,
          1983,
          2012,
          null,
          1997,
          2008,
          2013,
          2016,
          2020,
          null,
          1999,
          2023,
          2023,
          2006,
          1998,
          1964,
          2018,
          2012,
          2003,
          2020,
          2021,
          null,
          2018,
          2000,
          null,
          2021,
          null,
          null,
          1994,
          null,
          null,
          null,
          null,
          2003,
          2023,
          null,
          null,
          null,
          1992,
          null,
          2023,
          2005,
          null,
          2019,
          2017,
          2010,
          null,
          null,
          null,
          null,
          2020,
          1978,
          null,
          null,
          null,
          1983,
          null,
          null,
          2011,
          2002,
          null,
          null,
          2006,
          2023,
          2011,
          1996,
          null,
          2016,
          2023,
          2001,
          1995,
          2013,
          null,
          null,
          null,
          1996,
          null,
          null,
          null
         ],
         "xaxis": "x",
         "y": [
          4750,
          1900,
          5825,
          350,
          1750,
          0,
          6750,
          550,
          9250,
          7950,
          650,
          225,
          9000,
          600,
          3250,
          0,
          4500,
          524,
          2750,
          750,
          150,
          2500,
          0,
          350,
          350,
          0,
          230,
          0,
          4000,
          9200,
          250,
          0,
          2650,
          6500,
          7500,
          1250,
          1950,
          650,
          5450,
          550,
          5500,
          350,
          0,
          400,
          15995,
          1995,
          0,
          1750,
          3500,
          500,
          7250,
          0,
          0,
          7145,
          300,
          0,
          500,
          7700,
          1000,
          0,
          0,
          500,
          0,
          0,
          1000,
          250,
          700,
          500,
          325,
          500,
          10000,
          650,
          2995,
          0,
          5500,
          1600,
          9990,
          950,
          1500,
          650,
          1100,
          0,
          0,
          1500,
          0,
          600,
          650,
          0,
          2500,
          9250,
          10150,
          0,
          0,
          7500,
          750,
          0,
          300,
          1250,
          1000,
          500,
          600,
          900,
          0,
          4750,
          0,
          350,
          7250,
          0,
          0,
          3750,
          1500,
          0,
          1850,
          0,
          7950,
          0,
          0,
          900,
          10499,
          11798,
          2950,
          1750,
          0,
          0,
          1750,
          2500,
          17495,
          4000,
          250,
          3500,
          250,
          4100,
          6750,
          0,
          1600,
          1300,
          0,
          0,
          0,
          500,
          0,
          0,
          2950,
          0,
          250,
          3000,
          0,
          9995,
          3000,
          5750,
          9250,
          0,
          4750,
          3850,
          500,
          0,
          300,
          31000,
          600,
          2999,
          0,
          4800,
          450,
          550,
          3500,
          0,
          0,
          10000,
          800,
          1850,
          11199,
          3750,
          0,
          20,
          4000,
          0,
          500,
          700,
          0,
          175,
          0,
          0,
          850,
          8500,
          699,
          250
         ],
         "yaxis": "y"
        },
        {
         "customdata": [
          [
           "m2012603246",
           "Cabanon Manga met Easy Pack systeem uit 2020"
          ],
          [
           "m2013506479",
           "Cabanon Chamonix"
          ],
          [
           "m2013463983",
           "Vouwwagen Cabanon Tabora"
          ],
          [
           "m2013437835",
           "Vouwwagen Cabanon Tabora"
          ],
          [
           "m1992913255",
           "Vouwwagen Cabanon Ariane"
          ],
          [
           "m2013369544",
           "Cabanon Neptune vouwwagen"
          ],
          [
           "m2013334348",
           "Cabanon Chamonix De luxe"
          ],
          [
           "m2013313620",
           "Cabanon Neptune met voortent, luxe luifel en zonneluifel"
          ],
          [
           "m2013279281",
           "Vouwwagen Europa Camper Suncruiser (Cabanon) (Sunliner XL)"
          ],
          [
           "m2013263537",
           "Cabanon Imperia 2015 - Complete Set met Accessoires!"
          ],
          [
           "m2007837214",
           "Vouwwagen cabanon neptune"
          ],
          [
           "m2013161568",
           "Vouwwagen Cabanon Malawi 2.0; voor- en achtertent & keuken"
          ],
          [
           "m2013074410",
           "Vouwwagen cabanon Monaco compleet uitgevoerd (2020)"
          ],
          [
           "m2013068369",
           "Cabanon Monaco Deluxe vouwwagen (2022)"
          ],
          [
           "m2013062307",
           "Cabanon Manga uit 2022 te koop!"
          ],
          [
           "m2013056244",
           "Vouwwagen Cabanon Atlantis uit 2004 in uitstekende staat"
          ],
          [
           "m2013033745",
           "Cabanon Mercury DeLuxe Bermkeuken Avant Garde vouwwagen 2019"
          ],
          [
           "m2012958965",
           "Cabanon Manga vouwwagen, 6-8 persoons"
          ],
          [
           "m2012876739",
           "Cabanon Malawi De Luxe AVANT GARDE PAKKET + MEER"
          ],
          [
           "m2012821998",
           "Cabanon Venus"
          ],
          [
           "m2012744393",
           "Cabanon Malawi 2.0  2018: panoramaluifel, achtertent, matras"
          ],
          [
           "m2012697142",
           "Cabanon Malawi 1.0 uit 2013"
          ],
          [
           "m2012680381",
           "Cabanon Manga"
          ],
          [
           "m2012666661",
           "Cabanon Malawi luxe 2016, voortent, achtertent, keuken"
          ],
          [
           "m2012945600",
           "Cabanon safari lodge vouwwagen"
          ],
          [
           "m2012438024",
           "Cabanon Malawi 2.0 Basic - Uit voorraad"
          ],
          [
           "m2009001635",
           "Cabanon Mercury Basic met Avantgarde pakket"
          ],
          [
           "m2012422924",
           "Vouwwagen Cabanon Mercury 2019"
          ],
          [
           "m2012284080",
           "Cabanon Stratos, vouwwagen met bermkeuken (2010)"
          ],
          [
           "m2012085903",
           "Cabanon Manga 2013"
          ],
          [
           "m2012077571",
           "Heel complete Cabanon Mercury 2012"
          ],
          [
           "m2012025235",
           "Cabanon Malawi 2.0 Basic 2020, panoramaluifel, XL achtertent"
          ],
          [
           "m2011944051",
           "Cabanon Malawi 2.0 DeLuxe 2017, zeer compleet"
          ],
          [
           "m2011916995",
           "Cabanon vouwwagen Mercury Deluxe 2012 ALLE OPTIES!"
          ],
          [
           "m2011891549",
           "Cabanon Malawi 2.0 vouwwagen basic easypack 2019 te koop"
          ],
          [
           "m2011824193",
           "Cabanon Mercury Deluxe met Avant Garde pakket"
          ],
          [
           "m2011765588",
           "Vouwwagen Cabanon / Europa Camper Suncruiser"
          ],
          [
           "m2001191268",
           "Vouwwagen Cabanon Mercury deluxe avant garden 2008"
          ],
          [
           "m2011562060",
           "Cabanon Malawi 1.0 (2012)"
          ],
          [
           "m2011470120",
           "Cabanon Mercury Deluxe 2017 Avant Garde pakket zeer compleet"
          ],
          [
           "m2000916497",
           "Vouwwagen  Cabanon Malawi 1.0"
          ],
          [
           "m2011384962",
           "Cabanon manga comfort"
          ],
          [
           "m2009519658",
           "Vouwwagen Cabanon Sunliner 2017 (europa camper) DELUXE"
          ],
          [
           "m2011205970",
           "Cabanon mercury 2018 Comfort vouwwagen"
          ],
          [
           "m2010236810",
           "Cabanon Malawi 2.0 Deluxe vouwwagen (met luxe bermkeuken)"
          ],
          [
           "m2011080523",
           "Cabanon Malawi 2.0 (2022)"
          ],
          [
           "m2010797747",
           "CABANON MALAWI 2.0 2022 + VOORTENT+ZONNELUIFEL EN ZIJWAND 2X"
          ],
          [
           "m2010769764",
           "Vouwwagen Cabanon Malawi 1.0 Deluxe - DIRECT BESCHIKBAAR"
          ],
          [
           "m2009200463",
           "Europa camper Cabanon uit 2005 in zeer goede staat"
          ],
          [
           "m2000243632",
           "Cabanon Mercury 2009"
          ],
          [
           "m2010568769",
           "Cabanon Mercury Deluxe in topstaat"
          ],
          [
           "m2010567071",
           "Vouwwagen Cabanon Monaco Deluxe (met extra’s) 2022"
          ],
          [
           "m2009205832",
           "Cabanon Stratos vouwwagen bj 2008"
          ],
          [
           "m2010504723",
           "Cabanon Mercury Deluxe 2013"
          ],
          [
           "m2010375268",
           "Cabanon Tabora voor 2 - 4 personen, direct kampeerklaar!"
          ],
          [
           "m2010338845",
           "Cabanon Malawi 2.0 Royale z.g.a.n. bj 2021"
          ],
          [
           "m2010335793",
           "Cabanon Stellar (2008)"
          ],
          [
           "m2010305338",
           "Vouwwagen 6-8 personen Cabanon Chamonix de Luxe uit 2022"
          ],
          [
           "m2010275558",
           "Cabanon Chamonix 2023"
          ],
          [
           "m2010202811",
           "Vouwwagen Cabanon Neptune 2008 voor 4- 6 personen"
          ],
          [
           "m2010098694",
           "Europa Camper (Cabanon) Sunliner 2018"
          ],
          [
           "m1980083916",
           "Cabanon Chamonix"
          ],
          [
           "m2009924034",
           "Vouwwagen Cabanon Mercury"
          ],
          [
           "m2009890124",
           "Cabanon Mercury 2023 - compleet met alle accessoires"
          ],
          [
           "m2009598521",
           "Cabanon Neptune 2009. 6 - 8 persoons met luxe luifel"
          ],
          [
           "m2009559688",
           "Cabanon Mercury Comfort AVANT GARDE PAKKET + MEER"
          ],
          [
           "m2009559627",
           "Cabanon Mercury De Luxe AVANT GARDE PAKKET + MEER"
          ],
          [
           "m2009363160",
           "Cabanon Imperia Deluxe 2015"
          ],
          [
           "m2009358918",
           "Cabanon Malawi 2.0 de Luxe ZEER COMPLEET"
          ],
          [
           "m2009341495",
           "Cabanon Malawi vouwwagen. 2016. Incl. Voortent en luifel."
          ],
          [
           "m2009269986",
           "Cabanon mercury 2016"
          ],
          [
           "m2009109654",
           "Cabanon Malawi 2.0 Snel opzetbaar"
          ],
          [
           "m2009104265",
           "Cabanon Mercury Comfort"
          ],
          [
           "m2009104186",
           "Cabanon Chamonix De Luxe - Zeer ruime uitvoering -"
          ],
          [
           "m2009102708",
           "Cabanon Manga Basic - uit voorraad"
          ],
          [
           "m2008805084",
           "Cabanon Malawi 2.0 Royale Basic, 2023"
          ],
          [
           "m2008787545",
           "Cabanon Stratos 2009 met bermkeuken"
          ],
          [
           "m2008762359",
           "Toiles Cabanon Mercury basic"
          ],
          [
           "m2008709693",
           "Cabanon Malawi 1 klaar voor vakantie!"
          ],
          [
           "m1988286242",
           "Grote luifel! EXTRA:matrastoppers - Cabanon Jaguar - 2014/15"
          ],
          [
           "m2008091793",
           "Cabanon Mercury (2013)"
          ],
          [
           "m2008044909",
           "Vouwwagen Cabanon Malawi voor twee personen incl keuken"
          ],
          [
           "m2007941978",
           "Cabanon Malawi 2.0 Basic 2023"
          ],
          [
           "m2007844106",
           "Cabanon Mercury De Luxe + Avant Garde pakket"
          ],
          [
           "m2007576148",
           "Cabanon Mercury De luxe inclusief panoramaluifel"
          ],
          [
           "m2007442861",
           "Cabanon Columbia 2012 Deluxe"
          ],
          [
           "m2006353077",
           "cabanon malawi 2016"
          ],
          [
           "m2005823009",
           "cabanon Mercury 2016"
          ],
          [
           "m2005554723",
           "Cabanon Malawi 2.0"
          ],
          [
           "m2005530461",
           "Cabanon Manga"
          ],
          [
           "m2005294462",
           "Cabanon Mercury Comfort - UIT VOORRAAD"
          ],
          [
           "m2004979086",
           "Cabanon Chamonix Deluxe te bezichtigen"
          ],
          [
           "m2004803319",
           "8-pers Cabanon Evolution vouwwagen"
          ],
          [
           "m2004648054",
           "Cabanon Malawi 2.0 - De Luxe - met keuken -"
          ],
          [
           "m2004644472",
           "Cabanon Malawi 2.0 Royale - Snel leverbaar -"
          ],
          [
           "m2004443489",
           "Cabanon Saturn"
          ],
          [
           "m2004443392",
           "Cabanon Touring de Luxe"
          ],
          [
           "m2003699307",
           "Cabanon Malawi Basic Nette 2 persoonsvouwwagen"
          ],
          [
           "m2003536315",
           "Cabanon Mercury"
          ]
         ],
         "hovertemplate": "Manufacturer=Cabanon<br>construction_year=%{x}<br>price_eur=%{y}<br>itemId=%{customdata[0]}<br>title=%{customdata[1]}<extra></extra>",
         "legendgroup": "Cabanon",
         "marker": {
          "color": "#FFA15A",
          "symbol": "circle"
         },
         "mode": "markers",
         "name": "Cabanon",
         "orientation": "v",
         "showlegend": true,
         "type": "scatter",
         "x": [
          2020,
          2014,
          null,
          2016,
          null,
          2007,
          2014,
          2010,
          2016,
          2015,
          2009,
          2018,
          null,
          2022,
          null,
          2004,
          2019,
          null,
          2016,
          2007,
          2018,
          2013,
          2010,
          2016,
          2015,
          2023,
          2015,
          2019,
          2010,
          2013,
          2012,
          2020,
          2017,
          2012,
          null,
          2011,
          2014,
          2009,
          null,
          2017,
          2012,
          2020,
          2016,
          2018,
          null,
          2022,
          2022,
          2017,
          2005,
          null,
          2019,
          null,
          null,
          2013,
          2016,
          2021,
          2008,
          2022,
          2023,
          2008,
          null,
          2016,
          2008,
          null,
          null,
          2017,
          2016,
          2015,
          2017,
          null,
          null,
          2023,
          2023,
          2023,
          2023,
          2023,
          null,
          null,
          2011,
          2014,
          2013,
          null,
          null,
          2012,
          null,
          2012,
          2016,
          null,
          2019,
          2010,
          2023,
          null,
          2008,
          2023,
          2023,
          2009,
          1999,
          2015,
          2008
         ],
         "xaxis": "x",
         "y": [
          0,
          3750,
          3450,
          3400,
          0,
          3500,
          6950,
          4500,
          5400,
          5000,
          0,
          7950,
          9450,
          11000,
          9500,
          1650,
          8150,
          5500,
          5500,
          1750,
          0,
          3995,
          3500,
          5250,
          7500,
          8399,
          7000,
          0,
          3800,
          0,
          5250,
          8250,
          0,
          6495,
          0,
          4500,
          5500,
          0,
          3950,
          0,
          3750,
          9850,
          6750,
          0,
          8250,
          9495,
          9250,
          7250,
          1799,
          3300,
          8900,
          11290,
          3950,
          5500,
          4000,
          9500,
          1250,
          13000,
          0,
          0,
          6850,
          3750,
          3500,
          0,
          4500,
          7995,
          0,
          0,
          8000,
          3700,
          0,
          8399,
          11748,
          13948,
          10148,
          0,
          4000,
          5750,
          0,
          2300,
          0,
          4975,
          8500,
          0,
          0,
          6250,
          0,
          0,
          0,
          2500,
          11748,
          0,
          0,
          10898,
          9599,
          2750,
          850,
          5695,
          3995
         ],
         "yaxis": "y"
        },
        {
         "customdata": [
          [
           "m2012150395",
           "Goed onderhouden Roadmaster Family S met diverse upgrades"
          ],
          [
           "m2013491662",
           "Nette vouwwagen - Roadmaster Family S"
          ],
          [
           "m2013614465",
           "Roadmaster familie s"
          ],
          [
           "m2013609285",
           "Roadmaster bj 2003"
          ],
          [
           "m2013443554",
           "Roadmaster family S 8 persoons"
          ],
          [
           "m2013424521",
           "Zeer complete Roadmaster Runner S"
          ],
          [
           "m2013228140",
           "Vouwwagen RoadMaster Midi S"
          ],
          [
           "m1866873768",
           "Roadmaster Family S"
          ],
          [
           "m2003959677",
           "Roadmaster Family S"
          ],
          [
           "m2012851421",
           "Vouwwagen Roadmaster Family S (2008)"
          ],
          [
           "m2004747426",
           "Vouwwagen roadmaster midi"
          ],
          [
           "m2012767978",
           "Roadmaster Runner S"
          ],
          [
           "m2007993796",
           "Nette Roadmaster runner S vouwwagen"
          ],
          [
           "m2012391463",
           "Roadmaster family S 8 personen"
          ],
          [
           "m2012511151",
           "Roadmaster Midi S vouwwagen."
          ],
          [
           "m2011802166",
           "Roadmaster family S 8 persoons"
          ],
          [
           "m2005254783",
           "Roadmaster Family S; Vouwwagen; STAAT IN STALLING SPANJE!!"
          ],
          [
           "m1964877244",
           "Vouwwagen Roadmaster Family S"
          ],
          [
           "m2011670878",
           "Fantastische vouwwagen Roadmaster Family S"
          ],
          [
           "m2011537475",
           "Roadmaster midi s vouwwagen bj 2000 frisse vakantieklare set"
          ],
          [
           "m2011525347",
           "Vouwwagen Roadmaster midi"
          ],
          [
           "m2011442066",
           "Vouwwagen Roadmaster Family S uit 2004"
          ],
          [
           "m2011216175",
           "Vouwwagen Roadmaster Runner S"
          ],
          [
           "m2011159933",
           "Roadmaster Runner S in goede staat met voortent en luifel"
          ],
          [
           "m2011072035",
           "Roadmaster Runner S"
          ],
          [
           "m2011070211",
           "Roadmaster Midi Rally S 2004"
          ],
          [
           "m2010801656",
           "roadmaster vouwwagen"
          ],
          [
           "m2010754996",
           "Vouwwagen - Roadmaster Family S"
          ],
          [
           "m2010648567",
           "Roadmaster family extra"
          ],
          [
           "m2010537641",
           "Roadmaster Family S"
          ],
          [
           "m2010384555",
           "Roadmaster Family S 2008"
          ],
          [
           "m2010000915",
           "Nette ruime Roadmaster Runner S vouwwagen 4, 6 - 8  personen"
          ],
          [
           "m2009962240",
           "Mooie Roadmaster family S"
          ],
          [
           "m2009936452",
           "Fijne zeer ruime Roadmaster vouwwagen"
          ],
          [
           "m2005206763",
           "Vouwwagen Roadmaster Runner S, 8pers, met voortent en luifel"
          ],
          [
           "m2009365435",
           "Roadmaster family S vouwwagen ideaal achter elektrische auto"
          ],
          [
           "m2009288292",
           "Leuke Roadmaster Family S"
          ],
          [
           "m2008900330",
           "Roadmaster Family S 2004"
          ],
          [
           "m2008871919",
           "Vouwwagen Roadmaster Family S Blauw/Creme"
          ],
          [
           "m2008683612",
           "Roadmaster Family S 6 persoons vouwwagen"
          ],
          [
           "m2008650259",
           "Roadmaster midi S vouwwagen, 2 persoons"
          ],
          [
           "m1998185672",
           "Roadmaster family s 6-persoons"
          ],
          [
           "m2008468425",
           "Roadmaster Family S 8 persoons"
          ],
          [
           "m2008343893",
           "Roadmaster family S (extra groot)"
          ],
          [
           "m2008210162",
           "Roadmaster Family S"
          ],
          [
           "m2008065658",
           "Vouwwagen Roadmaster Family S"
          ],
          [
           "m2007534716",
           "Roadmaster familie s"
          ],
          [
           "m2007404413",
           "Roadmaster Family S 2004"
          ],
          [
           "m2006964245",
           "Roadmaster Family S - dubbele uitbouw uit 2003"
          ],
          [
           "m2006925510",
           "Roadmaster Family S"
          ],
          [
           "m2006310004",
           "Roadmaster Runner 1994"
          ],
          [
           "m2005966359",
           "Roadmaster family S"
          ],
          [
           "m2005813783",
           "Roadmaster Family S"
          ],
          [
           "m1994283643",
           "Roadmaster Midi S vouwwagen"
          ],
          [
           "m1985866909",
           "Roadmaster family S de luxe nieuwe bodem!"
          ],
          [
           "m2005168071",
           "Vouwwagen roadmaster family S voor onderdelen"
          ],
          [
           "m2004900812",
           "Mooie roadmaster midi"
          ],
          [
           "m2004503955",
           "Vouwwagen Roadmaster Family S"
          ],
          [
           "m2004107922",
           "Roadmaster Family S 2000 Incl.Luifel met zijwanden"
          ],
          [
           "m2004076884",
           "Roadmaster Family S"
          ],
          [
           "m1983816654",
           "Vouwwagen Roadmaster"
          ],
          [
           "m2003216366",
           "Roadmaster Family S"
          ]
         ],
         "hovertemplate": "Manufacturer=Roadmaster<br>construction_year=%{x}<br>price_eur=%{y}<br>itemId=%{customdata[0]}<br>title=%{customdata[1]}<extra></extra>",
         "legendgroup": "Roadmaster",
         "marker": {
          "color": "#19d3f3",
          "symbol": "circle"
         },
         "mode": "markers",
         "name": "Roadmaster",
         "orientation": "v",
         "showlegend": true,
         "type": "scatter",
         "x": [
          null,
          null,
          null,
          null,
          1995,
          2002,
          null,
          2003,
          2006,
          2008,
          null,
          null,
          2002,
          null,
          null,
          2004,
          2004,
          null,
          2005,
          null,
          null,
          2004,
          1998,
          null,
          null,
          null,
          1992,
          null,
          null,
          1997,
          null,
          2000,
          2003,
          null,
          2000,
          null,
          2002,
          2004,
          null,
          null,
          null,
          2005,
          null,
          null,
          null,
          2004,
          null,
          2004,
          null,
          null,
          null,
          1998,
          2001,
          2008,
          null,
          1998,
          null,
          null,
          2000,
          null,
          null,
          2004
         ],
         "xaxis": "x",
         "y": [
          2000,
          950,
          1000,
          0,
          500,
          600,
          850,
          0,
          1900,
          1950,
          0,
          500,
          1000,
          1700,
          1000,
          2500,
          0,
          1500,
          2750,
          0,
          1500,
          1000,
          950,
          450,
          0,
          1500,
          0,
          0,
          800,
          0,
          0,
          1045,
          1800,
          750,
          950,
          1850,
          1950,
          0,
          1000,
          1600,
          1500,
          1500,
          1750,
          0,
          1100,
          0,
          2250,
          2000,
          0,
          1250,
          0,
          0,
          995,
          1500,
          2750,
          0,
          500,
          1350,
          0,
          950,
          1500,
          3000
         ],
         "yaxis": "y"
        },
        {
         "customdata": [
          [
           "m2011052048",
           "RAPIDO klapcaravan type confort"
          ],
          [
           "m2011975540",
           "Rapido export klapcaravan"
          ],
          [
           "m2010200096",
           "Rapido Confort vouwcaravan klapcaravan"
          ],
          [
           "m2009970068",
           "Rapido export klapcaravan"
          ],
          [
           "m1994824679",
           "rapido record klapcaravan 1980"
          ],
          [
           "m1984576445",
           "Rapido klapcaravan / vouwcaravan confort compleet te zien"
          ],
          [
           "m1838460685",
           "Rapido klapcaravan"
          ]
         ],
         "hovertemplate": "Manufacturer=Rapido<br>construction_year=%{x}<br>price_eur=%{y}<br>itemId=%{customdata[0]}<br>title=%{customdata[1]}<extra></extra>",
         "legendgroup": "Rapido",
         "marker": {
          "color": "#FF6692",
          "symbol": "circle"
         },
         "mode": "markers",
         "name": "Rapido",
         "orientation": "v",
         "showlegend": true,
         "type": "scatter",
         "x": [
          1980,
          null,
          1983,
          1979,
          1980,
          1978,
          1981
         ],
         "xaxis": "x",
         "y": [
          1950,
          3800,
          0,
          2850,
          1350,
          0,
          2000
         ],
         "yaxis": "y"
        },
        {
         "customdata": [
          [
           "m2011704376",
           "3Dog Traildog 2011 tenttrailer luifel fietsendrager Cee"
          ],
          [
           "m2011711043",
           "Te koop 3Dog Scoutdog kleur Khaki Sand bouwjaar 2017"
          ],
          [
           "m1997284170",
           "3DOG Traildog full options!"
          ],
          [
           "m2004772390",
           "3Dog Camping TrailDog OffRoader Khaki-dark"
          ]
         ],
         "hovertemplate": "Manufacturer=3Dog<br>construction_year=%{x}<br>price_eur=%{y}<br>itemId=%{customdata[0]}<br>title=%{customdata[1]}<extra></extra>",
         "legendgroup": "3Dog",
         "marker": {
          "color": "#B6E880",
          "symbol": "circle"
         },
         "mode": "markers",
         "name": "3Dog",
         "orientation": "v",
         "showlegend": true,
         "type": "scatter",
         "x": [
          2011,
          2017,
          null,
          2022
         ],
         "xaxis": "x",
         "y": [
          4750,
          0,
          12000,
          17000
         ],
         "yaxis": "y"
        },
        {
         "customdata": [
          [
           "m2009326457",
           "gerjak tago atlantic"
          ],
          [
           "m2013562181",
           "Gerjak tago tenttrailer.4 meter breed en 8 meter lang."
          ],
          [
           "m2013492746",
           "Vouwwagen gerjak tago amazone"
          ],
          [
           "m1992833504",
           "Gerjak Tago Artic 2011"
          ],
          [
           "m2013153809",
           "Gerjak Tago Settler te koop"
          ],
          [
           "m2008918665",
           "Gerjak Tago Indian vouwwagen"
          ],
          [
           "m2013043132",
           "Gerjak Tago Atlantic 2006 - ruime 6 a 8 p. gezins-vouwwagen"
          ],
          [
           "m2012927692",
           "Gerjak Tago Atlantic Vouwwagen"
          ],
          [
           "m2012754551",
           "Gerjak tago indian 2007"
          ],
          [
           "m2012570968",
           "SUPER NETTE GERJAK Tago Settler Crossing 2012!!"
          ],
          [
           "m2012377138",
           "Gerjak Tago Artic 2011 vouwwagen"
          ],
          [
           "m1971753062",
           "Gerjak Tago Settler 2012"
          ],
          [
           "m2011715375",
           "Gerjak Tago River 2003"
          ],
          [
           "m1981581424",
           "Gerjak Indian Tago Vouwwagen (4-6 personen)"
          ],
          [
           "m2011470949",
           "Erg ruime Tago / Gerjak vouwwagen"
          ],
          [
           "m1970932486",
           "Gerjak Ranger Safari"
          ],
          [
           "m2010929435",
           "Gerjak Tago Vouwwagen uit 2005"
          ],
          [
           "m2010616819",
           "Vouwwagen Gerjak Settler uit 2010 met complete inboedel"
          ],
          [
           "m2010535061",
           "Gerjak Tago vouwwagen 2004"
          ],
          [
           "m2010415206",
           "Gerjak Tago Atlantic uit 2006 - Ruime 6-persoons vouwwagen"
          ],
          [
           "m2009557269",
           "Gerjak Tago Atlantic 2007"
          ],
          [
           "m2009057995",
           "Gerjak Tago Indian"
          ],
          [
           "m1978620009",
           "Gerjak Tago Indian 4-8 persoons vouwwagen Incl inventaris"
          ],
          [
           "m2006308346",
           "Gerjak Tago Settler Crossing - 4 tot 6 pers incl imperiaal"
          ],
          [
           "m1996223760",
           "Vouwwagen  Gerjak Tago Indian"
          ],
          [
           "m1986326921",
           "Vouwwagen Gerjak Tago Amazone 2005"
          ],
          [
           "m2004893783",
           "Gerjak Tago Atlantic Vouwwagen 4 tot  8 persoons"
          ],
          [
           "m2004311141",
           "gerjak tago indian"
          ],
          [
           "m2003403338",
           "Gerjak Tago Indian | 4-8 persoons | Voortent en luifel | Gas"
          ]
         ],
         "hovertemplate": "Manufacturer=Gerjak<br>construction_year=%{x}<br>price_eur=%{y}<br>itemId=%{customdata[0]}<br>title=%{customdata[1]}<extra></extra>",
         "legendgroup": "Gerjak",
         "marker": {
          "color": "#FF97FF",
          "symbol": "circle"
         },
         "mode": "markers",
         "name": "Gerjak",
         "orientation": "v",
         "showlegend": true,
         "type": "scatter",
         "x": [
          null,
          2005,
          null,
          2011,
          2008,
          2007,
          2006,
          2006,
          2007,
          null,
          null,
          2012,
          2003,
          2005,
          2000,
          2012,
          2005,
          null,
          2004,
          null,
          2007,
          2005,
          2007,
          2010,
          2000,
          null,
          null,
          null,
          2005
         ],
         "xaxis": "x",
         "y": [
          1800,
          1500,
          1450,
          3150,
          1400,
          2500,
          1750,
          0,
          2100,
          0,
          3000,
          3200,
          0,
          1800,
          0,
          3750,
          1500,
          1950,
          1195,
          1750,
          1200,
          0,
          2000,
          2500,
          1950,
          1490,
          2500,
          2200,
          1500
         ],
         "yaxis": "y"
        },
        {
         "customdata": [
          [
           "m2013437824",
           "Conway Mirage vouwwagen"
          ],
          [
           "m2013375804",
           "Conway vouwwagen 2003 extra lang 6 persoons"
          ],
          [
           "m2013252142",
           "Conway Cruiser pop up vouwwagen"
          ],
          [
           "m2002414200",
           "Conway Canterbury dl vouwwagen 6-pers"
          ],
          [
           "m2012381377",
           "Conway Cortina vouwwagen"
          ],
          [
           "m2010335261",
           "Conway vouwwagen  Met toebehoren"
          ],
          [
           "m2011531350",
           "Nette Conway Vouwagen!"
          ],
          [
           "m2010417919",
           "Vouwwagen Conway"
          ],
          [
           "m2009795264",
           "Vintage Conway Cruiser uit 1996"
          ],
          [
           "m2007989996",
           "Conway Classic Trio 2003 Vouwwagen"
          ],
          [
           "m1987835378",
           "Vouwwagen conway"
          ],
          [
           "m2006737866",
           "Conway Vision Vouwwagen 6 persoons"
          ],
          [
           "m1995732762",
           "Vouwwagen conway camberley 350dl"
          ],
          [
           "m2003526929",
           "Vouwwagen Conway Trio Classic 2006 in uitstekende staat"
          ]
         ],
         "hovertemplate": "Manufacturer=Conway<br>construction_year=%{x}<br>price_eur=%{y}<br>itemId=%{customdata[0]}<br>title=%{customdata[1]}<extra></extra>",
         "legendgroup": "Conway",
         "marker": {
          "color": "#FECB52",
          "symbol": "circle"
         },
         "mode": "markers",
         "name": "Conway",
         "orientation": "v",
         "showlegend": true,
         "type": "scatter",
         "x": [
          1998,
          2003,
          1992,
          null,
          null,
          null,
          null,
          null,
          1996,
          2003,
          null,
          null,
          null,
          2005
         ],
         "xaxis": "x",
         "y": [
          600,
          1200,
          0,
          0,
          0,
          0,
          825,
          300,
          1499,
          550,
          600,
          500,
          0,
          1250
         ],
         "yaxis": "y"
        },
        {
         "customdata": [
          [
           "m2013403684",
           "vouwwagen trigano galleon"
          ],
          [
           "m2013521079",
           "Trigano odyssee"
          ],
          [
           "m2013424374",
           "Vouwwagen trigano odyssee"
          ],
          [
           "m1992915314",
           "Vouwwagen Trigano Chantilly GL"
          ],
          [
           "m2013409114",
           "Trigano Odyssee 1-2-3 uit 2002"
          ],
          [
           "m2013364315",
           "Trigano Chantilly 1998"
          ],
          [
           "m2002756294",
           "Trigano vouwwagen"
          ],
          [
           "m2013298740",
           "Vouwwagen Trigano Chantilly GL"
          ],
          [
           "m2013039517",
           "Trigano Odyssee (1e eigenaar) gekocht 2015"
          ],
          [
           "m2013028206",
           "Trigano Alpha Exclusive Line vouwwagen"
          ],
          [
           "m2013010515",
           "Prachtige Trigano Alpha Tent Trailer Vouwwagen"
          ],
          [
           "m2012967730",
           "Trigano Alpha GL snelklapper vouwwagen 2016 met extra's"
          ],
          [
           "m2012927755",
           "Trigano Odyssee Plus GL"
          ],
          [
           "m2012908139",
           "Trigano Olympe"
          ],
          [
           "m2012905829",
           "Vouwwagen Trigano Odyssee 2012"
          ],
          [
           "m2002192144",
           "Trigano vouwwagen inclusief voortent."
          ],
          [
           "m2012777200",
           "Mooie Trigano Galleon familie vouwwagen (2019)"
          ],
          [
           "m2002138208",
           "Trigano chantilly"
          ],
          [
           "m2012707748",
           "Trigano odyssee GL 2.0 (2020) 3x gebruikt"
          ],
          [
           "m2009271707",
           "Vouwwagen Trigano Odyssee GL"
          ],
          [
           "m2012599303",
           "Trigano Chantilly GL Vouwwagen"
          ],
          [
           "m2012106835",
           "Trigano Alpha GL  snel opbouw"
          ],
          [
           "m2012555731",
           "Trigano odyssee"
          ],
          [
           "m2012541997",
           "Trigano Oceane GL"
          ],
          [
           "m2012482150",
           "Trigano Galleon GL Slechts 2x gebruikt"
          ],
          [
           "m2012481743",
           "Trigano Odyssee GL 2.0"
          ],
          [
           "m2012481580",
           "Trigano Odyssee GL"
          ],
          [
           "m2012470043",
           "Trigano Odyssee 2003"
          ],
          [
           "m2012415804",
           "Trigano Odyssee 2018 met easy pack systeem"
          ],
          [
           "m2012373905",
           "Trigano Odyssee 2004"
          ],
          [
           "m2008356972",
           "Trigano Odyssee gl 2009"
          ],
          [
           "m2012698349",
           "Vouwwagen Trigano Galleon bouwjaar 2017"
          ],
          [
           "m2009590962",
           "Trigano Galleon GL  2013 compleet"
          ],
          [
           "m2010348076",
           "Trigano Odyssee GL 2015"
          ],
          [
           "m2001172752",
           "Verlaagde Prijs: Vouwwagen Trigano Oceane 315"
          ],
          [
           "m2011591293",
           "Trigano vedome , goede staat lekker ruim voor gezin van 5."
          ],
          [
           "m2011556882",
           "Trigano Oceana 315"
          ],
          [
           "m2011497437",
           "Trigano Oceane 100% waterdicht!"
          ],
          [
           "m2011456646",
           "vouwwagen Trigano Odyssee"
          ],
          [
           "m2011444540",
           "Vouwwagen Trigano OLympe 2010"
          ],
          [
           "m2011356588",
           "Trigano Camp Trail"
          ],
          [
           "m2011356511",
           "Trigano Odyssee GL"
          ],
          [
           "m2011308944",
           "Zeer nette Trigano Vendome GL met extra kampeerspullen"
          ],
          [
           "m2011298351",
           "Trigano Alpha GL vouwwagen, met aangebouwde luxe keuken"
          ],
          [
           "m2011119009",
           "Trigano Cheverny GL"
          ],
          [
           "m2011076886",
           "trigano odyssee 1-2-3 event. Incl. extra's zoals stalling!"
          ],
          [
           "m2003732661",
           "Cherverny trigano vouwwagen"
          ],
          [
           "m2010810870",
           "Mooie vouwwagen trigano Odyssee (2011)"
          ],
          [
           "m2010777174",
           "Vouwwagen Trigano Odyssee GL"
          ],
          [
           "m2010774252",
           "Trigano odyssee 2014, luifel en gastencabine"
          ],
          [
           "m2010759677",
           "Vouwwagen Trigano Galleon 2014"
          ],
          [
           "m2000237585",
           "Vouwwagen Trigano Odyssee 2006"
          ],
          [
           "m2010714631",
           "Trigano galleon Vouwagen"
          ],
          [
           "m2010711430",
           "Trigano galleon vouwwagen 2014 beschadigd !!"
          ],
          [
           "m2007320762",
           "Vouwwagen Trigano Oceane GL, bouwjaar 2001-2002, 5 slaappl"
          ],
          [
           "m2010507039",
           "Vouwwagen TRIGANO GALLEON model 2017"
          ],
          [
           "m2010476367",
           "Trigano Vedome XL 2003 met disselbak en imperial"
          ],
          [
           "m1990287263",
           "Vouwwagen Trigano Odyssee Safari GL incl. luifel, fietsenrek"
          ],
          [
           "m2010416715",
           "Trigano Odyssee GL"
          ],
          [
           "m1990254434",
           "Vouwwagen trigano Odyssee"
          ],
          [
           "m2010363809",
           "Trigano Vendome 2005"
          ],
          [
           "m2010318374",
           "Vouwwagen Trigano Odyssee"
          ],
          [
           "m2010261679",
           "Trigano Oceane GL 2004 vouwwagen"
          ],
          [
           "m1980727487",
           "Trigano odyssee"
          ],
          [
           "m1980701862",
           "Vouwwagen Trigano Vendome de Luxe GL"
          ],
          [
           "m2010109872",
           "Mooie nette trigano chantilly 2005"
          ],
          [
           "m1999598955",
           "Vouwwagen Trigano Odyssée"
          ],
          [
           "m2010089367",
           "Trigano Vendôme Luxe 2007 + Extra's"
          ],
          [
           "m2010055447",
           "Trigano Odyssee 1997"
          ],
          [
           "m2010054747",
           "Trigano Alpha"
          ],
          [
           "m2010043278",
           "Vouwwagen Trigano Océane (315) uit 2003"
          ],
          [
           "m2009997259",
           "vouwwagen Trigano Olympe GL 2013"
          ],
          [
           "m2009952454",
           "Trigano odyssee vouwwagen 1-2-3 (snelklapper)"
          ],
          [
           "m2009897713",
           "Trigano Itinea GL (919599)"
          ],
          [
           "m2009800570",
           "Trigano Odyssee 2003"
          ],
          [
           "m2009748074",
           "Vouwwagen trigano camplair (2022!)"
          ],
          [
           "m2009567715",
           "Trigano Odyssee GL met keuken en disselbak"
          ],
          [
           "m2006155293",
           "Trigano vouwwagen"
          ],
          [
           "m1979367575",
           "Trigano Alpha GL 2020"
          ],
          [
           "m2009364048",
           "Vouwwagen trigano gl odyssee"
          ],
          [
           "m1998545267",
           "Trigano Odyssee GL"
          ],
          [
           "m2008873491",
           "Trigano Galleon 315GL / 2022! In TOP staat!"
          ],
          [
           "m2008799482",
           "Trigano Olympe GL 2011"
          ],
          [
           "m1998176519",
           "Mooie grote Trigano Olympe GL"
          ],
          [
           "m2008592506",
           "Vouwwagen trigano Odyssee"
          ],
          [
           "m2008568950",
           "Grote Trigano vouwwagen te koop!"
          ],
          [
           "m2008482821",
           "Trigano Galleon GL vouwwagen 2012 (evt helemaal compleet!)"
          ],
          [
           "m2008303860",
           "Vouwwagen Trigano Chantilly GL 8 personen"
          ],
          [
           "m1967685060",
           "Nette Trigano Olympe Vouwwagen met keuken en fietsendrager."
          ],
          [
           "m2007668783",
           "Trigano vouwwagen 6 pers."
          ],
          [
           "m2007503039",
           "Trigano Odyssee GL Plus (gekocht in 2019)"
          ],
          [
           "m2007256801",
           "Trigano Odyssee Vouwwagen Met Fietsendrager & Luifel"
          ],
          [
           "m2007242348",
           "Trigano Oceane GL vouwwagen"
          ],
          [
           "m2007148643",
           "Trigano odyssee 2015 Blauw/Wit"
          ],
          [
           "m2006975129",
           "Vouwwagen Trigano"
          ],
          [
           "m2006946157",
           "Trigano chantilly GL 2001 vouwwagen"
          ],
          [
           "m2006827591",
           "Trigano Vendome GL"
          ],
          [
           "m2006729206",
           "Trigano Oceane 3.15 GL uit 1999"
          ],
          [
           "m2006584772",
           "Vouwwagen Trigano Verdome Gl met luifel 6 p"
          ],
          [
           "m2006560755",
           "Trigano Odyssee 1-2-3 vouwwagen met lopende BOVAG garantie"
          ],
          [
           "m2006547050",
           "Trigano Odyssee 123 vouwwagen"
          ],
          [
           "m2006498616",
           "Trigano odyssee"
          ],
          [
           "m2006345164",
           "Trigano oceane 240 bouwjr 2003 + matras toppers"
          ],
          [
           "m2006127689",
           "Trigano Olympe GL 2009"
          ],
          [
           "m2005724577",
           "Trigano Vendome GL Luxe 1998 met fietsendrager en luifel"
          ],
          [
           "m2005772704",
           "Vouwwagen Trigano Odyssee"
          ],
          [
           "m1995178842",
           "vouwwagen trigano odyssee te koop of te huur"
          ],
          [
           "m2005203321",
           "Trigano Odyssee 2006"
          ],
          [
           "m2004966205",
           "Trigano Odyssee snel opzetten. Klaar voor vakantie met 6!"
          ],
          [
           "m2004898376",
           "Leuke Vouwwagen merk Trigano 4 pers ."
          ],
          [
           "m1994749668",
           "Trigano Odyssee te koop"
          ],
          [
           "m2004748538",
           "Trigano Alpha GL"
          ],
          [
           "m2004549033",
           "Trigano Odyssee vouwwagen uit 2015"
          ],
          [
           "m2004477722",
           "Mooie Trigano Odyssee 2005 123-systeem en Gastenverblijf"
          ],
          [
           "m2004169349",
           "Trigano Odyssee 1-2-3 vouwwagen (incl. Imperiaal + koffer)"
          ],
          [
           "m2004145098",
           "Trigano Vendome Luxe"
          ],
          [
           "m2003752830",
           "Vouwwagen, Trigano Odyssee (2003) 123 klapsysteem"
          ],
          [
           "m2003536128",
           "Trigano Galleon"
          ],
          [
           "m1993358399",
           "Trigano Chambord GL vouwwagen"
          ],
          [
           "m2003198922",
           "Trigano Odyssee 2018"
          ],
          [
           "m2003175700",
           "Vouwwagen Trigano Vendome GL"
          ],
          [
           "m2003171786",
           "Schitterende Trigano Oz Trail Zenith '17 keuken"
          ]
         ],
         "hovertemplate": "Manufacturer=Trigano<br>construction_year=%{x}<br>price_eur=%{y}<br>itemId=%{customdata[0]}<br>title=%{customdata[1]}<extra></extra>",
         "legendgroup": "Trigano",
         "marker": {
          "color": "#636efa",
          "symbol": "circle"
         },
         "mode": "markers",
         "name": "Trigano",
         "orientation": "v",
         "showlegend": true,
         "type": "scatter",
         "x": [
          2010,
          null,
          null,
          2001,
          null,
          null,
          null,
          2003,
          null,
          2011,
          2016,
          2016,
          2018,
          2009,
          2011,
          1998,
          2019,
          null,
          2020,
          2007,
          null,
          null,
          null,
          2002,
          2018,
          2021,
          2014,
          2003,
          null,
          null,
          null,
          2017,
          null,
          2015,
          2002,
          null,
          2003,
          2000,
          2003,
          2010,
          2023,
          2007,
          null,
          2018,
          null,
          1997,
          null,
          2011,
          null,
          null,
          null,
          null,
          null,
          null,
          2001,
          null,
          null,
          2008,
          1998,
          null,
          null,
          2015,
          2004,
          2004,
          2004,
          null,
          2016,
          2007,
          null,
          2013,
          null,
          2013,
          null,
          2021,
          null,
          2022,
          2005,
          null,
          2020,
          null,
          2005,
          null,
          2011,
          null,
          2014,
          null,
          2012,
          1996,
          2009,
          null,
          2018,
          2010,
          null,
          null,
          null,
          2001,
          1999,
          1999,
          null,
          2007,
          2002,
          2008,
          null,
          null,
          null,
          null,
          2000,
          2006,
          2005,
          null,
          null,
          2016,
          null,
          2005,
          2007,
          null,
          2003,
          2011,
          null,
          null,
          2001,
          2017
         ],
         "xaxis": "x",
         "y": [
          3500,
          850,
          1000,
          395,
          300,
          0,
          650,
          550,
          5000,
          4500,
          0,
          0,
          0,
          2750,
          3850,
          349.95,
          6995,
          550,
          8900,
          1000,
          1150,
          7500,
          1400,
          850,
          6500,
          0,
          0,
          1000,
          6475,
          1200,
          2500,
          4000,
          3150,
          4500,
          850,
          500,
          800,
          450,
          1850,
          2950,
          9195,
          2950,
          1250,
          8950,
          750,
          650,
          500,
          4250,
          1995,
          3500,
          3500,
          1300,
          3250,
          500,
          0,
          5000,
          875,
          4850,
          750,
          1200,
          0,
          0,
          750,
          950,
          1300,
          0,
          3995,
          1950,
          500,
          4600,
          0,
          3200,
          395,
          12999,
          750,
          5250,
          1990,
          350,
          10500,
          950,
          995,
          9500,
          2950,
          3750,
          4200,
          750,
          3200,
          0,
          2850,
          0,
          0,
          4000,
          750,
          3800,
          450,
          490,
          0,
          500,
          700,
          1995,
          0,
          1750,
          900,
          2150,
          600,
          750,
          0,
          1475,
          2995,
          500,
          400,
          7950,
          0,
          1750,
          0,
          0,
          1000,
          4250,
          475,
          0,
          695,
          6995
         ],
         "yaxis": "y"
        },
        {
         "customdata": [
          [
           "m2013587996",
           "Campooz lazy Jack trekking"
          ],
          [
           "m2012784750",
           "Campooz Lazy Jack camping variant extra luifel,Ugly Betty"
          ],
          [
           "m2013023795",
           "Campooz Lazy Jack Camping 2021"
          ],
          [
           "m2012458940",
           "Campooz Sleepy Joe - Uit voorraad"
          ],
          [
           "m2012456015",
           "Campooz Lazy Jack - Uit voorraad"
          ],
          [
           "m2012453018",
           "Campooz Fat Freddy - Uit voorraad"
          ],
          [
           "m2001715130",
           "Campooz"
          ],
          [
           "m2011386015",
           "Campooz Sleepy Joe Trekking"
          ],
          [
           "m2011385912",
           "Campooz Lazy Jack Camping"
          ],
          [
           "m2011385851",
           "Campooz Lazy Jack Trekking"
          ],
          [
           "m2011385416",
           "Campooz Fat Freddy Camping"
          ],
          [
           "m2011385352",
           "Campooz Fat Freddy Trekking"
          ],
          [
           "m2011385199",
           "Campooz Sleepy Joe Camping"
          ],
          [
           "m2010971926",
           "CampooZ Lazy Jack compleet en luxe uitvoering modeljaar 2022"
          ],
          [
           "m2010181822",
           "Campooz Fat Freddy Trekking"
          ],
          [
           "m2010181266",
           "Campooz Fat Freddy Camping"
          ],
          [
           "m2010163227",
           "campooz Fat Freddy"
          ],
          [
           "m2008805546",
           "Campooz Fat Freddy Camping Voortent"
          ],
          [
           "m2008804502",
           "Campooz Lazy Jack Trekking Zonneluifel"
          ],
          [
           "m2008804321",
           "Campooz Fat Freddy Trekking Zonneluifel"
          ],
          [
           "m1997249751",
           "Campooz Fat Freddy Camping 2023"
          ],
          [
           "m2006641976",
           "Campooz Sleepy Joe"
          ],
          [
           "m2005327434",
           "Campooz"
          ],
          [
           "m1799475447",
           "Vouwwagen verhuur CampooZ FAT FREDDY en LAZY  JACK Campooz"
          ],
          [
           "m2003033771",
           "Campooz Lazy Jack Camping"
          ],
          [
           "m2003033729",
           "Campooz Lazy Jack Trekking"
          ],
          [
           "m2003033321",
           "Campooz Red Ruby"
          ]
         ],
         "hovertemplate": "Manufacturer=Campooz<br>construction_year=%{x}<br>price_eur=%{y}<br>itemId=%{customdata[0]}<br>title=%{customdata[1]}<extra></extra>",
         "legendgroup": "Campooz",
         "marker": {
          "color": "#EF553B",
          "symbol": "circle"
         },
         "mode": "markers",
         "name": "Campooz",
         "orientation": "v",
         "showlegend": true,
         "type": "scatter",
         "x": [
          null,
          null,
          2021,
          2023,
          2023,
          2023,
          2017,
          2023,
          2023,
          2023,
          2023,
          2023,
          2023,
          null,
          null,
          null,
          null,
          2023,
          2023,
          2023,
          2023,
          null,
          null,
          2022,
          null,
          null,
          null
         ],
         "xaxis": "x",
         "y": [
          0,
          0,
          0,
          10550,
          10950,
          9600,
          11000,
          10550,
          11400,
          10950,
          10050,
          9600,
          11000,
          0,
          9600,
          10050,
          6100,
          10050,
          10950,
          9600,
          11500,
          10550,
          0,
          0,
          11400,
          10950,
          13900
         ],
         "yaxis": "y"
        },
        {
         "customdata": [
          [
           "m2002985687",
           "Aart Kok Kariba Game Drive beige / oker (2008)"
          ],
          [
           "m2013379947",
           "Aart kok Livingstone Game Drive"
          ],
          [
           "m2013323885",
           "Aart Kok Kavango (‘17) Game Drive L&L incl. Keuken"
          ],
          [
           "m2013153314",
           "Aart Kok Zambezi Original uit 2000"
          ],
          [
           "m2013014164",
           "Aart Kok Zambezi Original vouwwagen"
          ],
          [
           "m2012809626",
           "Aart Kok tuareg game drive 2023. 2 weken gebruikt"
          ],
          [
           "m2012699444",
           "Aart Kok Kampala Game Drive - 2008"
          ],
          [
           "m2012533788",
           "Aart Kok Zambezi River Lodge compleet"
          ],
          [
           "m2012124551",
           "Aart Kok Livingstone  River Lodge Game Drive"
          ],
          [
           "m2011703772",
           "Vouwwagen Aart Kok, Kariba, 6 persoons, 2011, incl keuken"
          ],
          [
           "m2011583357",
           "Zambezi Original - Aart Kok"
          ],
          [
           "m2011183844",
           "Aart Kok Kavango Game Drive 2014"
          ],
          [
           "m2010700477",
           "Aart Kok Tundra 2011 inclusief jaar stalling in Amersfoort"
          ],
          [
           "m2008357659",
           "Aart Kok Kavango Game Drive 2011 vouwwagen"
          ],
          [
           "m1999763859",
           "Aart Kok Kariba (2010)"
          ],
          [
           "m2009913996",
           "Aart Kok Kavango model 2010"
          ],
          [
           "m2009566723",
           "Zeer complete Aart Kok Kavango Gamedrive incl. loungebank"
          ],
          [
           "m2009272126",
           "Aart Kok Kariba Tent Trailer Zeer netjes en compleet"
          ],
          [
           "m2009269159",
           "Aart Kok Tundra vouwwagen"
          ],
          [
           "m2009105455",
           "Aart kok vouwwagen, type tundra"
          ],
          [
           "m2008801844",
           "Aart Kok Zambezi Offroad Tenttrailer"
          ],
          [
           "m2006189451",
           "Aart Kok Zambezi Cross Road 2020 - In nieuwstaat"
          ],
          [
           "m2005707780",
           "Aart Kok Kavango (2008)  te koop per 1-9-2023"
          ],
          [
           "m2004186033",
           "Aart Kok Kariba 2008"
          ],
          [
           "m2003898784",
           "Aart Kok Kampala vouwwagen"
          ]
         ],
         "hovertemplate": "Manufacturer=Aart Kok<br>construction_year=%{x}<br>price_eur=%{y}<br>itemId=%{customdata[0]}<br>title=%{customdata[1]}<extra></extra>",
         "legendgroup": "Aart Kok",
         "marker": {
          "color": "#00cc96",
          "symbol": "circle"
         },
         "mode": "markers",
         "name": "Aart Kok",
         "orientation": "v",
         "showlegend": true,
         "type": "scatter",
         "x": [
          2008,
          null,
          null,
          2000,
          2003,
          2023,
          2008,
          2012,
          2012,
          2010,
          2006,
          2014,
          null,
          2011,
          null,
          2010,
          2016,
          2008,
          null,
          null,
          2005,
          2019,
          null,
          null,
          2013
         ],
         "xaxis": "x",
         "y": [
          5500,
          0,
          9995,
          3000,
          3500,
          0,
          4250,
          0,
          0,
          5000,
          8500,
          7300,
          0,
          7500,
          5600,
          6000,
          10000,
          4950,
          2900,
          0,
          0,
          0,
          5995,
          5250,
          5500
         ],
         "yaxis": "y"
        },
        {
         "customdata": [
          [
           "m2013424136",
           "Vouwwagen Raclet Safari GL model 2022 (als nieuw!)"
          ],
          [
           "m2013248565",
           "Vouwwagen Raclet Safari GL 2013"
          ],
          [
           "m2012131749",
           "Raclet Pamploma Junior uit 2013"
          ],
          [
           "m2012910983",
           "Vouwwagen Raclet Allegra met voortent, erker en luifel"
          ],
          [
           "m2012814793",
           "Raclet Jasmin Vouwwagen - 2008"
          ],
          [
           "m2012813424",
           "Vouwwagen Raclet Safari GL 2013"
          ],
          [
           "m2012663175",
           "vouwwagen raclet"
          ],
          [
           "m2011341532",
           "Raclet safari gl"
          ],
          [
           "m2010938232",
           "Vouwwagen Safari Raclet"
          ],
          [
           "m2009618599",
           "Raclet Panama UpGL uit 2015 met inboedel en gastencabine."
          ],
          [
           "m1999692220",
           "Vouwwagen Raclet"
          ],
          [
           "m2009958922",
           "Raclet Panama up 2022"
          ],
          [
           "m2009005168",
           "Raclet Safari GL"
          ],
          [
           "m2008471788",
           "Raclet Panama Up GL"
          ],
          [
           "m1999078018",
           "Vouwwagen Raclet quickstop x-trail"
          ],
          [
           "m2005836380",
           "Raclet Panama Up Vouwwagen Fietsendrager BJ 2018 (bj 2018)"
          ],
          [
           "m1995355016",
           "Raclet 6-persoons vouwwagen"
          ],
          [
           "m2004638972",
           "Raclet jade"
          ],
          [
           "m2003397818",
           "Vouwwagen Raclet Jasmin"
          ]
         ],
         "hovertemplate": "Manufacturer=Raclet<br>construction_year=%{x}<br>price_eur=%{y}<br>itemId=%{customdata[0]}<br>title=%{customdata[1]}<extra></extra>",
         "legendgroup": "Raclet",
         "marker": {
          "color": "#ab63fa",
          "symbol": "circle"
         },
         "mode": "markers",
         "name": "Raclet",
         "orientation": "v",
         "showlegend": true,
         "type": "scatter",
         "x": [
          null,
          2013,
          null,
          null,
          2008,
          2013,
          2000,
          2013,
          2010,
          null,
          null,
          null,
          2018,
          2015,
          2016,
          2018,
          2001,
          null,
          null
         ],
         "xaxis": "x",
         "y": [
          10500,
          3200,
          2500,
          2125,
          2250,
          3000,
          0,
          4000,
          0,
          0,
          200,
          9750,
          8500,
          6500,
          5000,
          2475,
          1100,
          450,
          0
         ],
         "yaxis": "y"
        },
        {
         "customdata": [
          [
           "m2003749582",
           "ALPENKREUZER VANDAAG VOOR €200 AF TE HALEN! STAAT IN DE WEG"
          ],
          [
           "m2012886236",
           "Alpenkreuzer Super GT"
          ],
          [
           "m2012871094",
           "Zeer ruime, complete vouwwagen Alpenkreuzer Parade"
          ],
          [
           "m2012814846",
           "Alpenkreuzer Parade vouwwagen- 2004"
          ],
          [
           "m2012462198",
           "alpenkreuzer tempo"
          ],
          [
           "m2012446469",
           "Alpenkreuzer Campfire - Aanbieding"
          ],
          [
           "m2012441876",
           "Alpenkreuzer Waterfront Green - Uit voorraad"
          ],
          [
           "m2011235592",
           "Vouwwagen Alpenkreuzer Allure"
          ],
          [
           "m1845392731",
           "alpenkreuzer parade sl"
          ],
          [
           "m2010802138",
           "Alpenkreuzer parade vouwwagen 6 persoons zo goed als nieuw"
          ],
          [
           "m2010671975",
           "Alpenkreuzer Duet (919785)"
          ],
          [
           "m2000166582",
           "Alpenkreuzer vouwwagenTempo"
          ],
          [
           "m2010603814",
           "Vouwwagen Alpenkreuzer Parade 2006"
          ],
          [
           "m2010601275",
           "Vouwwagen Alpenkreuzer Duet (6-persoons)"
          ],
          [
           "m2004316166",
           "Alpenkreuzer vouwwagen"
          ],
          [
           "m2010361698",
           "Alpenkreuzer Parade vouwwagen 2000"
          ],
          [
           "m2010272180",
           "Alpenkreuzer Openair - SHOWMODEL"
          ],
          [
           "m2009852183",
           "Alpenkreuzer Parade Royale"
          ],
          [
           "m2009559756",
           "Alpenkreuzer Campfire MET LUIFEL"
          ],
          [
           "m2009228561",
           "Alpenkreuzer Campfire 2022"
          ],
          [
           "m2009212162",
           "Alpenkreuzer Parade XL vouwwagen"
          ],
          [
           "m2006517999",
           "Zeer ruime Alpenkreuzer Parade met voortent, luifel en meer"
          ],
          [
           "m2007558415",
           "Alpenkreuzer Parade"
          ],
          [
           "m2007417620",
           "Alpenkreuzer tempo, 1998"
          ],
          [
           "m2003119974",
           "Alpenkreuzer campfire vouwwagen"
          ],
          [
           "m2007052323",
           "Alpenkreuzer Openair INCL. BIJZETTENT / LUIFEL"
          ],
          [
           "m2007052308",
           "Alpenkreuzer Waterfront INCL. BIJZETTENT / LUIFEL"
          ],
          [
           "m2007052268",
           "Alpenkreuzer Campfire INCLUSIEF LUIFEL"
          ],
          [
           "m2006891434",
           "alpenkreuzer allure"
          ],
          [
           "m2006498949",
           "Alpenkreuzer Openair"
          ],
          [
           "m2006498707",
           "Alpenkreuzer Waterfront"
          ],
          [
           "m2006498551",
           "Alpenkreuzer Campfire"
          ],
          [
           "m2005662707",
           "Alpenkreuzer vouwwagen Super GT, hardtop"
          ],
          [
           "m2005272013",
           "Vouwwagen Alpenkreuzer 2018"
          ],
          [
           "m2003623458",
           "Alpenkreuzer Duet 2018 - 2 pers. snelopzetter."
          ],
          [
           "m2002540056",
           "Alpenkreuzer Openair"
          ],
          [
           "m2002525838",
           "Alpenkreuzer Campfire"
          ],
          [
           "m2002524896",
           "Alpenkreuzer Waterfront"
          ],
          [
           "m2002058492",
           "Alpenkreuzer Waterfront"
          ]
         ],
         "hovertemplate": "Manufacturer=Alpenkreuzer<br>construction_year=%{x}<br>price_eur=%{y}<br>itemId=%{customdata[0]}<br>title=%{customdata[1]}<extra></extra>",
         "legendgroup": "Alpenkreuzer",
         "marker": {
          "color": "#FFA15A",
          "symbol": "circle"
         },
         "mode": "markers",
         "name": "Alpenkreuzer",
         "orientation": "v",
         "showlegend": true,
         "type": "scatter",
         "x": [
          null,
          null,
          1999,
          2004,
          2000,
          2023,
          2023,
          null,
          null,
          2019,
          2020,
          2002,
          2006,
          2002,
          null,
          2000,
          2021,
          1995,
          2021,
          null,
          null,
          1998,
          null,
          1998,
          null,
          2023,
          2023,
          2023,
          1988,
          2023,
          2023,
          2023,
          1991,
          2018,
          2018,
          null,
          null,
          null,
          2023
         ],
         "xaxis": "x",
         "y": [
          350,
          500,
          0,
          1250,
          0,
          10995,
          8595,
          395,
          0,
          6000,
          4500,
          400,
          1250,
          500,
          125,
          0,
          10795,
          0,
          8595,
          9250,
          750,
          500,
          0,
          650,
          9250,
          13305,
          9735,
          11290,
          500,
          11995,
          8595,
          10595,
          1000,
          4250,
          4950,
          11995,
          10595,
          8595,
          7995
         ],
         "yaxis": "y"
        },
        {
         "customdata": [
          [
           "m2013280835",
           "paradiso vouwwagen 1979"
          ],
          [
           "m2000299866",
           "Grand Paradiso"
          ],
          [
           "m2010405658",
           "Fantastisch paradiso vouwwagen"
          ],
          [
           "m2010315842",
           "Paradiso vouwwagen"
          ],
          [
           "m2009839574",
           "Vouwwagen Paradiso"
          ],
          [
           "m2002392018",
           "Paradiso Ideale Beach 1998 - Vouwwagen"
          ]
         ],
         "hovertemplate": "Manufacturer=Paradiso<br>construction_year=%{x}<br>price_eur=%{y}<br>itemId=%{customdata[0]}<br>title=%{customdata[1]}<extra></extra>",
         "legendgroup": "Paradiso",
         "marker": {
          "color": "#19d3f3",
          "symbol": "circle"
         },
         "mode": "markers",
         "name": "Paradiso",
         "orientation": "v",
         "showlegend": true,
         "type": "scatter",
         "x": [
          1979,
          null,
          null,
          null,
          1998,
          1998
         ],
         "xaxis": "x",
         "y": [
          0,
          0,
          2250,
          1400,
          2300,
          0
         ],
         "yaxis": "y"
        },
        {
         "customdata": [
          [
           "m2012707884",
           "Isabella Camp-Let Passion vouwwagen 2019 (snelle opzetter)"
          ],
          [
           "m2012597353",
           "Camp-let Concorde Vouwwagen"
          ],
          [
           "m2012468230",
           "Camp-let Passion - Uit voorraad"
          ],
          [
           "m2012466560",
           "Camp-let North - Uit voorraad"
          ],
          [
           "m2012632401",
           "Camp-let Concorde 2009 vouwwagen"
          ],
          [
           "m2011569090",
           "Camp-let Concorde"
          ],
          [
           "m2011356422",
           "Camp-let Dream"
          ],
          [
           "m2010717483",
           "Te koop mooie Camp-let Concorde"
          ],
          [
           "m2010306077",
           "Camp-Let Concorde, bouwjaar 1995, geremd, en 123 systeem."
          ],
          [
           "m2009989728",
           "Camp-let Limited Edition 2014 als NIEUW!"
          ],
          [
           "m2009503741",
           "Camp-let 2GO Geremd, 123 systeem"
          ],
          [
           "m2009274375",
           "Camp-let Apollo"
          ],
          [
           "m2004108616",
           "Camp-let North 2023 Direct leverbaar"
          ],
          [
           "m2003295077",
           "Camp-Let vouwwagen te koop"
          ]
         ],
         "hovertemplate": "Manufacturer=Camp-Let<br>construction_year=%{x}<br>price_eur=%{y}<br>itemId=%{customdata[0]}<br>title=%{customdata[1]}<extra></extra>",
         "legendgroup": "Camp-Let",
         "marker": {
          "color": "#FF6692",
          "symbol": "circle"
         },
         "mode": "markers",
         "name": "Camp-Let",
         "orientation": "v",
         "showlegend": true,
         "type": "scatter",
         "x": [
          2019,
          null,
          2023,
          2023,
          null,
          2003,
          2019,
          2001,
          null,
          null,
          2017,
          1992,
          2023,
          null
         ],
         "xaxis": "x",
         "y": [
          8500,
          1250,
          11099,
          9799,
          2995,
          0,
          0,
          0,
          550,
          0,
          4950,
          0,
          9799,
          2550
         ],
         "yaxis": "y"
        }
       ],
       "layout": {
        "legend": {
         "title": {
          "text": "Manufacturer"
         },
         "tracegroupgap": 0
        },
        "margin": {
         "t": 60
        },
        "template": {
         "data": {
          "bar": [
           {
            "error_x": {
             "color": "#2a3f5f"
            },
            "error_y": {
             "color": "#2a3f5f"
            },
            "marker": {
             "line": {
              "color": "#E5ECF6",
              "width": 0.5
             },
             "pattern": {
              "fillmode": "overlay",
              "size": 10,
              "solidity": 0.2
             }
            },
            "type": "bar"
           }
          ],
          "barpolar": [
           {
            "marker": {
             "line": {
              "color": "#E5ECF6",
              "width": 0.5
             },
             "pattern": {
              "fillmode": "overlay",
              "size": 10,
              "solidity": 0.2
             }
            },
            "type": "barpolar"
           }
          ],
          "carpet": [
           {
            "aaxis": {
             "endlinecolor": "#2a3f5f",
             "gridcolor": "white",
             "linecolor": "white",
             "minorgridcolor": "white",
             "startlinecolor": "#2a3f5f"
            },
            "baxis": {
             "endlinecolor": "#2a3f5f",
             "gridcolor": "white",
             "linecolor": "white",
             "minorgridcolor": "white",
             "startlinecolor": "#2a3f5f"
            },
            "type": "carpet"
           }
          ],
          "choropleth": [
           {
            "colorbar": {
             "outlinewidth": 0,
             "ticks": ""
            },
            "type": "choropleth"
           }
          ],
          "contour": [
           {
            "colorbar": {
             "outlinewidth": 0,
             "ticks": ""
            },
            "colorscale": [
             [
              0,
              "#0d0887"
             ],
             [
              0.1111111111111111,
              "#46039f"
             ],
             [
              0.2222222222222222,
              "#7201a8"
             ],
             [
              0.3333333333333333,
              "#9c179e"
             ],
             [
              0.4444444444444444,
              "#bd3786"
             ],
             [
              0.5555555555555556,
              "#d8576b"
             ],
             [
              0.6666666666666666,
              "#ed7953"
             ],
             [
              0.7777777777777778,
              "#fb9f3a"
             ],
             [
              0.8888888888888888,
              "#fdca26"
             ],
             [
              1,
              "#f0f921"
             ]
            ],
            "type": "contour"
           }
          ],
          "contourcarpet": [
           {
            "colorbar": {
             "outlinewidth": 0,
             "ticks": ""
            },
            "type": "contourcarpet"
           }
          ],
          "heatmap": [
           {
            "colorbar": {
             "outlinewidth": 0,
             "ticks": ""
            },
            "colorscale": [
             [
              0,
              "#0d0887"
             ],
             [
              0.1111111111111111,
              "#46039f"
             ],
             [
              0.2222222222222222,
              "#7201a8"
             ],
             [
              0.3333333333333333,
              "#9c179e"
             ],
             [
              0.4444444444444444,
              "#bd3786"
             ],
             [
              0.5555555555555556,
              "#d8576b"
             ],
             [
              0.6666666666666666,
              "#ed7953"
             ],
             [
              0.7777777777777778,
              "#fb9f3a"
             ],
             [
              0.8888888888888888,
              "#fdca26"
             ],
             [
              1,
              "#f0f921"
             ]
            ],
            "type": "heatmap"
           }
          ],
          "heatmapgl": [
           {
            "colorbar": {
             "outlinewidth": 0,
             "ticks": ""
            },
            "colorscale": [
             [
              0,
              "#0d0887"
             ],
             [
              0.1111111111111111,
              "#46039f"
             ],
             [
              0.2222222222222222,
              "#7201a8"
             ],
             [
              0.3333333333333333,
              "#9c179e"
             ],
             [
              0.4444444444444444,
              "#bd3786"
             ],
             [
              0.5555555555555556,
              "#d8576b"
             ],
             [
              0.6666666666666666,
              "#ed7953"
             ],
             [
              0.7777777777777778,
              "#fb9f3a"
             ],
             [
              0.8888888888888888,
              "#fdca26"
             ],
             [
              1,
              "#f0f921"
             ]
            ],
            "type": "heatmapgl"
           }
          ],
          "histogram": [
           {
            "marker": {
             "pattern": {
              "fillmode": "overlay",
              "size": 10,
              "solidity": 0.2
             }
            },
            "type": "histogram"
           }
          ],
          "histogram2d": [
           {
            "colorbar": {
             "outlinewidth": 0,
             "ticks": ""
            },
            "colorscale": [
             [
              0,
              "#0d0887"
             ],
             [
              0.1111111111111111,
              "#46039f"
             ],
             [
              0.2222222222222222,
              "#7201a8"
             ],
             [
              0.3333333333333333,
              "#9c179e"
             ],
             [
              0.4444444444444444,
              "#bd3786"
             ],
             [
              0.5555555555555556,
              "#d8576b"
             ],
             [
              0.6666666666666666,
              "#ed7953"
             ],
             [
              0.7777777777777778,
              "#fb9f3a"
             ],
             [
              0.8888888888888888,
              "#fdca26"
             ],
             [
              1,
              "#f0f921"
             ]
            ],
            "type": "histogram2d"
           }
          ],
          "histogram2dcontour": [
           {
            "colorbar": {
             "outlinewidth": 0,
             "ticks": ""
            },
            "colorscale": [
             [
              0,
              "#0d0887"
             ],
             [
              0.1111111111111111,
              "#46039f"
             ],
             [
              0.2222222222222222,
              "#7201a8"
             ],
             [
              0.3333333333333333,
              "#9c179e"
             ],
             [
              0.4444444444444444,
              "#bd3786"
             ],
             [
              0.5555555555555556,
              "#d8576b"
             ],
             [
              0.6666666666666666,
              "#ed7953"
             ],
             [
              0.7777777777777778,
              "#fb9f3a"
             ],
             [
              0.8888888888888888,
              "#fdca26"
             ],
             [
              1,
              "#f0f921"
             ]
            ],
            "type": "histogram2dcontour"
           }
          ],
          "mesh3d": [
           {
            "colorbar": {
             "outlinewidth": 0,
             "ticks": ""
            },
            "type": "mesh3d"
           }
          ],
          "parcoords": [
           {
            "line": {
             "colorbar": {
              "outlinewidth": 0,
              "ticks": ""
             }
            },
            "type": "parcoords"
           }
          ],
          "pie": [
           {
            "automargin": true,
            "type": "pie"
           }
          ],
          "scatter": [
           {
            "fillpattern": {
             "fillmode": "overlay",
             "size": 10,
             "solidity": 0.2
            },
            "type": "scatter"
           }
          ],
          "scatter3d": [
           {
            "line": {
             "colorbar": {
              "outlinewidth": 0,
              "ticks": ""
             }
            },
            "marker": {
             "colorbar": {
              "outlinewidth": 0,
              "ticks": ""
             }
            },
            "type": "scatter3d"
           }
          ],
          "scattercarpet": [
           {
            "marker": {
             "colorbar": {
              "outlinewidth": 0,
              "ticks": ""
             }
            },
            "type": "scattercarpet"
           }
          ],
          "scattergeo": [
           {
            "marker": {
             "colorbar": {
              "outlinewidth": 0,
              "ticks": ""
             }
            },
            "type": "scattergeo"
           }
          ],
          "scattergl": [
           {
            "marker": {
             "colorbar": {
              "outlinewidth": 0,
              "ticks": ""
             }
            },
            "type": "scattergl"
           }
          ],
          "scattermapbox": [
           {
            "marker": {
             "colorbar": {
              "outlinewidth": 0,
              "ticks": ""
             }
            },
            "type": "scattermapbox"
           }
          ],
          "scatterpolar": [
           {
            "marker": {
             "colorbar": {
              "outlinewidth": 0,
              "ticks": ""
             }
            },
            "type": "scatterpolar"
           }
          ],
          "scatterpolargl": [
           {
            "marker": {
             "colorbar": {
              "outlinewidth": 0,
              "ticks": ""
             }
            },
            "type": "scatterpolargl"
           }
          ],
          "scatterternary": [
           {
            "marker": {
             "colorbar": {
              "outlinewidth": 0,
              "ticks": ""
             }
            },
            "type": "scatterternary"
           }
          ],
          "surface": [
           {
            "colorbar": {
             "outlinewidth": 0,
             "ticks": ""
            },
            "colorscale": [
             [
              0,
              "#0d0887"
             ],
             [
              0.1111111111111111,
              "#46039f"
             ],
             [
              0.2222222222222222,
              "#7201a8"
             ],
             [
              0.3333333333333333,
              "#9c179e"
             ],
             [
              0.4444444444444444,
              "#bd3786"
             ],
             [
              0.5555555555555556,
              "#d8576b"
             ],
             [
              0.6666666666666666,
              "#ed7953"
             ],
             [
              0.7777777777777778,
              "#fb9f3a"
             ],
             [
              0.8888888888888888,
              "#fdca26"
             ],
             [
              1,
              "#f0f921"
             ]
            ],
            "type": "surface"
           }
          ],
          "table": [
           {
            "cells": {
             "fill": {
              "color": "#EBF0F8"
             },
             "line": {
              "color": "white"
             }
            },
            "header": {
             "fill": {
              "color": "#C8D4E3"
             },
             "line": {
              "color": "white"
             }
            },
            "type": "table"
           }
          ]
         },
         "layout": {
          "annotationdefaults": {
           "arrowcolor": "#2a3f5f",
           "arrowhead": 0,
           "arrowwidth": 1
          },
          "autotypenumbers": "strict",
          "coloraxis": {
           "colorbar": {
            "outlinewidth": 0,
            "ticks": ""
           }
          },
          "colorscale": {
           "diverging": [
            [
             0,
             "#8e0152"
            ],
            [
             0.1,
             "#c51b7d"
            ],
            [
             0.2,
             "#de77ae"
            ],
            [
             0.3,
             "#f1b6da"
            ],
            [
             0.4,
             "#fde0ef"
            ],
            [
             0.5,
             "#f7f7f7"
            ],
            [
             0.6,
             "#e6f5d0"
            ],
            [
             0.7,
             "#b8e186"
            ],
            [
             0.8,
             "#7fbc41"
            ],
            [
             0.9,
             "#4d9221"
            ],
            [
             1,
             "#276419"
            ]
           ],
           "sequential": [
            [
             0,
             "#0d0887"
            ],
            [
             0.1111111111111111,
             "#46039f"
            ],
            [
             0.2222222222222222,
             "#7201a8"
            ],
            [
             0.3333333333333333,
             "#9c179e"
            ],
            [
             0.4444444444444444,
             "#bd3786"
            ],
            [
             0.5555555555555556,
             "#d8576b"
            ],
            [
             0.6666666666666666,
             "#ed7953"
            ],
            [
             0.7777777777777778,
             "#fb9f3a"
            ],
            [
             0.8888888888888888,
             "#fdca26"
            ],
            [
             1,
             "#f0f921"
            ]
           ],
           "sequentialminus": [
            [
             0,
             "#0d0887"
            ],
            [
             0.1111111111111111,
             "#46039f"
            ],
            [
             0.2222222222222222,
             "#7201a8"
            ],
            [
             0.3333333333333333,
             "#9c179e"
            ],
            [
             0.4444444444444444,
             "#bd3786"
            ],
            [
             0.5555555555555556,
             "#d8576b"
            ],
            [
             0.6666666666666666,
             "#ed7953"
            ],
            [
             0.7777777777777778,
             "#fb9f3a"
            ],
            [
             0.8888888888888888,
             "#fdca26"
            ],
            [
             1,
             "#f0f921"
            ]
           ]
          },
          "colorway": [
           "#636efa",
           "#EF553B",
           "#00cc96",
           "#ab63fa",
           "#FFA15A",
           "#19d3f3",
           "#FF6692",
           "#B6E880",
           "#FF97FF",
           "#FECB52"
          ],
          "font": {
           "color": "#2a3f5f"
          },
          "geo": {
           "bgcolor": "white",
           "lakecolor": "white",
           "landcolor": "#E5ECF6",
           "showlakes": true,
           "showland": true,
           "subunitcolor": "white"
          },
          "hoverlabel": {
           "align": "left"
          },
          "hovermode": "closest",
          "mapbox": {
           "style": "light"
          },
          "paper_bgcolor": "white",
          "plot_bgcolor": "#E5ECF6",
          "polar": {
           "angularaxis": {
            "gridcolor": "white",
            "linecolor": "white",
            "ticks": ""
           },
           "bgcolor": "#E5ECF6",
           "radialaxis": {
            "gridcolor": "white",
            "linecolor": "white",
            "ticks": ""
           }
          },
          "scene": {
           "xaxis": {
            "backgroundcolor": "#E5ECF6",
            "gridcolor": "white",
            "gridwidth": 2,
            "linecolor": "white",
            "showbackground": true,
            "ticks": "",
            "zerolinecolor": "white"
           },
           "yaxis": {
            "backgroundcolor": "#E5ECF6",
            "gridcolor": "white",
            "gridwidth": 2,
            "linecolor": "white",
            "showbackground": true,
            "ticks": "",
            "zerolinecolor": "white"
           },
           "zaxis": {
            "backgroundcolor": "#E5ECF6",
            "gridcolor": "white",
            "gridwidth": 2,
            "linecolor": "white",
            "showbackground": true,
            "ticks": "",
            "zerolinecolor": "white"
           }
          },
          "shapedefaults": {
           "line": {
            "color": "#2a3f5f"
           }
          },
          "ternary": {
           "aaxis": {
            "gridcolor": "white",
            "linecolor": "white",
            "ticks": ""
           },
           "baxis": {
            "gridcolor": "white",
            "linecolor": "white",
            "ticks": ""
           },
           "bgcolor": "#E5ECF6",
           "caxis": {
            "gridcolor": "white",
            "linecolor": "white",
            "ticks": ""
           }
          },
          "title": {
           "x": 0.05
          },
          "xaxis": {
           "automargin": true,
           "gridcolor": "white",
           "linecolor": "white",
           "ticks": "",
           "title": {
            "standoff": 15
           },
           "zerolinecolor": "white",
           "zerolinewidth": 2
          },
          "yaxis": {
           "automargin": true,
           "gridcolor": "white",
           "linecolor": "white",
           "ticks": "",
           "title": {
            "standoff": 15
           },
           "zerolinecolor": "white",
           "zerolinewidth": 2
          }
         }
        },
        "xaxis": {
         "anchor": "y",
         "domain": [
          0,
          1
         ],
         "title": {
          "text": "construction_year"
         }
        },
        "yaxis": {
         "anchor": "x",
         "domain": [
          0,
          1
         ],
         "title": {
          "text": "price_eur"
         }
        }
       }
      }
     },
     "metadata": {},
     "output_type": "display_data"
    }
   ],
   "source": [
    "fig = px.scatter(df_ads, x=\"construction_year\", y=\"price_eur\",\n",
    "                color=\"Manufacturer\",\n",
    "                #  size='petal_length', \n",
    "                hover_data=['itemId','title']\n",
    "                 )\n",
    "fig.show()"
   ]
  }
 ],
 "metadata": {
  "kernelspec": {
   "display_name": "Python 3",
   "language": "python",
   "name": "python3"
  },
  "language_info": {
   "codemirror_mode": {
    "name": "ipython",
    "version": 3
   },
   "file_extension": ".py",
   "mimetype": "text/x-python",
   "name": "python",
   "nbconvert_exporter": "python",
   "pygments_lexer": "ipython3",
   "version": "3.11.4"
  },
  "orig_nbformat": 4
 },
 "nbformat": 4,
 "nbformat_minor": 2
}
