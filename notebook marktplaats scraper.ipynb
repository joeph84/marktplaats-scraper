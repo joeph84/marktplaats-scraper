{
 "cells": [
  {
   "cell_type": "code",
   "execution_count": 52,
   "metadata": {},
   "outputs": [],
   "source": [
    "from lxml import html\n",
    "import requests\n",
    "from bs4 import BeautifulSoup\n",
    "import json\n",
    "\n",
    "import pandas as pd\n",
    "\n",
    "DownloadNewData = False\n",
    "\n",
    "if DownloadNewData:\n",
    "    session = requests.Session()\n",
    "    headers = {'User-Agent': 'Mozilla/5.0 (Windows NT 10.0; Win64; x64) AppleWebKit/537.36 (KHTML, like Gecko) Chrome/70.0.3538.102 Safari/537.36 Edge/18.19577'}\n",
    "    ads_returned = True\n",
    "    pagenr = 0\n",
    "    df_ads = pd.DataFrame()\n",
    "    while ads_returned:\n",
    "        pagenr = pagenr+1\n",
    "        url = f'https://www.marktplaats.nl/l/caravans-en-kamperen/vouwwagens/p/{pagenr}/#q:holtkamper|PriceCentsTo:1000000|searchInTitleAndDescription:true'\n",
    "        page = session.get(url, headers=headers)\n",
    "        soup = BeautifulSoup(page.content, 'html.parser')\n",
    "        # print(soup.prettify())\n",
    "        data = json.loads(soup.find('script',type='application/json').text)\n",
    "        ads = data['props']['pageProps']['searchRequestAndResponse']['listings']\n",
    "        if len(ads) > 0:\n",
    "            df_temp = pd.DataFrame(ads)\n",
    "            df_ads = pd.concat([df_ads,df_temp],ignore_index=True)\n",
    "        else:\n",
    "            ads_returned = False\n",
    "    df_ads.to_pickle('Download vouwwagens 20230821.pkl')\n",
    "else:\n",
    "    df_ads = pd.read_pickle('Download vouwwagens 20230821.pkl')\n",
    "\n",
    "# df_ads"
   ]
  },
  {
   "cell_type": "code",
   "execution_count": 56,
   "metadata": {},
   "outputs": [
    {
     "data": {
      "text/html": [
       "<div>\n",
       "<style scoped>\n",
       "    .dataframe tbody tr th:only-of-type {\n",
       "        vertical-align: middle;\n",
       "    }\n",
       "\n",
       "    .dataframe tbody tr th {\n",
       "        vertical-align: top;\n",
       "    }\n",
       "\n",
       "    .dataframe thead th {\n",
       "        text-align: right;\n",
       "    }\n",
       "</style>\n",
       "<table border=\"1\" class=\"dataframe\">\n",
       "  <thead>\n",
       "    <tr style=\"text-align: right;\">\n",
       "      <th></th>\n",
       "      <th>itemId</th>\n",
       "      <th>title</th>\n",
       "      <th>description</th>\n",
       "      <th>categorySpecificDescription</th>\n",
       "      <th>thinContent</th>\n",
       "      <th>priceInfo</th>\n",
       "      <th>location</th>\n",
       "      <th>date</th>\n",
       "      <th>imageUrls</th>\n",
       "      <th>sellerInformation</th>\n",
       "      <th>...</th>\n",
       "      <th>extendedAttributes</th>\n",
       "      <th>traits</th>\n",
       "      <th>verticals</th>\n",
       "      <th>pictures</th>\n",
       "      <th>vipUrl</th>\n",
       "      <th>attributes</th>\n",
       "      <th>trackingData</th>\n",
       "      <th>pageLocation</th>\n",
       "      <th>trustIndicators</th>\n",
       "      <th>highlights</th>\n",
       "    </tr>\n",
       "  </thead>\n",
       "  <tbody>\n",
       "    <tr>\n",
       "      <th>0</th>\n",
       "      <td>m2013406244</td>\n",
       "      <td>Jamet Dakota outdoor 2019 met easy pack system</td>\n",
       "      <td>Te koop jamet dakota outdoor 2019, geleverd do...</td>\n",
       "      <td>Te koop jamet dakota outdoor 2019, geleverd do...</td>\n",
       "      <td>False</td>\n",
       "      <td>{'priceCents': 725000, 'priceType': 'FIXED'}</td>\n",
       "      <td>{'cityName': 'Someren', 'countryName': 'Nederl...</td>\n",
       "      <td>2023-08-21T11:03:21.497Z</td>\n",
       "      <td>[//images.marktplaats.com/api/v1/listing-mp-p/...</td>\n",
       "      <td>{'sellerId': 20046633, 'sellerName': 'FrankAno...</td>\n",
       "      <td>...</td>\n",
       "      <td>[]</td>\n",
       "      <td>[DAG_TOPPER_7DAYS, PACKAGE_PREMIUM]</td>\n",
       "      <td>[caravans_and_camping_folders, automotive, car...</td>\n",
       "      <td>[{'id': 9005392135, 'mediaId': '', 'url': 'htt...</td>\n",
       "      <td>/v/caravans-en-kamperen/vouwwagens/m2013406244...</td>\n",
       "      <td>NaN</td>\n",
       "      <td>NaN</td>\n",
       "      <td>NaN</td>\n",
       "      <td>NaN</td>\n",
       "      <td>NaN</td>\n",
       "    </tr>\n",
       "    <tr>\n",
       "      <th>1</th>\n",
       "      <td>m2013363332</td>\n",
       "      <td>Vouwwagen Jamet Dakota All Season (zelfreinigend)</td>\n",
       "      <td>Degelijke en zeer ruime vouwwagen tot 8 person...</td>\n",
       "      <td>Degelijke en zeer ruime vouwwagen tot 8 person...</td>\n",
       "      <td>False</td>\n",
       "      <td>{'priceCents': 600000, 'priceType': 'MIN_BID'}</td>\n",
       "      <td>{'cityName': ''s-Hertogenbosch', 'countryName'...</td>\n",
       "      <td>2023-08-21T11:03:21.497Z</td>\n",
       "      <td>[//images.marktplaats.com/api/v1/listing-mp-p/...</td>\n",
       "      <td>{'sellerId': 1591767, 'sellerName': 'Martijn',...</td>\n",
       "      <td>...</td>\n",
       "      <td>[{'key': 'numberOfSleepingPlaces', 'value': 'M...</td>\n",
       "      <td>[DAG_TOPPER_7DAYS, PACKAGE_PREMIUM]</td>\n",
       "      <td>[caravans_and_camping_folders, automotive, car...</td>\n",
       "      <td>[{'id': 9005067293, 'mediaId': '', 'url': 'htt...</td>\n",
       "      <td>/v/caravans-en-kamperen/vouwwagens/m2013363332...</td>\n",
       "      <td>[{'key': 'constructionYear', 'value': '2017', ...</td>\n",
       "      <td>NaN</td>\n",
       "      <td>NaN</td>\n",
       "      <td>NaN</td>\n",
       "      <td>NaN</td>\n",
       "    </tr>\n",
       "    <tr>\n",
       "      <th>2</th>\n",
       "      <td>m2013253836</td>\n",
       "      <td>Holtkamper Cocoon S (2013)</td>\n",
       "      <td>Tien jaar hebben we genoten van deze zeer gebr...</td>\n",
       "      <td>Tien jaar hebben we genoten van deze zeer gebr...</td>\n",
       "      <td>False</td>\n",
       "      <td>{'priceCents': 700000, 'priceType': 'MIN_BID'}</td>\n",
       "      <td>{'cityName': 'Veenendaal', 'countryName': 'Ned...</td>\n",
       "      <td>2023-08-21T11:03:21.497Z</td>\n",
       "      <td>[//images.marktplaats.com/api/v1/listing-mp-p/...</td>\n",
       "      <td>{'sellerId': 15349691, 'sellerName': 'Teeuwiss...</td>\n",
       "      <td>...</td>\n",
       "      <td>[{'key': 'numberOfSleepingPlaces', 'value': 'T...</td>\n",
       "      <td>[DAG_TOPPER_7DAYS, PACKAGE_BASIC]</td>\n",
       "      <td>[caravans_and_camping_folders, automotive, car...</td>\n",
       "      <td>[{'id': 9004219160, 'mediaId': '', 'url': 'htt...</td>\n",
       "      <td>/v/caravans-en-kamperen/vouwwagens/m2013253836...</td>\n",
       "      <td>[{'key': 'constructionYear', 'value': '2013', ...</td>\n",
       "      <td>NaN</td>\n",
       "      <td>NaN</td>\n",
       "      <td>NaN</td>\n",
       "      <td>NaN</td>\n",
       "    </tr>\n",
       "    <tr>\n",
       "      <th>3</th>\n",
       "      <td>m2013201620</td>\n",
       "      <td>Combi Camp Flexi Comfort XL - 2020 - Katoen - ...</td>\n",
       "      <td>Vandaag te bezichtigen: zéér complete, prachti...</td>\n",
       "      <td>Vandaag te bezichtigen: zéér complete, prachti...</td>\n",
       "      <td>False</td>\n",
       "      <td>{'priceCents': 950000, 'priceType': 'MIN_BID'}</td>\n",
       "      <td>{'cityName': 'Rosmalen', 'countryName': 'Neder...</td>\n",
       "      <td>2023-08-21T11:03:21.497Z</td>\n",
       "      <td>[//images.marktplaats.com/api/v1/listing-mp-p/...</td>\n",
       "      <td>{'sellerId': 5412332, 'sellerName': 'Desiree',...</td>\n",
       "      <td>...</td>\n",
       "      <td>[{'key': 'numberOfSleepingPlaces', 'value': 'T...</td>\n",
       "      <td>[DAG_TOPPER_7DAYS, PACKAGE_PREMIUM]</td>\n",
       "      <td>[caravans_and_camping_folders, automotive, car...</td>\n",
       "      <td>[{'id': 9004943719, 'mediaId': '', 'url': 'htt...</td>\n",
       "      <td>/v/caravans-en-kamperen/vouwwagens/m2013201620...</td>\n",
       "      <td>[{'key': 'constructionYear', 'value': '2020', ...</td>\n",
       "      <td>NaN</td>\n",
       "      <td>NaN</td>\n",
       "      <td>NaN</td>\n",
       "      <td>NaN</td>\n",
       "    </tr>\n",
       "    <tr>\n",
       "      <th>5</th>\n",
       "      <td>m2008112387</td>\n",
       "      <td>Jamet Montana vouwwagen</td>\n",
       "      <td>Kenmerken: - 8 persoons - 100% waterdicht - on...</td>\n",
       "      <td>Kenmerken: - 8 persoons - 100% waterdicht - on...</td>\n",
       "      <td>False</td>\n",
       "      <td>{'priceCents': 65000, 'priceType': 'MIN_BID'}</td>\n",
       "      <td>{'cityName': ''s-Gravenhage', 'countryName': '...</td>\n",
       "      <td>2023-08-21T11:03:21.497Z</td>\n",
       "      <td>[//images.marktplaats.com/api/v1/listing-mp-p/...</td>\n",
       "      <td>{'sellerId': 49268641, 'sellerName': 'Brechtje...</td>\n",
       "      <td>...</td>\n",
       "      <td>[{'key': 'numberOfSleepingPlaces', 'value': 'M...</td>\n",
       "      <td>[DAG_TOPPER_7DAYS, PACKAGE_PREMIUM]</td>\n",
       "      <td>[caravans_and_camping_folders, automotive, car...</td>\n",
       "      <td>[{'id': 8972178974, 'mediaId': '', 'url': 'htt...</td>\n",
       "      <td>/v/caravans-en-kamperen/vouwwagens/m2008112387...</td>\n",
       "      <td>NaN</td>\n",
       "      <td>NaN</td>\n",
       "      <td>NaN</td>\n",
       "      <td>NaN</td>\n",
       "      <td>NaN</td>\n",
       "    </tr>\n",
       "    <tr>\n",
       "      <th>...</th>\n",
       "      <td>...</td>\n",
       "      <td>...</td>\n",
       "      <td>...</td>\n",
       "      <td>...</td>\n",
       "      <td>...</td>\n",
       "      <td>...</td>\n",
       "      <td>...</td>\n",
       "      <td>...</td>\n",
       "      <td>...</td>\n",
       "      <td>...</td>\n",
       "      <td>...</td>\n",
       "      <td>...</td>\n",
       "      <td>...</td>\n",
       "      <td>...</td>\n",
       "      <td>...</td>\n",
       "      <td>...</td>\n",
       "      <td>...</td>\n",
       "      <td>...</td>\n",
       "      <td>...</td>\n",
       "      <td>...</td>\n",
       "      <td>...</td>\n",
       "    </tr>\n",
       "    <tr>\n",
       "      <th>1015</th>\n",
       "      <td>m2002524896</td>\n",
       "      <td>Alpenkreuzer Waterfront</td>\n",
       "      <td>Waterfront het element water symboliseert leve...</td>\n",
       "      <td>Waterfront het element water symboliseert leve...</td>\n",
       "      <td>False</td>\n",
       "      <td>{'priceCents': 859500, 'priceType': 'FIXED'}</td>\n",
       "      <td>{'cityName': 'Zwolle', 'countryName': 'Nederla...</td>\n",
       "      <td>2023-07-23T08:40:06Z</td>\n",
       "      <td>[//images.marktplaats.com/api/v1/listing-mp-p/...</td>\n",
       "      <td>{'sellerId': 42760044, 'sellerName': 'Caravan ...</td>\n",
       "      <td>...</td>\n",
       "      <td>[{'key': 'numberOfSleepingPlaces', 'value': 'T...</td>\n",
       "      <td>[DEALER_PACKAGE_BASIC, TRADE_IN_REQUEST_AVAILA...</td>\n",
       "      <td>[caravans_and_camping_folders, automotive, car...</td>\n",
       "      <td>[{'id': 8972866422, 'mediaId': '', 'url': 'htt...</td>\n",
       "      <td>/v/caravans-en-kamperen/vouwwagens/m2002524896...</td>\n",
       "      <td>NaN</td>\n",
       "      <td>NaN</td>\n",
       "      <td>NaN</td>\n",
       "      <td>NaN</td>\n",
       "      <td>NaN</td>\n",
       "    </tr>\n",
       "    <tr>\n",
       "      <th>1016</th>\n",
       "      <td>m2002392018</td>\n",
       "      <td>Paradiso Ideale Beach 1998 - Vouwwagen</td>\n",
       "      <td>Maten en gewichten breedte: 200 cm. Totale len...</td>\n",
       "      <td>Maten en gewichten breedte: 200 cm. Totale len...</td>\n",
       "      <td>False</td>\n",
       "      <td>{'priceCents': 0, 'priceType': 'RESERVED'}</td>\n",
       "      <td>{'cityName': 'Berkel en Rodenrijs', 'countryNa...</td>\n",
       "      <td>2023-07-22T17:32:57Z</td>\n",
       "      <td>[//images.marktplaats.com/api/v1/listing-mp-p/...</td>\n",
       "      <td>{'sellerId': 1895482, 'sellerName': 'Maat Cara...</td>\n",
       "      <td>...</td>\n",
       "      <td>[{'key': 'numberOfSleepingPlaces', 'value': 'T...</td>\n",
       "      <td>[DEALER_PACKAGE_BASIC, TRADE_IN_REQUEST_AVAILA...</td>\n",
       "      <td>[caravans_and_camping_folders, automotive, car...</td>\n",
       "      <td>[{'id': 8948604540, 'mediaId': '', 'url': 'htt...</td>\n",
       "      <td>/v/caravans-en-kamperen/vouwwagens/m2002392018...</td>\n",
       "      <td>[{'key': 'constructionYear', 'value': '1998', ...</td>\n",
       "      <td>NaN</td>\n",
       "      <td>NaN</td>\n",
       "      <td>NaN</td>\n",
       "      <td>NaN</td>\n",
       "    </tr>\n",
       "    <tr>\n",
       "      <th>1017</th>\n",
       "      <td>m2002058492</td>\n",
       "      <td>Alpenkreuzer Waterfront</td>\n",
       "      <td>Maten en gewichten leeg-gewicht: 340 kg. Maxim...</td>\n",
       "      <td>Maten en gewichten leeg-gewicht: 340 kg. Maxim...</td>\n",
       "      <td>False</td>\n",
       "      <td>{'priceCents': 799500, 'priceType': 'FIXED'}</td>\n",
       "      <td>{'cityName': 'Purmerend', 'countryName': 'Nede...</td>\n",
       "      <td>2023-07-21T19:25:31Z</td>\n",
       "      <td>[//images.marktplaats.com/api/v1/listing-mp-p/...</td>\n",
       "      <td>{'sellerId': 2605182, 'sellerName': 'Caravan C...</td>\n",
       "      <td>...</td>\n",
       "      <td>[{'key': 'numberOfSleepingPlaces', 'value': 'T...</td>\n",
       "      <td>[DEALER_PACKAGE_BASIC, TRADE_IN_REQUEST_AVAILA...</td>\n",
       "      <td>[caravans_and_camping_folders, automotive, car...</td>\n",
       "      <td>[{'id': 8939343575, 'mediaId': '', 'url': 'htt...</td>\n",
       "      <td>/v/caravans-en-kamperen/vouwwagens/m2002058492...</td>\n",
       "      <td>[{'key': 'constructionYear', 'value': '2023', ...</td>\n",
       "      <td>NaN</td>\n",
       "      <td>NaN</td>\n",
       "      <td>NaN</td>\n",
       "      <td>NaN</td>\n",
       "    </tr>\n",
       "    <tr>\n",
       "      <th>1018</th>\n",
       "      <td>m2002049333</td>\n",
       "      <td>Jamet Panorama</td>\n",
       "      <td>Maten en gewichten totale lengte: 350 cm.  Dit...</td>\n",
       "      <td>Maten en gewichten totale lengte: 350 cm.  Dit...</td>\n",
       "      <td>False</td>\n",
       "      <td>{'priceCents': 0, 'priceType': 'RESERVED'}</td>\n",
       "      <td>{'cityName': 'Noardburgum', 'countryName': 'Ne...</td>\n",
       "      <td>2023-07-21T18:53:02Z</td>\n",
       "      <td>[//images.marktplaats.com/api/v1/listing-mp-p/...</td>\n",
       "      <td>{'sellerId': 1459169, 'sellerName': 'Vouwwagen...</td>\n",
       "      <td>...</td>\n",
       "      <td>[{'key': 'numberOfSleepingPlaces', 'value': 'T...</td>\n",
       "      <td>[FEED_BOOSTER_REMOVER, DEALER_PACKAGE_BASIC, N...</td>\n",
       "      <td>[caravans_and_camping_folders, automotive, car...</td>\n",
       "      <td>[{'id': 9001931161, 'mediaId': '', 'url': 'htt...</td>\n",
       "      <td>/v/caravans-en-kamperen/vouwwagens/m2002049333...</td>\n",
       "      <td>[{'key': 'constructionYear', 'value': '2014', ...</td>\n",
       "      <td>NaN</td>\n",
       "      <td>NaN</td>\n",
       "      <td>NaN</td>\n",
       "      <td>NaN</td>\n",
       "    </tr>\n",
       "    <tr>\n",
       "      <th>1019</th>\n",
       "      <td>m2001978105</td>\n",
       "      <td>Jamet Jametic Blue Style</td>\n",
       "      <td>Modeljaar: 2014 maten en gewichten breedte: 40...</td>\n",
       "      <td>Modeljaar: 2014 maten en gewichten breedte: 40...</td>\n",
       "      <td>False</td>\n",
       "      <td>{'priceCents': 399500, 'priceType': 'FIXED'}</td>\n",
       "      <td>{'cityName': 'Amersfoort', 'countryName': 'Ned...</td>\n",
       "      <td>2023-07-21T15:09:29Z</td>\n",
       "      <td>[//images.marktplaats.com/api/v1/listing-mp-p/...</td>\n",
       "      <td>{'sellerId': 23708283, 'sellerName': 'Vouwwage...</td>\n",
       "      <td>...</td>\n",
       "      <td>[{'key': 'numberOfSleepingPlaces', 'value': 'T...</td>\n",
       "      <td>[DEALER_PACKAGE_BASIC, TRADE_IN_REQUEST_AVAILA...</td>\n",
       "      <td>[caravans_and_camping_folders, automotive, car...</td>\n",
       "      <td>[{'id': 8979090599, 'mediaId': '', 'url': 'htt...</td>\n",
       "      <td>/v/caravans-en-kamperen/vouwwagens/m2001978105...</td>\n",
       "      <td>[{'key': 'constructionYear', 'value': '2014', ...</td>\n",
       "      <td>NaN</td>\n",
       "      <td>NaN</td>\n",
       "      <td>NaN</td>\n",
       "      <td>NaN</td>\n",
       "    </tr>\n",
       "  </tbody>\n",
       "</table>\n",
       "<p>969 rows × 25 columns</p>\n",
       "</div>"
      ],
      "text/plain": [
       "           itemId                                              title  \\\n",
       "0     m2013406244     Jamet Dakota outdoor 2019 met easy pack system   \n",
       "1     m2013363332  Vouwwagen Jamet Dakota All Season (zelfreinigend)   \n",
       "2     m2013253836                         Holtkamper Cocoon S (2013)   \n",
       "3     m2013201620  Combi Camp Flexi Comfort XL - 2020 - Katoen - ...   \n",
       "5     m2008112387                            Jamet Montana vouwwagen   \n",
       "...           ...                                                ...   \n",
       "1015  m2002524896                            Alpenkreuzer Waterfront   \n",
       "1016  m2002392018             Paradiso Ideale Beach 1998 - Vouwwagen   \n",
       "1017  m2002058492                            Alpenkreuzer Waterfront   \n",
       "1018  m2002049333                                     Jamet Panorama   \n",
       "1019  m2001978105                           Jamet Jametic Blue Style   \n",
       "\n",
       "                                            description  \\\n",
       "0     Te koop jamet dakota outdoor 2019, geleverd do...   \n",
       "1     Degelijke en zeer ruime vouwwagen tot 8 person...   \n",
       "2     Tien jaar hebben we genoten van deze zeer gebr...   \n",
       "3     Vandaag te bezichtigen: zéér complete, prachti...   \n",
       "5     Kenmerken: - 8 persoons - 100% waterdicht - on...   \n",
       "...                                                 ...   \n",
       "1015  Waterfront het element water symboliseert leve...   \n",
       "1016  Maten en gewichten breedte: 200 cm. Totale len...   \n",
       "1017  Maten en gewichten leeg-gewicht: 340 kg. Maxim...   \n",
       "1018  Maten en gewichten totale lengte: 350 cm.  Dit...   \n",
       "1019  Modeljaar: 2014 maten en gewichten breedte: 40...   \n",
       "\n",
       "                            categorySpecificDescription  thinContent  \\\n",
       "0     Te koop jamet dakota outdoor 2019, geleverd do...        False   \n",
       "1     Degelijke en zeer ruime vouwwagen tot 8 person...        False   \n",
       "2     Tien jaar hebben we genoten van deze zeer gebr...        False   \n",
       "3     Vandaag te bezichtigen: zéér complete, prachti...        False   \n",
       "5     Kenmerken: - 8 persoons - 100% waterdicht - on...        False   \n",
       "...                                                 ...          ...   \n",
       "1015  Waterfront het element water symboliseert leve...        False   \n",
       "1016  Maten en gewichten breedte: 200 cm. Totale len...        False   \n",
       "1017  Maten en gewichten leeg-gewicht: 340 kg. Maxim...        False   \n",
       "1018  Maten en gewichten totale lengte: 350 cm.  Dit...        False   \n",
       "1019  Modeljaar: 2014 maten en gewichten breedte: 40...        False   \n",
       "\n",
       "                                           priceInfo  \\\n",
       "0       {'priceCents': 725000, 'priceType': 'FIXED'}   \n",
       "1     {'priceCents': 600000, 'priceType': 'MIN_BID'}   \n",
       "2     {'priceCents': 700000, 'priceType': 'MIN_BID'}   \n",
       "3     {'priceCents': 950000, 'priceType': 'MIN_BID'}   \n",
       "5      {'priceCents': 65000, 'priceType': 'MIN_BID'}   \n",
       "...                                              ...   \n",
       "1015    {'priceCents': 859500, 'priceType': 'FIXED'}   \n",
       "1016      {'priceCents': 0, 'priceType': 'RESERVED'}   \n",
       "1017    {'priceCents': 799500, 'priceType': 'FIXED'}   \n",
       "1018      {'priceCents': 0, 'priceType': 'RESERVED'}   \n",
       "1019    {'priceCents': 399500, 'priceType': 'FIXED'}   \n",
       "\n",
       "                                               location  \\\n",
       "0     {'cityName': 'Someren', 'countryName': 'Nederl...   \n",
       "1     {'cityName': ''s-Hertogenbosch', 'countryName'...   \n",
       "2     {'cityName': 'Veenendaal', 'countryName': 'Ned...   \n",
       "3     {'cityName': 'Rosmalen', 'countryName': 'Neder...   \n",
       "5     {'cityName': ''s-Gravenhage', 'countryName': '...   \n",
       "...                                                 ...   \n",
       "1015  {'cityName': 'Zwolle', 'countryName': 'Nederla...   \n",
       "1016  {'cityName': 'Berkel en Rodenrijs', 'countryNa...   \n",
       "1017  {'cityName': 'Purmerend', 'countryName': 'Nede...   \n",
       "1018  {'cityName': 'Noardburgum', 'countryName': 'Ne...   \n",
       "1019  {'cityName': 'Amersfoort', 'countryName': 'Ned...   \n",
       "\n",
       "                          date  \\\n",
       "0     2023-08-21T11:03:21.497Z   \n",
       "1     2023-08-21T11:03:21.497Z   \n",
       "2     2023-08-21T11:03:21.497Z   \n",
       "3     2023-08-21T11:03:21.497Z   \n",
       "5     2023-08-21T11:03:21.497Z   \n",
       "...                        ...   \n",
       "1015      2023-07-23T08:40:06Z   \n",
       "1016      2023-07-22T17:32:57Z   \n",
       "1017      2023-07-21T19:25:31Z   \n",
       "1018      2023-07-21T18:53:02Z   \n",
       "1019      2023-07-21T15:09:29Z   \n",
       "\n",
       "                                              imageUrls  \\\n",
       "0     [//images.marktplaats.com/api/v1/listing-mp-p/...   \n",
       "1     [//images.marktplaats.com/api/v1/listing-mp-p/...   \n",
       "2     [//images.marktplaats.com/api/v1/listing-mp-p/...   \n",
       "3     [//images.marktplaats.com/api/v1/listing-mp-p/...   \n",
       "5     [//images.marktplaats.com/api/v1/listing-mp-p/...   \n",
       "...                                                 ...   \n",
       "1015  [//images.marktplaats.com/api/v1/listing-mp-p/...   \n",
       "1016  [//images.marktplaats.com/api/v1/listing-mp-p/...   \n",
       "1017  [//images.marktplaats.com/api/v1/listing-mp-p/...   \n",
       "1018  [//images.marktplaats.com/api/v1/listing-mp-p/...   \n",
       "1019  [//images.marktplaats.com/api/v1/listing-mp-p/...   \n",
       "\n",
       "                                      sellerInformation  ...  \\\n",
       "0     {'sellerId': 20046633, 'sellerName': 'FrankAno...  ...   \n",
       "1     {'sellerId': 1591767, 'sellerName': 'Martijn',...  ...   \n",
       "2     {'sellerId': 15349691, 'sellerName': 'Teeuwiss...  ...   \n",
       "3     {'sellerId': 5412332, 'sellerName': 'Desiree',...  ...   \n",
       "5     {'sellerId': 49268641, 'sellerName': 'Brechtje...  ...   \n",
       "...                                                 ...  ...   \n",
       "1015  {'sellerId': 42760044, 'sellerName': 'Caravan ...  ...   \n",
       "1016  {'sellerId': 1895482, 'sellerName': 'Maat Cara...  ...   \n",
       "1017  {'sellerId': 2605182, 'sellerName': 'Caravan C...  ...   \n",
       "1018  {'sellerId': 1459169, 'sellerName': 'Vouwwagen...  ...   \n",
       "1019  {'sellerId': 23708283, 'sellerName': 'Vouwwage...  ...   \n",
       "\n",
       "                                     extendedAttributes  \\\n",
       "0                                                    []   \n",
       "1     [{'key': 'numberOfSleepingPlaces', 'value': 'M...   \n",
       "2     [{'key': 'numberOfSleepingPlaces', 'value': 'T...   \n",
       "3     [{'key': 'numberOfSleepingPlaces', 'value': 'T...   \n",
       "5     [{'key': 'numberOfSleepingPlaces', 'value': 'M...   \n",
       "...                                                 ...   \n",
       "1015  [{'key': 'numberOfSleepingPlaces', 'value': 'T...   \n",
       "1016  [{'key': 'numberOfSleepingPlaces', 'value': 'T...   \n",
       "1017  [{'key': 'numberOfSleepingPlaces', 'value': 'T...   \n",
       "1018  [{'key': 'numberOfSleepingPlaces', 'value': 'T...   \n",
       "1019  [{'key': 'numberOfSleepingPlaces', 'value': 'T...   \n",
       "\n",
       "                                                 traits  \\\n",
       "0                   [DAG_TOPPER_7DAYS, PACKAGE_PREMIUM]   \n",
       "1                   [DAG_TOPPER_7DAYS, PACKAGE_PREMIUM]   \n",
       "2                     [DAG_TOPPER_7DAYS, PACKAGE_BASIC]   \n",
       "3                   [DAG_TOPPER_7DAYS, PACKAGE_PREMIUM]   \n",
       "5                   [DAG_TOPPER_7DAYS, PACKAGE_PREMIUM]   \n",
       "...                                                 ...   \n",
       "1015  [DEALER_PACKAGE_BASIC, TRADE_IN_REQUEST_AVAILA...   \n",
       "1016  [DEALER_PACKAGE_BASIC, TRADE_IN_REQUEST_AVAILA...   \n",
       "1017  [DEALER_PACKAGE_BASIC, TRADE_IN_REQUEST_AVAILA...   \n",
       "1018  [FEED_BOOSTER_REMOVER, DEALER_PACKAGE_BASIC, N...   \n",
       "1019  [DEALER_PACKAGE_BASIC, TRADE_IN_REQUEST_AVAILA...   \n",
       "\n",
       "                                              verticals  \\\n",
       "0     [caravans_and_camping_folders, automotive, car...   \n",
       "1     [caravans_and_camping_folders, automotive, car...   \n",
       "2     [caravans_and_camping_folders, automotive, car...   \n",
       "3     [caravans_and_camping_folders, automotive, car...   \n",
       "5     [caravans_and_camping_folders, automotive, car...   \n",
       "...                                                 ...   \n",
       "1015  [caravans_and_camping_folders, automotive, car...   \n",
       "1016  [caravans_and_camping_folders, automotive, car...   \n",
       "1017  [caravans_and_camping_folders, automotive, car...   \n",
       "1018  [caravans_and_camping_folders, automotive, car...   \n",
       "1019  [caravans_and_camping_folders, automotive, car...   \n",
       "\n",
       "                                               pictures  \\\n",
       "0     [{'id': 9005392135, 'mediaId': '', 'url': 'htt...   \n",
       "1     [{'id': 9005067293, 'mediaId': '', 'url': 'htt...   \n",
       "2     [{'id': 9004219160, 'mediaId': '', 'url': 'htt...   \n",
       "3     [{'id': 9004943719, 'mediaId': '', 'url': 'htt...   \n",
       "5     [{'id': 8972178974, 'mediaId': '', 'url': 'htt...   \n",
       "...                                                 ...   \n",
       "1015  [{'id': 8972866422, 'mediaId': '', 'url': 'htt...   \n",
       "1016  [{'id': 8948604540, 'mediaId': '', 'url': 'htt...   \n",
       "1017  [{'id': 8939343575, 'mediaId': '', 'url': 'htt...   \n",
       "1018  [{'id': 9001931161, 'mediaId': '', 'url': 'htt...   \n",
       "1019  [{'id': 8979090599, 'mediaId': '', 'url': 'htt...   \n",
       "\n",
       "                                                 vipUrl  \\\n",
       "0     /v/caravans-en-kamperen/vouwwagens/m2013406244...   \n",
       "1     /v/caravans-en-kamperen/vouwwagens/m2013363332...   \n",
       "2     /v/caravans-en-kamperen/vouwwagens/m2013253836...   \n",
       "3     /v/caravans-en-kamperen/vouwwagens/m2013201620...   \n",
       "5     /v/caravans-en-kamperen/vouwwagens/m2008112387...   \n",
       "...                                                 ...   \n",
       "1015  /v/caravans-en-kamperen/vouwwagens/m2002524896...   \n",
       "1016  /v/caravans-en-kamperen/vouwwagens/m2002392018...   \n",
       "1017  /v/caravans-en-kamperen/vouwwagens/m2002058492...   \n",
       "1018  /v/caravans-en-kamperen/vouwwagens/m2002049333...   \n",
       "1019  /v/caravans-en-kamperen/vouwwagens/m2001978105...   \n",
       "\n",
       "                                             attributes trackingData  \\\n",
       "0                                                   NaN          NaN   \n",
       "1     [{'key': 'constructionYear', 'value': '2017', ...          NaN   \n",
       "2     [{'key': 'constructionYear', 'value': '2013', ...          NaN   \n",
       "3     [{'key': 'constructionYear', 'value': '2020', ...          NaN   \n",
       "5                                                   NaN          NaN   \n",
       "...                                                 ...          ...   \n",
       "1015                                                NaN          NaN   \n",
       "1016  [{'key': 'constructionYear', 'value': '1998', ...          NaN   \n",
       "1017  [{'key': 'constructionYear', 'value': '2023', ...          NaN   \n",
       "1018  [{'key': 'constructionYear', 'value': '2014', ...          NaN   \n",
       "1019  [{'key': 'constructionYear', 'value': '2014', ...          NaN   \n",
       "\n",
       "     pageLocation trustIndicators highlights  \n",
       "0             NaN             NaN        NaN  \n",
       "1             NaN             NaN        NaN  \n",
       "2             NaN             NaN        NaN  \n",
       "3             NaN             NaN        NaN  \n",
       "5             NaN             NaN        NaN  \n",
       "...           ...             ...        ...  \n",
       "1015          NaN             NaN        NaN  \n",
       "1016          NaN             NaN        NaN  \n",
       "1017          NaN             NaN        NaN  \n",
       "1018          NaN             NaN        NaN  \n",
       "1019          NaN             NaN        NaN  \n",
       "\n",
       "[969 rows x 25 columns]"
      ]
     },
     "execution_count": 56,
     "metadata": {},
     "output_type": "execute_result"
    }
   ],
   "source": [
    "### drop adevrtisement with \"a\" (commercial?)\n",
    "df_ads.drop(df_ads[df_ads['itemId'].str.contains('a')].index,inplace=True)\n",
    "# df_ads"
   ]
  },
  {
   "cell_type": "code",
   "execution_count": 65,
   "metadata": {},
   "outputs": [
    {
     "data": {
      "text/html": [
       "<div>\n",
       "<style scoped>\n",
       "    .dataframe tbody tr th:only-of-type {\n",
       "        vertical-align: middle;\n",
       "    }\n",
       "\n",
       "    .dataframe tbody tr th {\n",
       "        vertical-align: top;\n",
       "    }\n",
       "\n",
       "    .dataframe thead th {\n",
       "        text-align: right;\n",
       "    }\n",
       "</style>\n",
       "<table border=\"1\" class=\"dataframe\">\n",
       "  <thead>\n",
       "    <tr style=\"text-align: right;\">\n",
       "      <th></th>\n",
       "      <th>itemId</th>\n",
       "      <th>title</th>\n",
       "      <th>description</th>\n",
       "      <th>Manufacturer</th>\n",
       "      <th>construction_year</th>\n",
       "      <th>price_eur</th>\n",
       "    </tr>\n",
       "  </thead>\n",
       "  <tbody>\n",
       "    <tr>\n",
       "      <th>7</th>\n",
       "      <td>m2007138116</td>\n",
       "      <td>Vouwwagen 2016</td>\n",
       "      <td>Vouwwagen teun ttt4. Tentdoek gemaakt door dor...</td>\n",
       "      <td>Not found in list</td>\n",
       "      <td>2016</td>\n",
       "      <td>4750.0</td>\n",
       "    </tr>\n",
       "    <tr>\n",
       "      <th>15</th>\n",
       "      <td>m2009966572</td>\n",
       "      <td>vouwwagen voor de snelle beslisser en vakantie...</td>\n",
       "      <td>Vouwwagen trigano odyssee. Vakantieklaar! 1-2-...</td>\n",
       "      <td>Not found in list</td>\n",
       "      <td>2006</td>\n",
       "      <td>1900.0</td>\n",
       "    </tr>\n",
       "    <tr>\n",
       "      <th>17</th>\n",
       "      <td>m2011714862</td>\n",
       "      <td>VOUWWAGENS komen uit verhuur 1,5 jaar oud  6-7...</td>\n",
       "      <td>Vouwwagens komen uit verhuur 1,5 jaar oud 6-8 ...</td>\n",
       "      <td>Not found in list</td>\n",
       "      <td>2022</td>\n",
       "      <td>5825.0</td>\n",
       "    </tr>\n",
       "    <tr>\n",
       "      <th>23</th>\n",
       "      <td>m2011609794</td>\n",
       "      <td>CAMPLET Concorde</td>\n",
       "      <td>Deze fijne snel op te zetten (1 2 3 systeem) v...</td>\n",
       "      <td>Not found in list</td>\n",
       "      <td>1997</td>\n",
       "      <td>650.0</td>\n",
       "    </tr>\n",
       "    <tr>\n",
       "      <th>27</th>\n",
       "      <td>m2012120312</td>\n",
       "      <td>Vouwwagen</td>\n",
       "      <td>Zie er heel mooi uit en kan nog jaren mee door...</td>\n",
       "      <td>Not found in list</td>\n",
       "      <td>&lt;NA&gt;</td>\n",
       "      <td>0.0</td>\n",
       "    </tr>\n",
       "    <tr>\n",
       "      <th>...</th>\n",
       "      <td>...</td>\n",
       "      <td>...</td>\n",
       "      <td>...</td>\n",
       "      <td>...</td>\n",
       "      <td>...</td>\n",
       "      <td>...</td>\n",
       "    </tr>\n",
       "    <tr>\n",
       "      <th>982</th>\n",
       "      <td>m2003891505</td>\n",
       "      <td>Retro Vouwwagen</td>\n",
       "      <td>Super leuke retro alpenkreutzer vouwwagen incl...</td>\n",
       "      <td>Not found in list</td>\n",
       "      <td>&lt;NA&gt;</td>\n",
       "      <td>0.0</td>\n",
       "    </tr>\n",
       "    <tr>\n",
       "      <th>983</th>\n",
       "      <td>m1930976570</td>\n",
       "      <td>Scout vouwwagen 6 persoon inruil auto/brommer ...</td>\n",
       "      <td>Hierbij bied ik te koop leuke nette vouwwagen ...</td>\n",
       "      <td>Not found in list</td>\n",
       "      <td>1996</td>\n",
       "      <td>850.0</td>\n",
       "    </tr>\n",
       "    <tr>\n",
       "      <th>985</th>\n",
       "      <td>m2003700586</td>\n",
       "      <td>Coleman Fleetwood Pop-up Vouwwagen Uniek!</td>\n",
       "      <td>Ontdek de ultieme kampeerervaring met onze pra...</td>\n",
       "      <td>Not found in list</td>\n",
       "      <td>&lt;NA&gt;</td>\n",
       "      <td>8500.0</td>\n",
       "    </tr>\n",
       "    <tr>\n",
       "      <th>997</th>\n",
       "      <td>m2003489320</td>\n",
       "      <td>Tag Mountain Ranger 2000</td>\n",
       "      <td>Nette taga mountain ranger 2000. Kan zeker nog...</td>\n",
       "      <td>Not found in list</td>\n",
       "      <td>&lt;NA&gt;</td>\n",
       "      <td>699.0</td>\n",
       "    </tr>\n",
       "    <tr>\n",
       "      <th>999</th>\n",
       "      <td>m2003421115</td>\n",
       "      <td>Vouwwagen 4 persoons</td>\n",
       "      <td>Te koop vouwwagen uit het jaar 2000. Gerjak ta...</td>\n",
       "      <td>Not found in list</td>\n",
       "      <td>&lt;NA&gt;</td>\n",
       "      <td>250.0</td>\n",
       "    </tr>\n",
       "  </tbody>\n",
       "</table>\n",
       "<p>183 rows × 6 columns</p>\n",
       "</div>"
      ],
      "text/plain": [
       "          itemId                                              title  \\\n",
       "7    m2007138116                                     Vouwwagen 2016   \n",
       "15   m2009966572  vouwwagen voor de snelle beslisser en vakantie...   \n",
       "17   m2011714862  VOUWWAGENS komen uit verhuur 1,5 jaar oud  6-7...   \n",
       "23   m2011609794                                   CAMPLET Concorde   \n",
       "27   m2012120312                                          Vouwwagen   \n",
       "..           ...                                                ...   \n",
       "982  m2003891505                                    Retro Vouwwagen   \n",
       "983  m1930976570  Scout vouwwagen 6 persoon inruil auto/brommer ...   \n",
       "985  m2003700586          Coleman Fleetwood Pop-up Vouwwagen Uniek!   \n",
       "997  m2003489320                           Tag Mountain Ranger 2000   \n",
       "999  m2003421115                               Vouwwagen 4 persoons   \n",
       "\n",
       "                                           description       Manufacturer  \\\n",
       "7    Vouwwagen teun ttt4. Tentdoek gemaakt door dor...  Not found in list   \n",
       "15   Vouwwagen trigano odyssee. Vakantieklaar! 1-2-...  Not found in list   \n",
       "17   Vouwwagens komen uit verhuur 1,5 jaar oud 6-8 ...  Not found in list   \n",
       "23   Deze fijne snel op te zetten (1 2 3 systeem) v...  Not found in list   \n",
       "27   Zie er heel mooi uit en kan nog jaren mee door...  Not found in list   \n",
       "..                                                 ...                ...   \n",
       "982  Super leuke retro alpenkreutzer vouwwagen incl...  Not found in list   \n",
       "983  Hierbij bied ik te koop leuke nette vouwwagen ...  Not found in list   \n",
       "985  Ontdek de ultieme kampeerervaring met onze pra...  Not found in list   \n",
       "997  Nette taga mountain ranger 2000. Kan zeker nog...  Not found in list   \n",
       "999  Te koop vouwwagen uit het jaar 2000. Gerjak ta...  Not found in list   \n",
       "\n",
       "    construction_year  price_eur  \n",
       "7                2016     4750.0  \n",
       "15               2006     1900.0  \n",
       "17               2022     5825.0  \n",
       "23               1997      650.0  \n",
       "27               <NA>        0.0  \n",
       "..                ...        ...  \n",
       "982              <NA>        0.0  \n",
       "983              1996      850.0  \n",
       "985              <NA>     8500.0  \n",
       "997              <NA>      699.0  \n",
       "999              <NA>      250.0  \n",
       "\n",
       "[183 rows x 6 columns]"
      ]
     },
     "execution_count": 65,
     "metadata": {},
     "output_type": "execute_result"
    }
   ],
   "source": [
    "def get_production_year(x):\n",
    "    if pd.isna(x):\n",
    "        return pd.NA\n",
    "    else:\n",
    "        return int(x[0]['value'])\n",
    "    \n",
    "def get_price(x):\n",
    "    # return 1\n",
    "    # print(x)\n",
    "    if pd.isna(x):\n",
    "        return pd.NA\n",
    "    else:\n",
    "        return x['priceCents']/100\n",
    "    \n",
    "def get_manufacturer(x):\n",
    "    ManufacturerList = ['Jamet', 'Holtkamper', 'Combi Camp','Aart Kok','Alpenkreuzer','Kip','Cabanon','Campooz','Trigano','Raclet','Camp-Let','Paradiso','Roadmaster','Gerjak','Rapido','3Dog','Conway']\n",
    "    for Manufacturer in ManufacturerList:\n",
    "        if x.lower().find(Manufacturer.lower()) > -1:\n",
    "            return Manufacturer\n",
    "    return 'Not found in list'\n",
    "\n",
    "\n",
    "df_ads['price_eur'] = df_ads['priceInfo'].apply(get_price)\n",
    "df_ads['construction_year'] = df_ads['attributes'].apply(get_production_year)\n",
    "df_ads['Manufacturer'] = df_ads['title'].apply(get_manufacturer)\n",
    "\n",
    "df_ads[df_ads['Manufacturer']=='Not found in list'][['itemId','title','description','Manufacturer','construction_year','price_eur']]\n"
   ]
  },
  {
   "cell_type": "code",
   "execution_count": 67,
   "metadata": {},
   "outputs": [
    {
     "data": {
      "application/vnd.plotly.v1+json": {
       "config": {
        "plotlyServerURL": "https://plot.ly"
       },
       "data": [
        {
         "customdata": [
          [
           "Jamet Dakota outdoor 2019 met easy pack system"
          ],
          [
           "Vouwwagen Jamet Dakota All Season (zelfreinigend)"
          ],
          [
           "Jamet Montana vouwwagen"
          ],
          [
           "Zeer nette Jamet Louisiana te koop bouwjaar 2015"
          ],
          [
           "Jamet Jametic Rondo XL vouwwagen"
          ],
          [
           "Jamet Louisiana"
          ],
          [
           "Mooie Jamet Jametic 2007 met lattenbodem en 13 inch wielen"
          ],
          [
           "Jamet Louisiana Vouwwagen uit 2011"
          ],
          [
           "Jamet Jametic 2019 all season, luifel, nw banden evt uitbouw"
          ],
          [
           "Jamet Jametic 2005"
          ],
          [
           "Jamet Jametic all season"
          ],
          [
           "Jamet arizona all season"
          ],
          [
           "6-8 persoons vouwwagen van Jamet"
          ],
          [
           "keurig nette Jamet Arizona vouwwagen"
          ],
          [
           "Jamet Dakota bouwjaar.2018"
          ],
          [
           "Jamet Jametic Outdoor 2023"
          ],
          [
           "Jamet Jametic 2004 met veel extra's"
          ],
          [
           "Vouwwagen Jamet Arizona 6 tot 8 persoons met imperial"
          ],
          [
           "Jamet vouwwagen"
          ],
          [
           "Jamet arizona 4 tot 8 personen uit 2005"
          ],
          [
           "Jamet Rondo XL"
          ],
          [
           "Jamet Arizona 2005"
          ],
          [
           "Mooie jamet Arizona uit 2005 limited edition."
          ],
          [
           "vouwwagen Jametic 4x4"
          ],
          [
           "Jamet jamet 2016, dealeronderhouden incl. Inboedel"
          ],
          [
           "Jamet vouwwagen compleet met inrichten"
          ],
          [
           "Nette Jamet Dakota Vouwwagen Compleet 2010"
          ],
          [
           "Vouwwagen Jamet Trigano"
          ],
          [
           "Vouwwagen Jamet Arizona"
          ],
          [
           "Jamet Duo luxe XL 2021"
          ],
          [
           "Vouwwagen jamet air uit 2019."
          ],
          [
           "Vouwwagen Jamet Arizona 2003 8 personen"
          ],
          [
           "Te koop MOET WEG VANDAAG Z.g.o.h jamet Louisiana grl 2004"
          ],
          [
           "Vouwwagen Jamet Dakota outdoor in nette staat"
          ],
          [
           "jamet jametic panorama"
          ],
          [
           "Jamet Arizona 1998"
          ],
          [
           "Jamet"
          ],
          [
           "Te koop, zeer mooie Jametic. Laatste week dan ga ik van MP"
          ],
          [
           "Jamet Jametic panorama mooi en met nieuwe banden"
          ],
          [
           "Jamet Louisiana AS 2013, disselbak, tempo 100, verlengd zeil"
          ],
          [
           "Vouwwagen Jamet Rondo XL 2013"
          ],
          [
           "Vouwwagen Jamet  Arizona 1997 blauw,grijs,groen"
          ],
          [
           "Jamet 123"
          ],
          [
           "vouwwagen - Jamet Arizona"
          ],
          [
           "Jamet lousiana 2001"
          ],
          [
           "Te koop vouwwagen jamet"
          ],
          [
           "Vouwwagen Jamet Lousiana 1998"
          ],
          [
           "Jamet Jametic vouwwagen, bouwjaar 2007"
          ],
          [
           "Jamet Dakota"
          ],
          [
           "Jamet Arizona Vouw wagen -2010"
          ],
          [
           "Vouwwagen Jamet Louisiana, 6persoons"
          ],
          [
           "Jamet vouwagen."
          ],
          [
           "Jamet Canyon"
          ],
          [
           "Jamet Arizona met fietsendrager"
          ],
          [
           "Jamet Arizona All season mooi met lattenbodems"
          ],
          [
           "Vouwwagen jamet arizona 6-8personen met imperiaal en luifel"
          ],
          [
           "Jamet Louisiana 1997"
          ],
          [
           "Jamet montana vouwagen"
          ],
          [
           "Jamet Arizona 6-8 pers. uit 2007 met inventaris"
          ],
          [
           "Jamet Arizona 6 á 8 pers bwjr 2002"
          ],
          [
           "Jamet Panorama easy acces 2017"
          ],
          [
           "Jamet rondo panorama xl 2012"
          ],
          [
           "Vouwwagen Jamet Dakota 2009"
          ],
          [
           "Jamet Arizona 2003  met luifel"
          ],
          [
           "Jamet Montana de luxe vouwwagen 1999"
          ],
          [
           "Vouwwagen Jametic Outdoor -2016"
          ],
          [
           "Jamet Arizona 2005 - Bovag onderhouden - nieuwe banden"
          ],
          [
           "in goede staat verkerende Jamet Vouwwagen type Jamatic"
          ],
          [
           "Jamet Dakota outdoor AS 2016"
          ],
          [
           "Jamet Dakota Outdoor AS + Luifel  2011"
          ],
          [
           "jamet jametic met uitbouw"
          ],
          [
           "Nette Jamet Jametic uit 2004, 1-2-3 Opzet systeem"
          ],
          [
           "Vouwwagen Jamet Arizona 2005 +fietsimperiaal, zeer compleet!"
          ],
          [
           "Vouwwagen jamet Louisiana."
          ],
          [
           "Jamet vouwcaravan met voortent ,ready to go"
          ],
          [
           "Jamet Jametic 1,2,3 systeem LOWBUDGET ! met luifel"
          ],
          [
           "Jamet Jametic Jametic off road"
          ],
          [
           "Jamet dakota 2010"
          ],
          [
           "Vouwwagen Jamet Arizona 2003 - All season - lattenbodem"
          ],
          [
           "Jamet Jametic @4 Rondo Panorama XL CP 7p o.a. Gastencabine"
          ],
          [
           "Jamet Arizona"
          ],
          [
           "Vouwwagen Jamet arizona 6/8 pers."
          ],
          [
           "Jamet Arizona All Season 2019"
          ],
          [
           "Jamet ARIZONA 2007 in goede staat met luifel MARGE"
          ],
          [
           "Vouwwagen jamet 123"
          ],
          [
           "Jamet Dakota 2016 Vouwwagen 6+ personen"
          ],
          [
           "Vouwwagen Jamet Dacota"
          ],
          [
           "Ruime complete Jamet Louisiana Vouwwagen 2011"
          ],
          [
           "Jamet Jametic Outdoor 2020"
          ],
          [
           "Jamet Louisiana 2016 Disselbak,Luifel,Kuipzeil"
          ],
          [
           "Jamet Louisiana 2014 Kuipzeil,Luifel,Disselbak"
          ],
          [
           "Jamet Jametic luifel,lattenbodem,disbak"
          ],
          [
           "Jamet Arizona luifel,kuipzeil,dis bak"
          ],
          [
           "Vouwwagen Jamet Arizona 2004"
          ],
          [
           "Jametic Vouwwagen uit 2001"
          ],
          [
           "Jamet louissianna"
          ],
          [
           "Te koop Jamet Louisiana 1993"
          ],
          [
           "Jamet Louisiana"
          ],
          [
           "Jamet keuken wielen"
          ],
          [
           "Nette jamet Arizona met extra's."
          ],
          [
           "Vouwwagen Gerjak Tago Ranger (bj 2009) (Jamet, alpenkreuzer)"
          ],
          [
           "Vouwwagen Jamet Arizona 4/8 persoons 2002"
          ],
          [
           "Jamet Jametic 2005"
          ],
          [
           "Jamet Louisiana 2006 met lattenbodems"
          ],
          [
           "Jamet jametic 1-2-3 systeem vouwwagen"
          ],
          [
           "Jametic 2004"
          ],
          [
           "2004 Jamet Arizona 4/8 persoons vouwwagen"
          ],
          [
           "Vouwwagen Jamet Jametic 123"
          ],
          [
           "Jamet Dakota obelink special 2023 nieuw"
          ],
          [
           "Jamet vouwwagen 6/8 persoons"
          ],
          [
           "Vouwwagen Jamet Jametic uit 1999"
          ],
          [
           "Jamet Jametic overcompleet 2006"
          ],
          [
           "Jamet Rondo te koop"
          ],
          [
           "Jamet Louisiana 2009"
          ],
          [
           "Jamet Louissiana 2012 inclusief"
          ],
          [
           "Jamet Texas super luxe"
          ],
          [
           "Jamet Jametic met gastencabine"
          ],
          [
           "Jamet vouwagen met impriaal fietsdrager en dakkoffer"
          ],
          [
           "Vouwwagen Jamet Arizona 2004"
          ],
          [
           "Jamet Jametic All Season 2018 123 packing"
          ],
          [
           "Vouwwagen Jamet Air 2022"
          ],
          [
           "Jamet Arizona 2003"
          ],
          [
           "Jamet Jametic Outdoor 123 systeem"
          ],
          [
           "Jamet Dakota outdoor vouwwagen 2021"
          ],
          [
           "Jamet Jametic Panorama Easy access 2017"
          ],
          [
           "Jamet Jametic 4x4"
          ],
          [
           "Jamet Jametic 123 systeem"
          ],
          [
           "Jamet Louisiana"
          ],
          [
           "Jamet Rondo XL incl. Stalling!"
          ],
          [
           "vouwagen louisiana Jamet 20004/2005"
          ],
          [
           "Jamet Jametic Panorama 123 easy access 2017"
          ],
          [
           "Vouwwagen Jamet Arizona all-season model 2010/2011 te koop"
          ],
          [
           "Jamet Louisiana vouwwagen"
          ],
          [
           "Vouwwagen jamet jametic all season 2015, 1-2-3 systeem"
          ],
          [
           "Vouwwagen JAMET-montana met fietsrek"
          ],
          [
           "Jamet Arizona “95% travel-ready”"
          ],
          [
           "Jamet vouwagen Louisiana"
          ],
          [
           "Vouwwagen Jamet Arizona"
          ],
          [
           "Vouwwagen Jamet Louisiana 2004"
          ],
          [
           "Vouwwagen Jamet Dakota 2020"
          ],
          [
           "Jamet jametic vouwwagen 123systeem"
          ],
          [
           "Jamet Lousiana 5-6 pers. vouwwagen met verlengstuk en keuken"
          ],
          [
           "Jamet Louisiana met fietsendrager, voortent en luifel"
          ],
          [
           "Vouwwagen Jamet Arizona (2004) met imperiaal en lattenbodems"
          ],
          [
           "Jamet Kentucky"
          ],
          [
           "JAMET Louisianna 2001   Crème kleur met bruin  8 pers"
          ],
          [
           "Vouwwagen jamet de luxe"
          ],
          [
           "Vouwwagen Jamet 6/8 persoons"
          ],
          [
           "Jamet Louisiana vouwwagen"
          ],
          [
           "Te koop: JAMET JAMETIC 1-2-3 vouwwagen"
          ],
          [
           "Jamet Arizona 1999"
          ],
          [
           "Jamet Louisiana vouwwagen"
          ],
          [
           "Vouwwagen Jamet Texas de Luxe"
          ],
          [
           "jamet louisiana 2005"
          ],
          [
           "Vouwwagen Jamet Air 2017 8 personen"
          ],
          [
           "Vouwwagen Jamet te koop"
          ],
          [
           "Complete Jamet Jametic vouwwagen 2003"
          ],
          [
           "Jamet Arizona 2008"
          ],
          [
           "Jamet Arizona van 2002"
          ],
          [
           "Jamet Dakota vouwwagen 2010 met inritsbaarkuipzeil"
          ],
          [
           "vouwwagen Jamet  Louisiana 5-6 persoons"
          ],
          [
           "Vouwwagen Jamet Dakota"
          ],
          [
           "Vouwwagen Jamet"
          ],
          [
           "Jamet vouwwagen."
          ],
          [
           "Jamet montana vouwwagen uit 2000 4 tot 6 personen"
          ],
          [
           "Jamet Jametic te koop"
          ],
          [
           "Jamet Rondo XL vouwwagen"
          ],
          [
           "Jamet montana 1995"
          ],
          [
           "In goede staat verkerende Jamet Louisiana uit 2012"
          ],
          [
           "Jamet vouwwagen met luifel type Jametic 123"
          ],
          [
           "Mooie jamet texas super luxe"
          ],
          [
           "Jamet Arizona zeer compleet"
          ],
          [
           "Vouwwagen Jamet Canyon"
          ],
          [
           "Vouwwagen jamet  arizona 2007"
          ],
          [
           "vouwwagen Jamet Luisiana Texas"
          ],
          [
           "Vouwwagen Jamet Louisiana"
          ],
          [
           "Jamet Jametic vouwwagen"
          ],
          [
           "Jamet Arizona Vouwwagen"
          ],
          [
           "Zeer nette en complete Jamet Jametic 123 systeem bj 2002"
          ],
          [
           "Jamet Vouwwagen Arizona"
          ],
          [
           "jamet air 2022"
          ],
          [
           "Jamet jametic 123 opzetsysteem"
          ],
          [
           "Jametic Rondo XL Panorama voor 4 tot 6 personen."
          ],
          [
           "Vouwwagen Jamet Louisiana 2008"
          ],
          [
           "Jamet Air 2023 nu in onze showroom"
          ],
          [
           "Jamet Dakota in nieuwstaat"
          ],
          [
           "Jamet vouwwagen let op zonder luifel"
          ],
          [
           "Jamet Arizona 2003: ruime 8-persoons vouwwagen"
          ],
          [
           "Jamet Jametic Panorama Easy Access 2017"
          ],
          [
           "Vouwagen jamet Arizona 2000"
          ],
          [
           "Jamet Dakota Outdoor"
          ],
          [
           "Vouwwagen Jamet Dakota Outdoor 2021"
          ],
          [
           "Jamet Liberty vouwwagen"
          ],
          [
           "vouwwagen jamet montana te koop"
          ],
          [
           "Vouwwagen jamet texas super luxe bj.2003"
          ],
          [
           "Jamet Air Ruime gezinswagen op luch"
          ],
          [
           "Vouwwagen Jamet easy 2019"
          ],
          [
           "Jamet Arizona 2002"
          ],
          [
           "Vouwwagen Jamet Jametic blue"
          ],
          [
           "Jamet Air Luifel disselbak."
          ],
          [
           "Jamet Arizona - Bijna nieuw compleet-"
          ],
          [
           "Jamet Jametic 123 systeem"
          ],
          [
           "Jamet arizona vouwwagen 8 persoons"
          ],
          [
           "Leuke vouwwagen jamet montana 6persoons"
          ],
          [
           "Jamet louisiana"
          ],
          [
           "vouwwagen Jamet, type Jametic 2004"
          ],
          [
           "Jamet Arizona met lattenbodems"
          ],
          [
           "Jamet canyon 6 persoons vouwwagen"
          ],
          [
           "Jamet Dakota 2018"
          ],
          [
           "Jamet vouwwagen (volledig met uitrusting)"
          ],
          [
           "jamet arizona vouwwagen 2001"
          ],
          [
           "Jamet Jametic Outdoor 2023 Cash G0"
          ],
          [
           "Vouwwagen Jamet Canyon"
          ],
          [
           "Jamet Arizona te koop"
          ],
          [
           "Jamet Jametic"
          ],
          [
           "Jamet Louisiana"
          ],
          [
           "Jamet Jametic"
          ],
          [
           "Vouwwagen Jamet Arizona - klaar voor vertrek"
          ],
          [
           "Jamet jametic 2003"
          ],
          [
           "Jamet Panorama"
          ],
          [
           "Jamet Jametic Blue Style"
          ]
         ],
         "hovertemplate": "Manufacturer=Jamet<br>construction_year=%{x}<br>price_eur=%{y}<br>title=%{customdata[0]}<extra></extra>",
         "legendgroup": "Jamet",
         "marker": {
          "color": "#636efa",
          "symbol": "circle"
         },
         "mode": "markers",
         "name": "Jamet",
         "orientation": "v",
         "showlegend": true,
         "type": "scatter",
         "x": [
          null,
          2017,
          null,
          2015,
          2012,
          1998,
          null,
          2011,
          2019,
          null,
          2015,
          2021,
          null,
          null,
          null,
          2023,
          2004,
          2004,
          null,
          null,
          2010,
          2005,
          null,
          2012,
          null,
          null,
          2010,
          2007,
          2010,
          null,
          2019,
          2003,
          2004,
          null,
          2015,
          null,
          null,
          null,
          2013,
          2013,
          null,
          null,
          null,
          2004,
          null,
          null,
          1998,
          2007,
          2011,
          2010,
          2002,
          null,
          null,
          2004,
          2011,
          2002,
          null,
          null,
          2007,
          2002,
          2017,
          null,
          2009,
          null,
          1999,
          2016,
          null,
          2007,
          2016,
          2011,
          2002,
          null,
          null,
          1997,
          null,
          2000,
          2013,
          2010,
          2003,
          2011,
          1997,
          1997,
          2019,
          2007,
          2007,
          2016,
          null,
          2011,
          2019,
          2016,
          2014,
          2005,
          2017,
          2004,
          2001,
          null,
          null,
          2003,
          null,
          null,
          null,
          2002,
          null,
          null,
          2004,
          null,
          2004,
          null,
          null,
          null,
          null,
          null,
          null,
          null,
          2012,
          null,
          2009,
          null,
          2004,
          2018,
          2022,
          null,
          2022,
          2021,
          2017,
          2012,
          2003,
          null,
          null,
          2004,
          2017,
          2010,
          1997,
          2015,
          null,
          null,
          1999,
          null,
          2004,
          2021,
          null,
          1994,
          null,
          null,
          2006,
          2001,
          null,
          2004,
          1999,
          2004,
          1999,
          2004,
          2002,
          2005,
          null,
          null,
          null,
          null,
          2002,
          2011,
          1993,
          null,
          null,
          2007,
          2000,
          null,
          2011,
          null,
          null,
          null,
          null,
          2004,
          1994,
          2007,
          null,
          null,
          null,
          null,
          null,
          null,
          2022,
          null,
          2012,
          null,
          2023,
          2017,
          null,
          2003,
          2017,
          2000,
          2010,
          2021,
          null,
          null,
          null,
          2023,
          2019,
          2002,
          2014,
          2022,
          2021,
          null,
          1997,
          null,
          2006,
          2003,
          2007,
          1992,
          2018,
          null,
          2001,
          2023,
          1993,
          2005,
          2012,
          1996,
          2011,
          2012,
          2003,
          2014,
          2014
         ],
         "xaxis": "x",
         "y": [
          7250,
          6000,
          650,
          5800,
          3500,
          0,
          1050,
          2700,
          6650,
          600,
          4500,
          10500,
          2550,
          450,
          5500,
          9650,
          1200,
          750,
          450,
          1000,
          2100,
          0,
          500,
          3250,
          0,
          1800,
          3250,
          2600,
          1500,
          8750,
          7450,
          0,
          825,
          3250,
          4500,
          800,
          800,
          1400,
          2595,
          4500,
          4500,
          400,
          100,
          0,
          750,
          875,
          650,
          1000,
          3250,
          2750,
          800,
          400,
          450,
          1500,
          2850,
          1400,
          500,
          800,
          1400,
          0,
          6750,
          3500,
          0,
          1000,
          450,
          4600,
          0,
          950,
          3900,
          3000,
          0,
          0,
          0,
          500,
          385,
          750,
          3995,
          1750,
          0,
          0,
          600,
          500,
          0,
          1750,
          0,
          5500,
          0,
          3900,
          0,
          6950,
          4950,
          1500,
          6500,
          1100,
          2250,
          0,
          1991,
          850,
          135,
          1150,
          1200,
          1999,
          0,
          1100,
          1100,
          0,
          700,
          0,
          8500,
          325,
          750,
          1250,
          0,
          2800,
          3150,
          550,
          2250,
          600,
          0,
          6500,
          0,
          675,
          7995,
          7000,
          5975,
          3100,
          750,
          0,
          1950,
          600,
          0,
          0,
          550,
          0,
          300,
          0,
          400,
          1050,
          500,
          7500,
          0,
          600,
          1500,
          1250,
          1250,
          0,
          900,
          0,
          250,
          1750,
          0,
          1125,
          1000,
          1000,
          6750,
          1750,
          700,
          1800,
          750,
          1750,
          0,
          5500,
          600,
          0,
          450,
          850,
          0,
          395,
          4500,
          750,
          0,
          0,
          600,
          1250,
          0,
          0,
          0,
          400,
          1500,
          1150,
          9500,
          0,
          3900,
          0,
          11395,
          4950,
          500,
          1250,
          0,
          750,
          3800,
          0,
          1050,
          750,
          500,
          10650,
          4700,
          0,
          3800,
          0,
          10500,
          3100,
          900,
          500,
          1250,
          3000,
          1495,
          650,
          6750,
          475,
          800,
          9650,
          0,
          0,
          3295,
          795,
          2995,
          0,
          450,
          0,
          3995
         ],
         "yaxis": "y"
        },
        {
         "customdata": [
          [
           "Holtkamper Cocoon S (2013)"
          ],
          [
           "Holtkamper Cocoon S, model 2008"
          ],
          [
           "Holtkamper Spacer (2015) trailer uitvoering"
          ],
          [
           "Holtkamper Kyte Vouwwagen in prima staat! Veel extra's! 2011"
          ],
          [
           "Holtkamper Cocoon M Expedition MTT 2011"
          ],
          [
           "Holtkamper cocoon modulair 2014"
          ],
          [
           "Holtkamper Cocoon XL"
          ],
          [
           "Holtkamper flyer met veel extra’s"
          ],
          [
           "Holtkamper flyer jeans blauw"
          ],
          [
           "Holtkamper Feluka incl. keuken, compleet en waterdicht"
          ],
          [
           "Holtkamper Cocoon XL 2011"
          ],
          [
           "Holtkamper Cocoon Aero"
          ],
          [
           "Holtkamper Cocoon xl Vouwwagen 2006 in zeer goede staat"
          ],
          [
           "Holtkamper Spacer 2004"
          ],
          [
           "Holtkamper cocoon Aero Membrane Airco MTT bouwjaar 2017"
          ],
          [
           "Holtkamper Flyer Expedition Bedouin, in uitstekende staat!"
          ],
          [
           "Holtkamper spacer expedition (2003)"
          ],
          [
           "Holtkamper Cocoon M Expedition"
          ],
          [
           "Holtkamper Cocoon Aero Wind Force 2015"
          ],
          [
           "Holtkamper Flyer Bedouin 2001, incl Keuken"
          ],
          [
           "Holtkamper Aero Zonder windforce"
          ],
          [
           "Holtkamper Aero Zonder windforce"
          ],
          [
           "Holtkamper Cocoon MTT met HPL blad ''NIEUW'"
          ],
          [
           "Holtkamper Aero Combinatie Model"
          ],
          [
           "Holtkamper Cocoon 2022"
          ],
          [
           "Holtkamper Cocoon Top Edition met keuken en zonnestroom"
          ],
          [
           "Nette Holtkamper Spacer Expedition met WhiteBox keuken"
          ],
          [
           "Holtkamper Cocoon Expedition, 2009"
          ],
          [
           "Holtkamper Spacer vouwwagen"
          ],
          [
           "Mooie Holtkamper Astro Expedition"
          ],
          [
           "Holtkamper Astro Vouwwagen 2011"
          ],
          [
           "Vouwwagen Holtkamper Cocoon xl"
          ],
          [
           "Holtkamper Flyer"
          ],
          [
           "Holtkamper Flyer Expedition met whitebox disselkeuken"
          ],
          [
           "Holtkamper Cocoon XL"
          ],
          [
           "Holtkamper Kyte XL Windforce 2016 (1e eigenaar)"
          ],
          [
           "Holtkamper Family"
          ],
          [
           "vouwwagen Holtkamper Flyer"
          ],
          [
           "Holtkamper Spacer Explorer"
          ],
          [
           "Holtkamper Cocoon M"
          ],
          [
           "Holtkamper Flyer Expedition"
          ],
          [
           "Holtkamper cocoon"
          ],
          [
           "Holtkamper cocoon xl"
          ],
          [
           "Holtkamper Flyer (retro)"
          ],
          [
           "Holtkamper Astro XL uit 2006"
          ],
          [
           "Holtkamper Cocoon M"
          ],
          [
           "Holtkamper feluka vouwwagen"
          ],
          [
           "Holtkamper Cocoon XL (2014)"
          ],
          [
           "holtkamper family"
          ],
          [
           "Holtkamper-kindertent M - €400 met vast grondzeil en hor"
          ],
          [
           "Holtkamper Flyer Expedition Bedouin"
          ],
          [
           "Holtkamper Astro vouwwagen 2001"
          ],
          [
           "vouwwagen Holtkamper spacer  expedition"
          ],
          [
           "Holtkamper Astro XL"
          ],
          [
           "Holtkamper cocoon met basekitchen xxl"
          ],
          [
           "holtkamper flyer \"retro\""
          ],
          [
           "Vouwwagen Holtkamper Feluka 6 prs whitebox keuken"
          ],
          [
           "Complete Holtkamper Flyer Expedition"
          ],
          [
           "Holtkamper Flyer Expedition Vouwwagen (2004)"
          ],
          [
           "Holtkamper Cocoon M"
          ],
          [
           "Holtkamper Cocoon modulair MTT 2015"
          ],
          [
           "Holtkamper flyer te koop"
          ],
          [
           "Holtkamper Cocoon M 2008"
          ],
          [
           "Holtkamper Cocoon XL met 5 slaapplaatsen en extra‘s"
          ],
          [
           "Prachtige Holtkamper Cocoon"
          ],
          [
           "Holtkamper family vouwwagen"
          ],
          [
           "Holtkamper astro overkompeet!"
          ],
          [
           "GLAMPING in mooie HOLTKAMPER FLYER membrane met airco wer"
          ],
          [
           "HOLTKAMPER FAMILY Vouwwagen"
          ]
         ],
         "hovertemplate": "Manufacturer=Holtkamper<br>construction_year=%{x}<br>price_eur=%{y}<br>title=%{customdata[0]}<extra></extra>",
         "legendgroup": "Holtkamper",
         "marker": {
          "color": "#EF553B",
          "symbol": "circle"
         },
         "mode": "markers",
         "name": "Holtkamper",
         "orientation": "v",
         "showlegend": true,
         "type": "scatter",
         "x": [
          2013,
          2008,
          2015,
          2011,
          null,
          2014,
          2007,
          null,
          null,
          null,
          2011,
          2013,
          null,
          2004,
          null,
          2001,
          null,
          2011,
          2015,
          2001,
          null,
          2023,
          2023,
          2023,
          2022,
          2012,
          2005,
          null,
          2002,
          2020,
          2011,
          2004,
          2015,
          null,
          2010,
          2016,
          null,
          2000,
          2006,
          2004,
          null,
          2005,
          null,
          null,
          2006,
          2005,
          null,
          2014,
          null,
          2017,
          2005,
          2001,
          2006,
          null,
          null,
          1987,
          null,
          2006,
          null,
          2005,
          2015,
          1995,
          2008,
          null,
          null,
          null,
          2003,
          2005,
          2000
         ],
         "xaxis": "x",
         "y": [
          7000,
          4900,
          0,
          11950,
          6600,
          6750,
          5500,
          750,
          750,
          1450,
          6800,
          12500,
          3000,
          0,
          20750,
          5900,
          2500,
          7395,
          14000,
          4750,
          18295,
          18495,
          21495,
          22895,
          0,
          0,
          2500,
          4000,
          3750,
          4825,
          6000,
          2850,
          2500,
          900,
          6250,
          18500,
          445,
          1150,
          0,
          2200,
          1000,
          3000,
          4500,
          850,
          0,
          0,
          1200,
          9000,
          450,
          400,
          3900,
          2500,
          350,
          4200,
          2950,
          500,
          1700,
          5500,
          0,
          3850,
          12500,
          0,
          1450,
          3400,
          3950,
          0,
          0,
          6950,
          750
         ],
         "yaxis": "y"
        },
        {
         "customdata": [
          [
           "Combi Camp Flexi Comfort XL - 2020 - Katoen - Boogluifel"
          ],
          [
           "Combi Camp Country vouwwagen 2021 model 2022"
          ],
          [
           "Combi Camp Valley 2010 met Varioluifel, Gastencabine & Mover"
          ],
          [
           "Combi Camp Easy vintage"
          ],
          [
           "Combi Camp Flexi Comfort XL met boogluifel"
          ],
          [
           "Combi camp venezia"
          ],
          [
           "Combi Camp vouwwagen 1965"
          ],
          [
           "Combi Camp Country met gastencabine 2005"
          ],
          [
           "Combi Camp venezia 2007"
          ],
          [
           "Combi camp Flexi, tent & trailer."
          ],
          [
           "Combi Camp"
          ],
          [
           "Combi camp"
          ],
          [
           "Combi Camp Flexi T&T mei 2021 met nieuwe boogluifel en hor"
          ],
          [
           "Combi Camp Country"
          ],
          [
           "Combi Camp Country"
          ],
          [
           "Combi Camp voortent en wagentent"
          ],
          [
           "Combi camp country  Xclusive 2019"
          ],
          [
           "Combi Camp Venezia"
          ],
          [
           "Combi camp country 2016"
          ],
          [
           "Combi Camp Venezia met gastencabine"
          ],
          [
           "Vouwwagen Combi Camp Valley 2007"
          ],
          [
           "Gevraagd Combi Camp Country voortent en/of voortent frame."
          ],
          [
           "Combi Camp Flexi Comfort XL 2016"
          ],
          [
           "Combi Camp Valley met gastencabine, keuken, disselbak & meer"
          ],
          [
           "Vouwwagen Combi Camp Country"
          ],
          [
           "Combi camp valley 2010 in prima staat."
          ],
          [
           "Combi Camp Country Zeer netjes en compleet"
          ],
          [
           "Vouwwagen | Combi Camp - Panda"
          ],
          [
           "Combi Camp FLEXI met boogluifel 2020"
          ],
          [
           "Vouwwagen Combi Camp Flexi Comfort XL 2016"
          ],
          [
           "Vouwwagen Combi Camp 4 persoons (nieuwe foto's)"
          ]
         ],
         "hovertemplate": "Manufacturer=Combi Camp<br>construction_year=%{x}<br>price_eur=%{y}<br>title=%{customdata[0]}<extra></extra>",
         "legendgroup": "Combi Camp",
         "marker": {
          "color": "#00cc96",
          "symbol": "circle"
         },
         "mode": "markers",
         "name": "Combi Camp",
         "orientation": "v",
         "showlegend": true,
         "type": "scatter",
         "x": [
          2020,
          2021,
          2010,
          1991,
          2016,
          null,
          1965,
          2005,
          2006,
          null,
          2005,
          null,
          null,
          2010,
          null,
          null,
          null,
          2003,
          null,
          2003,
          2007,
          null,
          2016,
          2011,
          null,
          null,
          2008,
          1999,
          2020,
          2016,
          null
         ],
         "xaxis": "x",
         "y": [
          9500,
          18750,
          0,
          0,
          7250,
          2850,
          0,
          4950,
          3500,
          4125,
          2950,
          3950,
          0,
          0,
          0,
          0,
          13000,
          0,
          9950,
          2000,
          0,
          0,
          8000,
          7000,
          3600,
          3100,
          5750,
          0,
          7500,
          8000,
          975
         ],
         "yaxis": "y"
        },
        {
         "customdata": [
          [
           "Vouwwagen 2016"
          ],
          [
           "vouwwagen voor de snelle beslisser en vakantieklaar!"
          ],
          [
           "VOUWWAGENS komen uit verhuur 1,5 jaar oud  6-7 weken gebruik"
          ],
          [
           "CAMPLET Concorde"
          ],
          [
           "Vouwwagen"
          ],
          [
           "Combi-Camp Flexi Comfort laden/lossen XL met boogluifel"
          ],
          [
           "Tago River vouwwagen"
          ],
          [
           "Offroad trailer met 2 daktenten 6 persoons"
          ],
          [
           "Leuke Vouwwagen Holycamp"
          ],
          [
           "Te koop pennine crusader"
          ],
          [
           "Vouwwagen Alpen Kreuzer"
          ],
          [
           "Camplet Savanne 2008 met gastencabine"
          ],
          [
           "Vouwwagen"
          ],
          [
           "Vouwwagen Aard Kok Tundra"
          ],
          [
           "TakeOff verhuur"
          ],
          [
           "Pennine fiesta folding camper"
          ],
          [
           "te koop vouwwagen"
          ],
          [
           "Walker vouwwagen uit 1986 te koop"
          ],
          [
           "Camping Car , Happy oldtimer 1960"
          ],
          [
           "Canon Mercury"
          ],
          [
           "Te Koop: Vouwwagen uit 1980"
          ],
          [
           "vouwwagen"
          ],
          [
           "Esterel U31 vouwcaravan harde wanden."
          ],
          [
           "Oud vouwwagen"
          ],
          [
           "KANS: Combi-camp flexi t&t laden&lossen.2023 nieuw."
          ],
          [
           "Zeer mooie vouwwagen 5-6 pers. 2015"
          ],
          [
           "Livingstone River Lodge Game Drive vouwwagen"
          ],
          [
           "Te koop vouwwagen"
          ],
          [
           "Europa camper Futura"
          ],
          [
           "Camplet Savanne"
          ],
          [
           "Camplet Classic 2015 vouwwagen, als nieuw!"
          ],
          [
           "Holtcamper Cocoon XL bouwjaar 2011"
          ],
          [
           "vintage vouwwagen"
          ],
          [
           "Wolder Hoggar 2. Vouwwagen snelopzetter ! 4 persoons"
          ],
          [
           "Camplet apollo plus"
          ],
          [
           "Vouwwagen AartKok Kariba 2008"
          ],
          [
           "Vouwwagen scout pivo"
          ],
          [
           "Teun TTT4 vouwwagen 4-6 personen"
          ],
          [
           "Tago Settler vouwwagen"
          ],
          [
           "alpekreutzer"
          ],
          [
           "Vouwwagen Walker Sunny (1984) te koop"
          ],
          [
           "Easy Caravanning TakeOff Active Showmodel"
          ],
          [
           "Alpen Kreuzer Mont Blanc met Heel veel extra's"
          ],
          [
           "Alpen Kreuzer Parade 1996"
          ],
          [
           "Combicamp Venezia"
          ],
          [
           "Nette Caravan voor de liefhebber"
          ],
          [
           "Vouwwagen scout Pivo"
          ],
          [
           "Europa Camper Sunliner AVANT GARDE PAKKET + MEER"
          ],
          [
           "Vouwwagen te koop vanaf 25 augustus."
          ],
          [
           "vouwwagen alpen kreuzer"
          ],
          [
           "Gordi Gear Savannah Australische  Tenttrailer | zgan |"
          ],
          [
           "Vouwwagen te koop"
          ],
          [
           "Vouwwagen"
          ],
          [
           "Tago Desert Vouwwagen"
          ],
          [
           "Zambezi River Camp"
          ],
          [
           "Vouwwagen Alpen Kreuzer Parade"
          ],
          [
           "Zeer nette Camplet 2Go 2017.(model 2018)"
          ],
          [
           "Vouwwagen RoadStar zeer ruim"
          ],
          [
           "Vouwwagen Alpen Kreuzer, Bovag gekeurd"
          ],
          [
           "Alpen Kreuzer"
          ],
          [
           "Alpen kreuzer"
          ],
          [
           "vouwwagens"
          ],
          [
           "Voortent Ventura Pacific"
          ],
          [
           "Vouwwagen Odyssee GL 2001"
          ],
          [
           "Bagagewagen"
          ],
          [
           "Combicamp Sport vouwwagen met voortent ritssluiting stuk"
          ],
          [
           "Vouwwagen te koop"
          ],
          [
           "Camplet Passion 2019 vouwwagen"
          ],
          [
           "Vouwwagen Alpen Kreuzer Duet"
          ],
          [
           "Vouwwagen te koop"
          ],
          [
           "Camplet Savanne (2008, de stoere versie)"
          ],
          [
           "Te koop Europa Camper Futura 8 persoons vouwwagen"
          ],
          [
           "Cabano Mistral vouwwagen"
          ],
          [
           "Campwerk OffRoad Familie compleet met voortent/luifel"
          ],
          [
           "Camplet Apollo"
          ],
          [
           "Camplet concorde"
          ],
          [
           "Holkamper flyer"
          ],
          [
           "Prachtige vouwwagen Alpen Kreuzer Parade"
          ],
          [
           "Alpen Kreuzer Super GT"
          ],
          [
           "Vouwwagen 1994"
          ],
          [
           "Camplet Royal"
          ],
          [
           "camplet vouwwagen 1-2-3- systeem"
          ],
          [
           "Nette James Loisiana vouwwagen"
          ],
          [
           "Camplet Concorde (2002)"
          ],
          [
           "Vouwwagens te huur STOER EN ROBUUST Kamperen"
          ],
          [
           "Zambesi Original vouwwagen"
          ],
          [
           "Campwerk family vouwwagen (verhoogde bak!)"
          ],
          [
           "Combi-Camp FLEXI comfort uit 2022 met keuken, zeer compleet"
          ],
          [
           "Dandy type 4 vintage vouwwagen"
          ],
          [
           "Camplet  appolo 2001"
          ],
          [
           "Zeer complete Smitveld Ruebist vouwwagen (2016)"
          ],
          [
           "Leuke Camplet gepimpte vouwwagen"
          ],
          [
           "Coleman Fleetwood rio grande Destiny  bouwjaar 1997"
          ],
          [
           "vouwwagen"
          ],
          [
           "Camplet concorde vouwwagen"
          ],
          [
           "vouwwagen te koop, zeer compleet, wegens overstap caravan."
          ],
          [
           "Vouwwagen"
          ],
          [
           "Alpen kreuzer"
          ],
          [
           "Per direct te koop, nette vouwwagen met koelkast ."
          ],
          [
           "Camplet Royal super compleet en in perfecte staat!"
          ],
          [
           "TEUN tenttrailer 4vouwwagen"
          ],
          [
           "Vouwwagen Alpen kreutzer 4 bij 9 meter"
          ],
          [
           "Bungalowtent te koop 4 persoon goede kwaliteit de wit"
          ],
          [
           "Manga Deluxe met diverse opties uit 2018"
          ],
          [
           "Vouwwagen te koop"
          ],
          [
           "Tago camper vouwwagen"
          ],
          [
           "Aartk Kok Tundra Vouwwagen"
          ],
          [
           "Tago vouwwagen"
          ],
          [
           "Gebruikte vouwwagen"
          ],
          [
           "Gerjac Tago 2008  4tot 8 persoons"
          ],
          [
           "Smitveld Beauvist XL 2013"
          ],
          [
           "Smitveld Ruebist vouwwagen"
          ],
          [
           "Keizer weekender vouwwagen 2020."
          ],
          [
           "Vouwwagen"
          ],
          [
           "vouwwagen"
          ],
          [
           "Europa Camper Sunrider UIT VOORRAAD LEVERBAAR"
          ],
          [
           "Europa Camper Sunrider Comfort - snel leverbaar -"
          ],
          [
           "Camplet Savanne incl gastencabine en living luifel"
          ],
          [
           "Vouwwagen"
          ],
          [
           "Antieke jaren-60 Carstabo travelsleeper (vouwwagen)"
          ],
          [
           "Ruime en snel op te zetten Vouwwagen voor gezin te huur"
          ],
          [
           "Vouwwagen hoggar 3, 8 persoons"
          ],
          [
           "Camplet concorde van 2003"
          ],
          [
           "CAMPWERK - Offroad Black-Silver-Edition tenttrailer"
          ],
          [
           "Keizer weekender vouwwagen 2 persoons"
          ],
          [
           "Alpen Kreuzer parade royale 1996"
          ],
          [
           "Multifunctionele overland 4x4 vouwwagen - trailer"
          ],
          [
           "Alpen Kreuzer Vario 2000"
          ],
          [
           "Vouwcaravan   ESTERELLE  met nieuwe voortent"
          ],
          [
           "Mooie Buite lewe 1 2021 full options. Vouwwagen"
          ],
          [
           "Canyon 2000"
          ],
          [
           "Smitveld Beauvist 4 tot 6 pers vouwwagen zeer degelijk."
          ],
          [
           "UNIEKE Riva Dandy Destiny vouwwagen/klapcaravan"
          ],
          [
           "zo goed als nieuwe vouwwagen."
          ],
          [
           "Vouwwagen"
          ],
          [
           "vouwwagen"
          ],
          [
           "Vouwwagen"
          ],
          [
           "Vouwwagen  te koop"
          ],
          [
           "Vouwwagen NIEUW wegens omstandigheden te koop niet gebruikt."
          ],
          [
           "Camp master  mini vouwwagen"
          ],
          [
           "Tenttrailer, trailertent, vouwwagen"
          ],
          [
           "de wit, vouwwagen"
          ],
          [
           "Tekoop  Chateau 380"
          ],
          [
           "Retro Vouwwagen"
          ],
          [
           "Sunbird Campingtrailer XXL Daktent -Tenttrailer - Vouwagen -"
          ],
          [
           "vouwwagen"
          ],
          [
           "Fleetwood Santa Fe pop-up caravan met voortent"
          ],
          [
           "TAJUM tenttrailer vouwwagen 2019 (nieuwprijs €16.000)"
          ],
          [
           "Eurocamper suncruiser"
          ],
          [
           "Camplet vouwwagen  Savanne"
          ],
          [
           "Tent trailer"
          ],
          [
           "Combi-Camp Family oldtimer vouwwagen tandem-asser"
          ],
          [
           "Camplet vouwwagen"
          ],
          [
           "Te koop vouwwagen"
          ],
          [
           "Offroad  Caravan conqueror comander bj2020"
          ],
          [
           "Prachtige La Bohème vouwwagen 1978"
          ],
          [
           "Vouwwagen"
          ],
          [
           "Vouwwagen Alpen kreuzer te koop"
          ],
          [
           "Vouwwagen Louisiana 2015"
          ],
          [
           "Vouwwagen Walker Vega (retro)"
          ],
          [
           "Scout vouwwagen"
          ],
          [
           "TE KOOP Zambezi vouwwagen"
          ],
          [
           "smitveld violist"
          ],
          [
           "Ruime prettige vouwwagen roadmaste family s 8 pers"
          ],
          [
           "3 Dog op Ifor Williams kampeer / motor caravan deur en klep"
          ],
          [
           "Te koop vouwwagen voor 8 persoon"
          ],
          [
           "vouwwagen te koop"
          ],
          [
           "Europa Camper Sunliner Comfort - Snel leverbaar -"
          ],
          [
           "Vouwwagen"
          ],
          [
           "Camplet Apollo 1-2-3 systeem"
          ],
          [
           "Combicamp vouwwagen te huur met twee thule fietsdragers"
          ],
          [
           "Vouwwagen Camplet 2 Go"
          ],
          [
           "offroad vouwwagen, campertrailer, 4x4, terreinwagen,kamperen"
          ],
          [
           "Alpen Kreuzer Vario 2000"
          ],
          [
           "Vouwwagen"
          ],
          [
           "Gordigear Taiga trailertent met of zonder aanhanger"
          ],
          [
           "Te koop vouwwagen walker 1987"
          ],
          [
           "Mooie Panama up gl modeljaar 2015"
          ],
          [
           "Retro Vouwwagen"
          ],
          [
           "Scout vouwwagen 6 persoon inruil auto/brommer mogelijk"
          ],
          [
           "Coleman Fleetwood Pop-up Vouwwagen Uniek!"
          ],
          [
           "Tag Mountain Ranger 2000"
          ],
          [
           "Vouwwagen 4 persoons"
          ]
         ],
         "hovertemplate": "Manufacturer=Not found in list<br>construction_year=%{x}<br>price_eur=%{y}<br>title=%{customdata[0]}<extra></extra>",
         "legendgroup": "Not found in list",
         "marker": {
          "color": "#ab63fa",
          "symbol": "circle"
         },
         "mode": "markers",
         "name": "Not found in list",
         "orientation": "v",
         "showlegend": true,
         "type": "scatter",
         "x": [
          2016,
          2006,
          2022,
          1997,
          null,
          2016,
          null,
          null,
          null,
          2010,
          1993,
          2008,
          null,
          2006,
          2021,
          2003,
          1999,
          1986,
          null,
          null,
          1980,
          1983,
          null,
          null,
          2022,
          null,
          2017,
          null,
          2014,
          2008,
          null,
          null,
          1980,
          2012,
          null,
          2008,
          null,
          null,
          1989,
          null,
          null,
          2021,
          null,
          null,
          null,
          1991,
          null,
          2018,
          null,
          1979,
          2022,
          null,
          1996,
          null,
          2009,
          1999,
          null,
          1989,
          null,
          null,
          null,
          2007,
          null,
          null,
          null,
          null,
          null,
          2019,
          null,
          null,
          2008,
          2010,
          2003,
          null,
          null,
          2003,
          null,
          null,
          1983,
          1994,
          2003,
          null,
          null,
          null,
          null,
          2005,
          2017,
          2022,
          1982,
          null,
          2016,
          null,
          null,
          1999,
          null,
          null,
          null,
          null,
          null,
          1991,
          null,
          null,
          null,
          2018,
          null,
          1983,
          2012,
          null,
          1997,
          2008,
          2013,
          2016,
          2020,
          null,
          1999,
          2023,
          2023,
          2006,
          1998,
          1964,
          2018,
          2012,
          2003,
          2020,
          2021,
          null,
          2018,
          2000,
          null,
          2021,
          null,
          null,
          1994,
          null,
          null,
          null,
          null,
          2003,
          2023,
          null,
          null,
          null,
          1992,
          null,
          2023,
          2005,
          null,
          2019,
          2017,
          2010,
          null,
          null,
          null,
          null,
          2020,
          1978,
          null,
          null,
          null,
          1983,
          null,
          null,
          2011,
          2002,
          null,
          null,
          2006,
          2023,
          2011,
          1996,
          null,
          2016,
          2023,
          2001,
          1995,
          2013,
          null,
          null,
          null,
          1996,
          null,
          null,
          null
         ],
         "xaxis": "x",
         "y": [
          4750,
          1900,
          5825,
          650,
          0,
          6750,
          550,
          9250,
          275,
          9000,
          600,
          3250,
          0,
          4500,
          524,
          2750,
          750,
          150,
          2500,
          0,
          350,
          350,
          0,
          230,
          7999,
          4000,
          9200,
          250,
          0,
          2650,
          6500,
          7500,
          1250,
          2750,
          650,
          5450,
          550,
          5500,
          350,
          0,
          400,
          15995,
          1995,
          0,
          1750,
          3500,
          500,
          7250,
          0,
          0,
          7145,
          300,
          0,
          500,
          7700,
          1000,
          0,
          0,
          500,
          0,
          0,
          1000,
          250,
          700,
          500,
          325,
          500,
          10000,
          650,
          2995,
          0,
          5500,
          1600,
          9990,
          950,
          1500,
          650,
          1100,
          0,
          0,
          1500,
          0,
          600,
          650,
          0,
          2500,
          9250,
          10150,
          0,
          0,
          7500,
          750,
          0,
          300,
          1250,
          1000,
          500,
          600,
          900,
          1100,
          4750,
          0,
          350,
          7250,
          0,
          0,
          3750,
          1500,
          0,
          1850,
          0,
          7950,
          0,
          0,
          900,
          10499,
          11798,
          2950,
          1750,
          0,
          0,
          1750,
          2500,
          17495,
          4000,
          250,
          3500,
          250,
          4100,
          6750,
          0,
          1600,
          1300,
          0,
          0,
          0,
          500,
          0,
          0,
          2950,
          0,
          250,
          3000,
          0,
          9995,
          3000,
          5750,
          9250,
          0,
          4750,
          3850,
          500,
          0,
          300,
          31000,
          600,
          2999,
          0,
          4800,
          450,
          550,
          3500,
          0,
          0,
          10000,
          800,
          1850,
          11199,
          3750,
          0,
          20,
          4000,
          0,
          500,
          700,
          0,
          175,
          0,
          0,
          850,
          8500,
          699,
          250
         ],
         "yaxis": "y"
        },
        {
         "customdata": [
          [
           "Cabanon Manga met Easy Pack systeem uit 2020"
          ],
          [
           "Cabanon Neptune met voortent, luxe luifel en zonneluifel"
          ],
          [
           "Vouwwagen Europa Camper Suncruiser (Cabanon) (Sunliner XL)"
          ],
          [
           "Cabanon Imperia 2015 - Complete Set met Accessoires!"
          ],
          [
           "Cabanon Chamonix"
          ],
          [
           "Vouwwagen Cabanon Tabora"
          ],
          [
           "Vouwwagen Cabanon Tabora"
          ],
          [
           "Vouwwagen Cabanon Ariane"
          ],
          [
           "Cabanon Neptune vouwwagen"
          ],
          [
           "Cabanon Chamonix De luxe"
          ],
          [
           "Vouwwagen cabanon neptune"
          ],
          [
           "Vouwwagen Cabanon Malawi 2.0; voor- en achtertent & keuken"
          ],
          [
           "Vouwwagen cabanon Monaco compleet uitgevoerd (2020)"
          ],
          [
           "Cabanon Monaco Deluxe vouwwagen (2022)"
          ],
          [
           "Cabanon Manga uit 2022 te koop!"
          ],
          [
           "Vouwwagen Cabanon Atlantis uit 2004 in uitstekende staat"
          ],
          [
           "Cabanon Mercury DeLuxe Bermkeuken Avant Garde vouwwagen 2019"
          ],
          [
           "Cabanon Manga vouwwagen, zeer compleet!"
          ],
          [
           "Cabanon Malawi De Luxe AVANT GARDE PAKKET + MEER"
          ],
          [
           "Cabanon Venus"
          ],
          [
           "Cabanon Malawi 2.0  2018: panoramaluifel, achtertent, matras"
          ],
          [
           "Cabanon Malawi 1.0 uit 2013"
          ],
          [
           "Cabanon Manga"
          ],
          [
           "Cabanon Malawi luxe 2016, voortent, achtertent, keuken"
          ],
          [
           "Cabanon safari lodge vouwwagen"
          ],
          [
           "Cabanon Malawi 2.0 Basic - Uit voorraad"
          ],
          [
           "Cabanon Mercury Basic met Avantgarde pakket"
          ],
          [
           "Vouwwagen Cabanon Mercury 2019"
          ],
          [
           "Cabanon Stratos, vouwwagen met bermkeuken (2010)"
          ],
          [
           "Cabanon Manga 2013"
          ],
          [
           "Heel complete Cabanon Mercury 2012"
          ],
          [
           "Cabanon Malawi 2.0 Basic 2020, panoramaluifel, XL achtertent"
          ],
          [
           "Cabanon Malawi 2.0 DeLuxe 2017"
          ],
          [
           "Cabanon vouwwagen Mercury Deluxe 2012 ALLE OPTIES!"
          ],
          [
           "Cabanon Malawi 2.0 vouwwagen basic easypack 2019 te koop"
          ],
          [
           "Cabanon Mercury Deluxe met Avant Garde pakket"
          ],
          [
           "Vouwwagen Cabanon / Europa Camper Suncruiser"
          ],
          [
           "Vouwwagen Cabanon Mercury deluxe avant garden 2008"
          ],
          [
           "Cabanon Malawi 1.0 (2012)"
          ],
          [
           "Cabanon Mercury Deluxe 2017 Avant Garde pakket zeer compleet"
          ],
          [
           "Vouwwagen  Cabanon Malawi 1.0"
          ],
          [
           "Cabanon manga comfort"
          ],
          [
           "Vouwwagen Cabanon Sunliner 2017 (europa camper) DELUXE"
          ],
          [
           "Cabanon mercury 2018 Comfort vouwwagen"
          ],
          [
           "Cabanon Malawi 2.0 Deluxe vouwwagen (met luxe bermkeuken)"
          ],
          [
           "Cabanon Malawi 2.0 (2022)"
          ],
          [
           "CABANON MALAWI 2.0 2022 + VOORTENT+ZONNELUIFEL EN ZIJWAND 2X"
          ],
          [
           "Vouwwagen Cabanon Malawi 1.0 Deluxe - DIRECT BESCHIKBAAR"
          ],
          [
           "Europa camper Cabanon uit 2005 in zeer goede staat"
          ],
          [
           "Cabanon Mercury 2009"
          ],
          [
           "Cabanon Mercury Deluxe in topstaat"
          ],
          [
           "Vouwwagen Cabanon Monaco Deluxe (met extra’s) 2022"
          ],
          [
           "Cabanon Stratos vouwwagen bj 2008"
          ],
          [
           "Cabanon Mercury Deluxe 2013"
          ],
          [
           "Cabanon Tabora voor 2 - 4 personen, direct kampeerklaar!"
          ],
          [
           "Cabanon Malawi 2.0 Royale z.g.a.n. bj 2021"
          ],
          [
           "Cabanon Stellar (2008)"
          ],
          [
           "Vouwwagen 6-8 personen Cabanon Chamonix de Luxe uit 2022"
          ],
          [
           "Cabanon Chamonix 2023"
          ],
          [
           "Vouwwagen Cabanon Neptune 2008 voor 4- 6 personen"
          ],
          [
           "Europa Camper (Cabanon) Sunliner 2018"
          ],
          [
           "Cabanon Chamonix"
          ],
          [
           "Vouwwagen Cabanon Mercury"
          ],
          [
           "Cabanon Mercury 2023 - compleet met alle accessoires"
          ],
          [
           "Cabanon Neptune 2009. 6 - 8 persoons met luxe luifel"
          ],
          [
           "Cabanon Mercury Comfort AVANT GARDE PAKKET + MEER"
          ],
          [
           "Cabanon Mercury De Luxe AVANT GARDE PAKKET + MEER"
          ],
          [
           "Cabanon Imperia Deluxe 2015"
          ],
          [
           "Cabanon Malawi 2.0 de Luxe ZEER COMPLEET"
          ],
          [
           "Cabanon Malawi vouwwagen. 2016. Incl. Voortent en luifel."
          ],
          [
           "Cabanon mercury 2016"
          ],
          [
           "Cabanon Malawi 2.0 Snel opzetbaar"
          ],
          [
           "Cabanon Mercury Comfort"
          ],
          [
           "Cabanon Chamonix De Luxe - Zeer ruime uitvoering -"
          ],
          [
           "Cabanon Manga Basic - uit voorraad"
          ],
          [
           "Cabanon Malawi 2.0 Royale Basic, 2023"
          ],
          [
           "Cabanon Stratos 2009 met bermkeuken"
          ],
          [
           "Toiles Cabanon Mercury basic"
          ],
          [
           "Cabanon Malawi 1 klaar voor vakantie!"
          ],
          [
           "Grote luifel! EXTRA:matrastoppers - Cabanon Jaguar - 2014/15"
          ],
          [
           "Cabanon Mercury (2013)"
          ],
          [
           "Vouwwagen Cabanon Malawi voor twee personen incl keuken"
          ],
          [
           "Cabanon Malawi 2.0 Basic 2023"
          ],
          [
           "Cabanon Mercury De Luxe + Avant Garde pakket"
          ],
          [
           "Cabanon Mercury De luxe inclusief panoramaluifel"
          ],
          [
           "Cabanon Columbia 2012 Deluxe"
          ],
          [
           "Cabanon Malawi 2.0 ‘21 voortent, XL achtertent, fietsendrage"
          ],
          [
           "cabanon malawi 2016"
          ],
          [
           "cabanon Mercury 2016"
          ],
          [
           "Cabanon Malawi 2.0"
          ],
          [
           "Cabanon Manga"
          ],
          [
           "Cabanon Mercury Comfort - UIT VOORRAAD"
          ],
          [
           "Cabanon Chamonix Deluxe te bezichtigen"
          ],
          [
           "8-pers Cabanon Evolution vouwwagen"
          ],
          [
           "Cabanon Malawi 2.0 - De Luxe - met keuken -"
          ],
          [
           "Cabanon Malawi 2.0 Royale - Snel leverbaar -"
          ],
          [
           "Cabanon Saturn"
          ],
          [
           "Cabanon Touring de Luxe"
          ],
          [
           "Cabanon Malawi Basic Nette 2 persoonsvouwwagen"
          ],
          [
           "Cabanon Mercury"
          ]
         ],
         "hovertemplate": "Manufacturer=Cabanon<br>construction_year=%{x}<br>price_eur=%{y}<br>title=%{customdata[0]}<extra></extra>",
         "legendgroup": "Cabanon",
         "marker": {
          "color": "#FFA15A",
          "symbol": "circle"
         },
         "mode": "markers",
         "name": "Cabanon",
         "orientation": "v",
         "showlegend": true,
         "type": "scatter",
         "x": [
          2020,
          2010,
          2016,
          2015,
          2014,
          null,
          2016,
          null,
          2007,
          2014,
          2009,
          2018,
          null,
          2022,
          null,
          2004,
          2019,
          null,
          2016,
          2007,
          2018,
          2013,
          2010,
          2016,
          2015,
          2023,
          2015,
          2019,
          2010,
          2013,
          2012,
          2020,
          2017,
          2012,
          null,
          2011,
          2014,
          2009,
          null,
          2017,
          2012,
          2020,
          2016,
          2018,
          null,
          2022,
          2022,
          2017,
          2005,
          null,
          2019,
          null,
          null,
          2013,
          2016,
          2021,
          2008,
          2022,
          2023,
          2008,
          null,
          2016,
          2008,
          null,
          null,
          2017,
          2016,
          2015,
          2017,
          null,
          null,
          2023,
          2023,
          2023,
          2023,
          2023,
          null,
          null,
          2011,
          2014,
          2013,
          null,
          null,
          2012,
          null,
          2012,
          2021,
          2016,
          null,
          2019,
          2010,
          2023,
          null,
          2008,
          2023,
          2023,
          2009,
          1999,
          2015,
          2008
         ],
         "xaxis": "x",
         "y": [
          0,
          4500,
          5400,
          5000,
          3750,
          3450,
          3400,
          0,
          3500,
          6950,
          0,
          7950,
          9450,
          11000,
          9500,
          1650,
          8150,
          5950,
          5500,
          1750,
          0,
          3995,
          3500,
          5250,
          7500,
          8399,
          7000,
          0,
          3800,
          0,
          5250,
          8250,
          0,
          6495,
          0,
          4500,
          5500,
          0,
          3950,
          0,
          3750,
          9850,
          6750,
          0,
          8250,
          9495,
          9250,
          7250,
          1799,
          3300,
          8900,
          11290,
          3950,
          5500,
          4000,
          9500,
          1250,
          13000,
          0,
          0,
          6850,
          3750,
          3500,
          0,
          4500,
          7995,
          0,
          0,
          8000,
          3700,
          0,
          8399,
          11748,
          13948,
          10148,
          0,
          4000,
          5750,
          0,
          2300,
          0,
          4975,
          8500,
          0,
          0,
          6250,
          0,
          0,
          0,
          0,
          2500,
          11748,
          0,
          0,
          10898,
          9599,
          2750,
          850,
          5695,
          3995
         ],
         "yaxis": "y"
        },
        {
         "customdata": [
          [
           "Goed onderhouden Roadmaster Family S met diverse upgrades"
          ],
          [
           "Nette vouwwagen - Roadmaster Family S"
          ],
          [
           "Roadmaster family S 8 persoons"
          ],
          [
           "Zeer complete Roadmaster Runner S"
          ],
          [
           "Vouwwagen RoadMaster Midi S"
          ],
          [
           "Roadmaster Family S"
          ],
          [
           "Roadmaster Family S"
          ],
          [
           "Vouwwagen Roadmaster Family S (2008)"
          ],
          [
           "Vouwwagen roadmaster midi"
          ],
          [
           "Roadmaster Runner S"
          ],
          [
           "Nette Roadmaster runner S vouwwagen"
          ],
          [
           "Roadmaster family S 8 personen"
          ],
          [
           "Roadmaster Midi S vouwwagen."
          ],
          [
           "Roadmaster family S 8 persoons"
          ],
          [
           "Roadmaster Family S; Vouwwagen; STAAT IN STALLING SPANJE!!"
          ],
          [
           "Vouwwagen Roadmaster Family S"
          ],
          [
           "Fantastische vouwwagen Roadmaster Family S"
          ],
          [
           "Roadmaster midi s vouwwagen bj 2000 frisse vakantieklare set"
          ],
          [
           "Vouwwagen Roadmaster midi"
          ],
          [
           "Vouwwagen Roadmaster Family S uit 2004"
          ],
          [
           "Vouwwagen Roadmaster Runner S"
          ],
          [
           "Roadmaster Runner S in goede staat met voortent en luifel"
          ],
          [
           "Roadmaster Runner S"
          ],
          [
           "Roadmaster Midi Rally S 2004"
          ],
          [
           "roadmaster vouwwagen"
          ],
          [
           "Vouwwagen - Roadmaster Family S"
          ],
          [
           "Roadmaster family extra"
          ],
          [
           "Roadmaster Family S"
          ],
          [
           "Roadmaster Family S 2008"
          ],
          [
           "Nette ruime Roadmaster Runner S vouwwagen 4, 6 - 8  personen"
          ],
          [
           "Mooie Roadmaster family S"
          ],
          [
           "Fijne zeer ruime Roadmaster vouwwagen"
          ],
          [
           "Vouwwagen Roadmaster Runner S, 8pers, met voortent en luifel"
          ],
          [
           "Roadmaster family S vouwwagen ideaal achter elektrische auto"
          ],
          [
           "Leuke Roadmaster Family S"
          ],
          [
           "Roadmaster Family S 2004"
          ],
          [
           "Vouwwagen Roadmaster Family S Blauw/Creme"
          ],
          [
           "Roadmaster Family S 6 persoons vouwwagen"
          ],
          [
           "Roadmaster midi S vouwwagen, 2 persoons"
          ],
          [
           "Roadmaster family s 6-persoons"
          ],
          [
           "Roadmaster Family S 8 persoons"
          ],
          [
           "Roadmaster family S (extra groot)"
          ],
          [
           "Roadmaster Family S"
          ],
          [
           "Vouwwagen Roadmaster Family S"
          ],
          [
           "Roadmaster familie s"
          ],
          [
           "Roadmaster Family S 2004"
          ],
          [
           "Roadmaster Family S - dubbele uitbouw uit 2003"
          ],
          [
           "Roadmaster Family S"
          ],
          [
           "Roadmaster Runner 1994"
          ],
          [
           "Roadmaster family S"
          ],
          [
           "Roadmaster Family S"
          ],
          [
           "Roadmaster Midi S vouwwagen"
          ],
          [
           "Roadmaster family S de luxe nieuwe bodem!"
          ],
          [
           "Vouwwagen roadmaster family S voor onderdelen"
          ],
          [
           "Mooie roadmaster midi"
          ],
          [
           "Vouwwagen Roadmaster Family S"
          ],
          [
           "Roadmaster Family S 2000 Incl.Luifel met zijwanden"
          ],
          [
           "Roadmaster Family S"
          ],
          [
           "Vouwwagen Roadmaster"
          ],
          [
           "Roadmaster Family S"
          ]
         ],
         "hovertemplate": "Manufacturer=Roadmaster<br>construction_year=%{x}<br>price_eur=%{y}<br>title=%{customdata[0]}<extra></extra>",
         "legendgroup": "Roadmaster",
         "marker": {
          "color": "#19d3f3",
          "symbol": "circle"
         },
         "mode": "markers",
         "name": "Roadmaster",
         "orientation": "v",
         "showlegend": true,
         "type": "scatter",
         "x": [
          null,
          null,
          1995,
          2002,
          null,
          2003,
          2006,
          2008,
          null,
          null,
          2002,
          null,
          null,
          2004,
          2004,
          null,
          2005,
          null,
          null,
          2004,
          1998,
          null,
          null,
          null,
          1992,
          null,
          null,
          1997,
          null,
          2000,
          2003,
          null,
          2000,
          null,
          2002,
          2004,
          null,
          null,
          null,
          2005,
          null,
          null,
          null,
          2004,
          null,
          2004,
          null,
          null,
          null,
          1998,
          2001,
          2008,
          null,
          1998,
          null,
          null,
          2000,
          null,
          null,
          2004
         ],
         "xaxis": "x",
         "y": [
          2000,
          950,
          500,
          600,
          0,
          0,
          1900,
          1950,
          0,
          500,
          1000,
          1700,
          1000,
          2500,
          0,
          1500,
          2750,
          0,
          1500,
          1000,
          950,
          450,
          0,
          1500,
          0,
          0,
          800,
          0,
          0,
          1045,
          1800,
          750,
          950,
          1850,
          1950,
          0,
          1000,
          1600,
          1500,
          1500,
          1750,
          0,
          1100,
          0,
          2250,
          2000,
          0,
          1250,
          0,
          0,
          995,
          1500,
          2750,
          0,
          500,
          1350,
          0,
          950,
          1500,
          3000
         ],
         "yaxis": "y"
        },
        {
         "customdata": [
          [
           "RAPIDO klapcaravan type confort"
          ],
          [
           "Rapido export klapcaravan"
          ],
          [
           "Rapido Confort vouwcaravan klapcaravan"
          ],
          [
           "Rapido export klapcaravan"
          ],
          [
           "rapido record klapcaravan 1980"
          ],
          [
           "Rapido klapcaravan / vouwcaravan confort compleet te zien"
          ],
          [
           "Rapido klapcaravan"
          ]
         ],
         "hovertemplate": "Manufacturer=Rapido<br>construction_year=%{x}<br>price_eur=%{y}<br>title=%{customdata[0]}<extra></extra>",
         "legendgroup": "Rapido",
         "marker": {
          "color": "#FF6692",
          "symbol": "circle"
         },
         "mode": "markers",
         "name": "Rapido",
         "orientation": "v",
         "showlegend": true,
         "type": "scatter",
         "x": [
          1980,
          null,
          1983,
          1979,
          1980,
          1978,
          1981
         ],
         "xaxis": "x",
         "y": [
          1950,
          3800,
          0,
          2850,
          1350,
          0,
          2000
         ],
         "yaxis": "y"
        },
        {
         "customdata": [
          [
           "3Dog Traildog 2011 tenttrailer luifel fietsendrager Cee"
          ],
          [
           "Te koop 3Dog Scoutdog kleur Khaki Sand bouwjaar 2017"
          ],
          [
           "3DOG Traildog full options!"
          ],
          [
           "3Dog Camping TrailDog OffRoader Khaki-dark"
          ]
         ],
         "hovertemplate": "Manufacturer=3Dog<br>construction_year=%{x}<br>price_eur=%{y}<br>title=%{customdata[0]}<extra></extra>",
         "legendgroup": "3Dog",
         "marker": {
          "color": "#B6E880",
          "symbol": "circle"
         },
         "mode": "markers",
         "name": "3Dog",
         "orientation": "v",
         "showlegend": true,
         "type": "scatter",
         "x": [
          2011,
          2017,
          null,
          2022
         ],
         "xaxis": "x",
         "y": [
          4750,
          0,
          12000,
          17000
         ],
         "yaxis": "y"
        },
        {
         "customdata": [
          [
           "gerjak tago atlantic"
          ],
          [
           "Gerjak tago tenttrailer.4 meter breed en 8 meter lang."
          ],
          [
           "Vouwwagen gerjak tago amazone"
          ],
          [
           "Gerjak Tago Artic 2011"
          ],
          [
           "Gerjak Tago Settler te koop"
          ],
          [
           "Gerjak Tago Indian vouwwagen"
          ],
          [
           "Gerjak Tago Atlantic 2006 - ruime 6 a 8 p. gezins-vouwwagen"
          ],
          [
           "Gerjak Tago Atlantic Vouwwagen"
          ],
          [
           "Gerjak tago indian 2007"
          ],
          [
           "SUPER NETTE GERJAK Tago Settler Crossing 2012!!"
          ],
          [
           "Gerjak Tago Artic 2011 vouwwagen"
          ],
          [
           "Gerjak Tago Settler 2012"
          ],
          [
           "Gerjak Tago River 2003"
          ],
          [
           "Gerjak Indian Tago Vouwwagen (4-6 personen)"
          ],
          [
           "Erg ruime Tago / Gerjak vouwwagen"
          ],
          [
           "Gerjak Ranger Safari"
          ],
          [
           "Gerjak Tago Vouwwagen uit 2005"
          ],
          [
           "Vouwwagen Gerjak Settler uit 2010 met complete inboedel"
          ],
          [
           "Gerjak Tago vouwwagen 2004"
          ],
          [
           "Gerjak Tago Atlantic uit 2006 - Ruime 6-persoons vouwwagen"
          ],
          [
           "Gerjak Tago Atlantic 2007"
          ],
          [
           "Gerjak Tago Indian"
          ],
          [
           "Gerjak Tago Indian 4-8 persoons vouwwagen Incl inventaris"
          ],
          [
           "Gerjak Tago Settler Crossing - 4 tot 6 pers incl imperiaal"
          ],
          [
           "Vouwwagen  Gerjak Tago Indian"
          ],
          [
           "Vouwwagen Gerjak Tago Amazone 2005"
          ],
          [
           "Gerjak Tago Atlantic Vouwwagen 4 tot  8 persoons"
          ],
          [
           "gerjak tago indian"
          ],
          [
           "Gerjak Tago Indian | 4-8 persoons | Voortent en luifel | Gas"
          ]
         ],
         "hovertemplate": "Manufacturer=Gerjak<br>construction_year=%{x}<br>price_eur=%{y}<br>title=%{customdata[0]}<extra></extra>",
         "legendgroup": "Gerjak",
         "marker": {
          "color": "#FF97FF",
          "symbol": "circle"
         },
         "mode": "markers",
         "name": "Gerjak",
         "orientation": "v",
         "showlegend": true,
         "type": "scatter",
         "x": [
          null,
          2005,
          null,
          2011,
          2008,
          2007,
          2006,
          2006,
          2007,
          null,
          null,
          2012,
          2003,
          2005,
          2000,
          2012,
          2005,
          null,
          2004,
          null,
          2007,
          2005,
          2007,
          2010,
          2000,
          null,
          null,
          null,
          2005
         ],
         "xaxis": "x",
         "y": [
          1800,
          1500,
          1450,
          3150,
          1400,
          2500,
          1750,
          0,
          2150,
          0,
          3000,
          3200,
          0,
          1800,
          0,
          3750,
          1500,
          1950,
          1195,
          1750,
          1200,
          0,
          2000,
          2500,
          1950,
          1490,
          2500,
          2200,
          1500
         ],
         "yaxis": "y"
        },
        {
         "customdata": [
          [
           "Conway Mirage vouwwagen"
          ],
          [
           "Conway vouwwagen 2003 extra lang 6 persoons"
          ],
          [
           "Conway Cruiser pop up vouwwagen"
          ],
          [
           "Conway Canterbury dl vouwwagen 6-pers"
          ],
          [
           "Conway Cortina vouwwagen"
          ],
          [
           "Conway vouwwagen  Met toebehoren"
          ],
          [
           "Nette Conway Vouwagen!"
          ],
          [
           "Vouwwagen Conway"
          ],
          [
           "Vintage Conway Cruiser uit 1996"
          ],
          [
           "Conway Classic Trio 2003 Vouwwagen"
          ],
          [
           "Vouwwagen conway"
          ],
          [
           "Conway Vision Vouwwagen 6 persoons"
          ],
          [
           "Vouwwagen conway camberley 350dl"
          ],
          [
           "Vouwwagen Conway Trio Classic 2006 in uitstekende staat"
          ]
         ],
         "hovertemplate": "Manufacturer=Conway<br>construction_year=%{x}<br>price_eur=%{y}<br>title=%{customdata[0]}<extra></extra>",
         "legendgroup": "Conway",
         "marker": {
          "color": "#FECB52",
          "symbol": "circle"
         },
         "mode": "markers",
         "name": "Conway",
         "orientation": "v",
         "showlegend": true,
         "type": "scatter",
         "x": [
          1998,
          2003,
          1992,
          null,
          null,
          null,
          null,
          null,
          1996,
          2003,
          null,
          null,
          null,
          2005
         ],
         "xaxis": "x",
         "y": [
          600,
          1200,
          0,
          0,
          0,
          0,
          825,
          300,
          1499,
          550,
          600,
          500,
          0,
          1250
         ],
         "yaxis": "y"
        },
        {
         "customdata": [
          [
           "vouwwagen trigano galleon"
          ],
          [
           "Trigano Alpha GL  snel opbouw"
          ],
          [
           "Trigano odyssee"
          ],
          [
           "Vouwwagen trigano odyssee"
          ],
          [
           "Vouwwagen Trigano Chantilly GL"
          ],
          [
           "Trigano Odyssee 1-2-3 uit 2002"
          ],
          [
           "Trigano Chantilly 1998"
          ],
          [
           "Trigano vouwwagen"
          ],
          [
           "Vouwwagen Trigano Chantilly GL"
          ],
          [
           "Trigano Odyssee (1e eigenaar) gekocht 2015"
          ],
          [
           "Trigano Alpha Exclusive Line vouwwagen"
          ],
          [
           "Prachtige Trigano Alpha Tent Trailer Vouwwagen"
          ],
          [
           "Trigano Alpha GL snelklapper vouwwagen 2016 met extra's"
          ],
          [
           "Trigano Odyssee Plus GL"
          ],
          [
           "Trigano Olympe"
          ],
          [
           "Vouwwagen Trigano Odyssee 2012"
          ],
          [
           "Trigano vouwwagen inclusief voortent."
          ],
          [
           "Mooie Trigano Galleon familie vouwwagen (2019)"
          ],
          [
           "Trigano chantilly"
          ],
          [
           "Trigano odyssee GL 2.0 (2020) 3x gebruikt"
          ],
          [
           "Vouwwagen Trigano Odyssee GL"
          ],
          [
           "Trigano Chantilly GL Vouwwagen"
          ],
          [
           "Trigano odyssee"
          ],
          [
           "Trigano Oceane GL"
          ],
          [
           "Trigano Galleon GL Slechts 2x gebruikt"
          ],
          [
           "Trigano Odyssee GL 2.0"
          ],
          [
           "Trigano Odyssee GL"
          ],
          [
           "Trigano Odyssee 2003"
          ],
          [
           "Trigano Odyssee 2018 met easy pack systeem"
          ],
          [
           "Trigano Odyssee 2004"
          ],
          [
           "Trigano Odyssee gl 2009"
          ],
          [
           "Vouwwagen Trigano Galleon bouwjaar 2017"
          ],
          [
           "Trigano Galleon GL  2013 compleet"
          ],
          [
           "Trigano Odyssee GL 2015"
          ],
          [
           "Verlaagde Prijs: Vouwwagen Trigano Oceane 315"
          ],
          [
           "Trigano vedome , goede staat lekker ruim voor gezin van 5."
          ],
          [
           "Trigano Oceana 315"
          ],
          [
           "Trigano Oceane 100% waterdicht!"
          ],
          [
           "vouwwagen Trigano Odyssee"
          ],
          [
           "Vouwwagen Trigano OLympe 2010"
          ],
          [
           "Trigano Camp Trail"
          ],
          [
           "Trigano Odyssee GL"
          ],
          [
           "Zeer nette Trigano Vendome GL met extra kampeerspullen"
          ],
          [
           "Trigano Alpha GL vouwwagen, met aangebouwde luxe keuken"
          ],
          [
           "Trigano Cheverny GL"
          ],
          [
           "trigano odyssee 1-2-3 event. Incl. extra's zoals stalling!"
          ],
          [
           "Cherverny trigano vouwwagen"
          ],
          [
           "Mooie vouwwagen trigano Odyssee (2011)"
          ],
          [
           "Vouwwagen Trigano Odyssee GL"
          ],
          [
           "Trigano odyssee 2014, luifel en gastencabine"
          ],
          [
           "Vouwwagen Trigano Galleon 2014"
          ],
          [
           "Vouwwagen Trigano Odyssee 2006"
          ],
          [
           "Trigano galleon Vouwagen"
          ],
          [
           "Trigano galleon vouwwagen 2014 beschadigd !!"
          ],
          [
           "Vouwwagen Trigano Oceane GL, bouwjaar 2001-2002, 5 slaappl"
          ],
          [
           "Vouwwagen TRIGANO GALLEON model 2017"
          ],
          [
           "Trigano Vedome XL 2003 met disselbak en imperial"
          ],
          [
           "Vouwwagen Trigano Odyssee Safari GL incl. luifel, fietsenrek"
          ],
          [
           "Trigano Odyssee GL"
          ],
          [
           "Vouwwagen trigano Odyssee"
          ],
          [
           "Trigano Vendome 2005"
          ],
          [
           "Vouwwagen Trigano Odyssee"
          ],
          [
           "Trigano Oceane GL 2004 vouwwagen"
          ],
          [
           "Trigano odyssee"
          ],
          [
           "Vouwwagen Trigano Vendome de Luxe GL"
          ],
          [
           "Mooie nette trigano chantilly 2005"
          ],
          [
           "Vouwwagen Trigano Odyssée"
          ],
          [
           "Trigano Vendôme Luxe 2007 + Extra's"
          ],
          [
           "Trigano Odyssee 1997"
          ],
          [
           "Trigano Alpha"
          ],
          [
           "Vouwwagen Trigano Océane (315) uit 2003"
          ],
          [
           "vouwwagen Trigano Olympe GL 2013"
          ],
          [
           "Trigano odyssee vouwwagen 1-2-3 (snelklapper)"
          ],
          [
           "Trigano Itinea GL (919599)"
          ],
          [
           "Trigano Odyssee 2003"
          ],
          [
           "Vouwwagen trigano camplair (2022!)"
          ],
          [
           "Trigano Odyssee GL met keuken en disselbak"
          ],
          [
           "Trigano vouwwagen"
          ],
          [
           "Trigano Alpha GL 2020"
          ],
          [
           "Vouwwagen trigano gl odyssee"
          ],
          [
           "Trigano Odyssee GL"
          ],
          [
           "Trigano Galleon 315GL / 2022! In TOP staat!"
          ],
          [
           "Trigano Olympe GL 2011"
          ],
          [
           "Mooie grote Trigano Olympe GL"
          ],
          [
           "Vouwwagen trigano Odyssee"
          ],
          [
           "Grote Trigano vouwwagen te koop!"
          ],
          [
           "Trigano Galleon GL vouwwagen 2012 (evt helemaal compleet!)"
          ],
          [
           "Vouwwagen Trigano Chantilly GL 8 personen"
          ],
          [
           "Nette Trigano Olympe Vouwwagen met keuken en fietsendrager."
          ],
          [
           "Trigano vouwwagen 6 pers."
          ],
          [
           "Trigano Odyssee GL Plus (gekocht in 2019)"
          ],
          [
           "Trigano Odyssee Vouwwagen Met Fietsendrager & Luifel"
          ],
          [
           "Trigano Oceane GL vouwwagen"
          ],
          [
           "Trigano odyssee 2015 Blauw/Wit"
          ],
          [
           "Vouwwagen Trigano"
          ],
          [
           "Trigano chantilly GL 2001 vouwwagen"
          ],
          [
           "Trigano Vendome GL"
          ],
          [
           "Trigano Oceane 3.15 GL uit 1999"
          ],
          [
           "Vouwwagen Trigano Verdome Gl met luifel 6 p"
          ],
          [
           "Trigano Odyssee 1-2-3 vouwwagen met lopende BOVAG garantie"
          ],
          [
           "Trigano Odyssee 123 vouwwagen"
          ],
          [
           "Trigano odyssee"
          ],
          [
           "Trigano oceane 240 bouwjr 2003 + matras toppers"
          ],
          [
           "Trigano Olympe GL 2009"
          ],
          [
           "Trigano Vendome GL Luxe 1998 met fietsendrager en luifel"
          ],
          [
           "Vouwwagen Trigano Odyssee"
          ],
          [
           "vouwwagen trigano odyssee te koop of te huur"
          ],
          [
           "Trigano Odyssee 2006"
          ],
          [
           "Trigano Odyssee snel opzetten. Klaar voor vakantie met 6!"
          ],
          [
           "Leuke Vouwwagen merk Trigano 4 pers ."
          ],
          [
           "Trigano Odyssee te koop"
          ],
          [
           "Trigano Alpha GL"
          ],
          [
           "Trigano Odyssee vouwwagen uit 2015"
          ],
          [
           "Mooie Trigano Odyssee 2005 123-systeem en Gastenverblijf"
          ],
          [
           "Trigano Odyssee 1-2-3 vouwwagen (incl. Imperiaal + koffer)"
          ],
          [
           "Trigano Vendome Luxe"
          ],
          [
           "Vouwwagen, Trigano Odyssee (2003) 123 klapsysteem"
          ],
          [
           "Trigano Galleon"
          ],
          [
           "Trigano Chambord GL vouwwagen"
          ],
          [
           "Trigano Odyssee 2018"
          ],
          [
           "Vouwwagen Trigano Vendome GL"
          ],
          [
           "Schitterende Trigano Oz Trail Zenith '17 keuken"
          ]
         ],
         "hovertemplate": "Manufacturer=Trigano<br>construction_year=%{x}<br>price_eur=%{y}<br>title=%{customdata[0]}<extra></extra>",
         "legendgroup": "Trigano",
         "marker": {
          "color": "#636efa",
          "symbol": "circle"
         },
         "mode": "markers",
         "name": "Trigano",
         "orientation": "v",
         "showlegend": true,
         "type": "scatter",
         "x": [
          2010,
          null,
          null,
          null,
          2001,
          null,
          null,
          null,
          2003,
          null,
          2011,
          2016,
          2016,
          2018,
          2009,
          2011,
          1998,
          2019,
          null,
          2020,
          2007,
          null,
          null,
          2002,
          2018,
          2021,
          2014,
          2003,
          null,
          null,
          null,
          2017,
          null,
          2015,
          2002,
          null,
          2003,
          2000,
          2003,
          2010,
          2023,
          2007,
          null,
          2018,
          null,
          1997,
          null,
          2011,
          null,
          null,
          null,
          null,
          null,
          null,
          2001,
          null,
          null,
          2008,
          1998,
          null,
          null,
          2015,
          2004,
          2004,
          2004,
          null,
          2016,
          2007,
          null,
          2013,
          null,
          2013,
          null,
          2021,
          null,
          2022,
          2005,
          null,
          2020,
          null,
          2005,
          null,
          2011,
          null,
          2014,
          null,
          2012,
          1996,
          2009,
          null,
          2018,
          2010,
          null,
          null,
          null,
          2001,
          1999,
          1999,
          null,
          2007,
          2002,
          2008,
          null,
          null,
          null,
          null,
          2000,
          2006,
          2005,
          null,
          null,
          2016,
          null,
          2005,
          2007,
          null,
          2003,
          2011,
          null,
          null,
          2001,
          2017
         ],
         "xaxis": "x",
         "y": [
          3500,
          7500,
          850,
          1000,
          395,
          300,
          0,
          650,
          550,
          5000,
          4500,
          0,
          0,
          0,
          2750,
          3850,
          349.95,
          6995,
          550,
          8900,
          1000,
          1150,
          1400,
          850,
          6500,
          0,
          0,
          1000,
          6475,
          1200,
          2500,
          4000,
          3150,
          4500,
          850,
          500,
          800,
          450,
          1850,
          2950,
          9195,
          2950,
          1250,
          8950,
          750,
          650,
          500,
          4250,
          1995,
          3500,
          3500,
          1300,
          3250,
          500,
          0,
          5000,
          875,
          4850,
          750,
          1200,
          0,
          0,
          750,
          950,
          1300,
          0,
          3995,
          1950,
          500,
          4600,
          0,
          3200,
          395,
          12999,
          750,
          5250,
          1990,
          350,
          10500,
          950,
          995,
          9500,
          2950,
          3750,
          4200,
          750,
          3200,
          0,
          2850,
          0,
          0,
          4000,
          750,
          3800,
          450,
          490,
          0,
          500,
          700,
          1995,
          0,
          1750,
          900,
          2150,
          600,
          750,
          0,
          1475,
          2995,
          500,
          400,
          7950,
          0,
          1750,
          0,
          0,
          1000,
          4250,
          475,
          0,
          695,
          6995
         ],
         "yaxis": "y"
        },
        {
         "customdata": [
          [
           "ALPENKREUZER VANDAAG VOOR €200 AF TE HALEN! STAAT IN DE WEG"
          ],
          [
           "Alpenkreuzer Super GT"
          ],
          [
           "Zeer ruime, complete vouwwagen Alpenkreuzer Parade"
          ],
          [
           "Alpenkreuzer Parade vouwwagen- 2004"
          ],
          [
           "alpenkreuzer tempo"
          ],
          [
           "Alpenkreuzer Campfire - Aanbieding"
          ],
          [
           "Alpenkreuzer Waterfront Green - Uit voorraad"
          ],
          [
           "Vouwwagen Alpenkreuzer Allure"
          ],
          [
           "alpenkreuzer parade sl"
          ],
          [
           "Alpenkreuzer parade vouwwagen 6 persoons zo goed als nieuw"
          ],
          [
           "Alpenkreuzer Duet (919785)"
          ],
          [
           "Alpenkreuzer vouwwagenTempo"
          ],
          [
           "Vouwwagen Alpenkreuzer Parade 2006"
          ],
          [
           "Vouwwagen Alpenkreuzer Duet (6-persoons)"
          ],
          [
           "Alpenkreuzer vouwwagen"
          ],
          [
           "Alpenkreuzer Parade vouwwagen 2000"
          ],
          [
           "Alpenkreuzer Openair - SHOWMODEL"
          ],
          [
           "Alpenkreuzer Parade Royale"
          ],
          [
           "Alpenkreuzer Campfire MET LUIFEL"
          ],
          [
           "Alpenkreuzer Campfire 2022"
          ],
          [
           "Alpenkreuzer Parade XL vouwwagen"
          ],
          [
           "Zeer ruime Alpenkreuzer Parade met voortent, luifel en meer"
          ],
          [
           "Alpenkreuzer Parade"
          ],
          [
           "Alpenkreuzer tempo, 1998"
          ],
          [
           "Alpenkreuzer campfire vouwwagen"
          ],
          [
           "Alpenkreuzer Openair INCL. BIJZETTENT / LUIFEL"
          ],
          [
           "Alpenkreuzer Waterfront INCL. BIJZETTENT / LUIFEL"
          ],
          [
           "Alpenkreuzer Campfire INCLUSIEF LUIFEL"
          ],
          [
           "alpenkreuzer allure"
          ],
          [
           "Alpenkreuzer Openair"
          ],
          [
           "Alpenkreuzer Waterfront"
          ],
          [
           "Alpenkreuzer Campfire"
          ],
          [
           "Alpenkreuzer vouwwagen Super GT, hardtop"
          ],
          [
           "Vouwwagen Alpenkreuzer 2018"
          ],
          [
           "Alpenkreuzer Duet 2018 - 2 pers. snelopzetter."
          ],
          [
           "Alpenkreuzer Openair"
          ],
          [
           "Alpenkreuzer Campfire"
          ],
          [
           "Alpenkreuzer Waterfront"
          ],
          [
           "Alpenkreuzer Waterfront"
          ]
         ],
         "hovertemplate": "Manufacturer=Alpenkreuzer<br>construction_year=%{x}<br>price_eur=%{y}<br>title=%{customdata[0]}<extra></extra>",
         "legendgroup": "Alpenkreuzer",
         "marker": {
          "color": "#EF553B",
          "symbol": "circle"
         },
         "mode": "markers",
         "name": "Alpenkreuzer",
         "orientation": "v",
         "showlegend": true,
         "type": "scatter",
         "x": [
          null,
          null,
          1999,
          2004,
          2000,
          2023,
          2023,
          null,
          null,
          2019,
          2020,
          2002,
          2006,
          2002,
          null,
          2000,
          2021,
          1995,
          2021,
          null,
          null,
          1998,
          null,
          1998,
          null,
          2023,
          2023,
          2023,
          1988,
          2023,
          2023,
          2023,
          1991,
          2018,
          2018,
          null,
          null,
          null,
          2023
         ],
         "xaxis": "x",
         "y": [
          350,
          500,
          950,
          1250,
          0,
          10995,
          8595,
          395,
          0,
          6000,
          4500,
          400,
          1250,
          500,
          125,
          0,
          10795,
          0,
          8595,
          9250,
          750,
          500,
          0,
          650,
          9250,
          13305,
          9735,
          11290,
          500,
          11995,
          8595,
          10595,
          1000,
          4250,
          4950,
          11995,
          10595,
          8595,
          7995
         ],
         "yaxis": "y"
        },
        {
         "customdata": [
          [
           "paradiso vouwwagen 1979"
          ],
          [
           "Grand Paradiso"
          ],
          [
           "Fantastisch paradiso vouwwagen"
          ],
          [
           "Paradiso vouwwagen"
          ],
          [
           "Vouwwagen Paradiso"
          ],
          [
           "Paradiso Ideale Beach 1998 - Vouwwagen"
          ]
         ],
         "hovertemplate": "Manufacturer=Paradiso<br>construction_year=%{x}<br>price_eur=%{y}<br>title=%{customdata[0]}<extra></extra>",
         "legendgroup": "Paradiso",
         "marker": {
          "color": "#00cc96",
          "symbol": "circle"
         },
         "mode": "markers",
         "name": "Paradiso",
         "orientation": "v",
         "showlegend": true,
         "type": "scatter",
         "x": [
          1979,
          null,
          null,
          null,
          1998,
          1998
         ],
         "xaxis": "x",
         "y": [
          0,
          0,
          2250,
          1400,
          2300,
          0
         ],
         "yaxis": "y"
        },
        {
         "customdata": [
          [
           "Vouwwagen Raclet Safari GL 2013"
          ],
          [
           "Vouwwagen Raclet Safari GL model 2022 (als nieuw!)"
          ],
          [
           "Raclet Pamploma Junior uit 2013"
          ],
          [
           "Vouwwagen Raclet Allegra met voortent, erker en luifel"
          ],
          [
           "Raclet Jasmin Vouwwagen - 2008"
          ],
          [
           "Vouwwagen Raclet Safari GL 2013"
          ],
          [
           "vouwwagen raclet"
          ],
          [
           "Raclet safari gl"
          ],
          [
           "Vouwwagen Safari Raclet"
          ],
          [
           "Raclet Panama UpGL uit 2015 met inboedel en gastencabine."
          ],
          [
           "Vouwwagen Raclet"
          ],
          [
           "Raclet Panama up 2022"
          ],
          [
           "Raclet Safari GL"
          ],
          [
           "Raclet Panama Up GL"
          ],
          [
           "Vouwwagen Raclet quickstop x-trail"
          ],
          [
           "Raclet Panama Up Vouwwagen Fietsendrager BJ 2018 (bj 2018)"
          ],
          [
           "Raclet 6-persoons vouwwagen"
          ],
          [
           "Raclet jade"
          ],
          [
           "Vouwwagen Raclet Jasmin"
          ]
         ],
         "hovertemplate": "Manufacturer=Raclet<br>construction_year=%{x}<br>price_eur=%{y}<br>title=%{customdata[0]}<extra></extra>",
         "legendgroup": "Raclet",
         "marker": {
          "color": "#ab63fa",
          "symbol": "circle"
         },
         "mode": "markers",
         "name": "Raclet",
         "orientation": "v",
         "showlegend": true,
         "type": "scatter",
         "x": [
          2013,
          null,
          null,
          null,
          2008,
          2013,
          2000,
          2013,
          2010,
          null,
          null,
          null,
          2018,
          2015,
          2016,
          2018,
          2001,
          null,
          null
         ],
         "xaxis": "x",
         "y": [
          3200,
          10500,
          2500,
          2125,
          2250,
          3000,
          0,
          4000,
          0,
          0,
          200,
          9750,
          8500,
          6500,
          5000,
          2475,
          1100,
          450,
          0
         ],
         "yaxis": "y"
        },
        {
         "customdata": [
          [
           "Aart Kok Kariba Game Drive beige / oker (2008)"
          ],
          [
           "Aart kok Livingstone Game Drive"
          ],
          [
           "Aart Kok Kavango (‘17) Game Drive L&L incl. Keuken"
          ],
          [
           "Aart Kok Zambezi Original uit 2000"
          ],
          [
           "Aart Kok Zambezi Original vouwwagen"
          ],
          [
           "Aart Kok tuareg game drive 2023. 2 weken gebruikt"
          ],
          [
           "Aart Kok Kampala Game Drive - 2008"
          ],
          [
           "Aart Kok Zambezi River Lodge compleet"
          ],
          [
           "Aart Kok Livingstone  River Lodge Game Drive"
          ],
          [
           "Vouwwagen Aart Kok, Kariba, 6 persoons, 2011, incl keuken"
          ],
          [
           "Zambezi Original - Aart Kok"
          ],
          [
           "Aart Kok Kavango Game Drive 2014"
          ],
          [
           "Aart Kok Tundra 2011 inclusief jaar stalling in Amersfoort"
          ],
          [
           "Aart Kok Kavango Game Drive 2011 vouwwagen"
          ],
          [
           "Aart Kok Kariba (2010)"
          ],
          [
           "Aart Kok Kavango model 2010"
          ],
          [
           "Zeer complete Aart Kok Kavango Gamedrive incl. loungebank"
          ],
          [
           "Aart Kok Kariba Tent Trailer Zeer netjes en compleet"
          ],
          [
           "Aart Kok Tundra vouwwagen"
          ],
          [
           "Aart kok vouwwagen, type tundra"
          ],
          [
           "Aart Kok Zambezi Offroad Tenttrailer"
          ],
          [
           "Aart Kok Zambezi Cross Road 2020 - In nieuwstaat"
          ],
          [
           "Aart Kok Kavango (2008)  te koop per 1-9-2023"
          ],
          [
           "Aart Kok Kariba 2008"
          ],
          [
           "Aart Kok Kampala vouwwagen"
          ]
         ],
         "hovertemplate": "Manufacturer=Aart Kok<br>construction_year=%{x}<br>price_eur=%{y}<br>title=%{customdata[0]}<extra></extra>",
         "legendgroup": "Aart Kok",
         "marker": {
          "color": "#FFA15A",
          "symbol": "circle"
         },
         "mode": "markers",
         "name": "Aart Kok",
         "orientation": "v",
         "showlegend": true,
         "type": "scatter",
         "x": [
          2008,
          null,
          null,
          2000,
          2003,
          2023,
          2008,
          2012,
          2012,
          2010,
          2006,
          2014,
          null,
          2011,
          null,
          2010,
          2016,
          2008,
          null,
          null,
          2005,
          2019,
          null,
          null,
          2013
         ],
         "xaxis": "x",
         "y": [
          5500,
          0,
          9995,
          3000,
          3500,
          0,
          4250,
          0,
          0,
          5000,
          8500,
          7300,
          0,
          7500,
          5600,
          6000,
          10000,
          4950,
          2900,
          0,
          0,
          0,
          5995,
          5250,
          5500
         ],
         "yaxis": "y"
        },
        {
         "customdata": [
          [
           "Campooz Lazy Jack camping variant extra luifel,Ugly Betty"
          ],
          [
           "Campooz Lazy Jack Camping 2021"
          ],
          [
           "Campooz Sleepy Joe - Uit voorraad"
          ],
          [
           "Campooz Lazy Jack - Uit voorraad"
          ],
          [
           "Campooz Fat Freddy - Uit voorraad"
          ],
          [
           "Campooz"
          ],
          [
           "Campooz Sleepy Joe Trekking"
          ],
          [
           "Campooz Lazy Jack Camping"
          ],
          [
           "Campooz Lazy Jack Trekking"
          ],
          [
           "Campooz Fat Freddy Camping"
          ],
          [
           "Campooz Fat Freddy Trekking"
          ],
          [
           "Campooz Sleepy Joe Camping"
          ],
          [
           "CampooZ Lazy Jack compleet en luxe uitvoering modeljaar 2022"
          ],
          [
           "Campooz Fat Freddy Trekking"
          ],
          [
           "Campooz Fat Freddy Camping"
          ],
          [
           "campooz Fat Freddy"
          ],
          [
           "Campooz Fat Freddy Camping Voortent"
          ],
          [
           "Campooz Lazy Jack Trekking Zonneluifel"
          ],
          [
           "Campooz Fat Freddy Trekking Zonneluifel"
          ],
          [
           "Campooz Fat Freddy Camping 2023"
          ],
          [
           "Campooz Sleepy Joe"
          ],
          [
           "Campooz"
          ],
          [
           "Vouwwagen verhuur CampooZ FAT FREDDY en LAZY  JACK Campooz"
          ],
          [
           "Campooz Lazy Jack Camping"
          ],
          [
           "Campooz Lazy Jack Trekking"
          ],
          [
           "Campooz Red Ruby"
          ]
         ],
         "hovertemplate": "Manufacturer=Campooz<br>construction_year=%{x}<br>price_eur=%{y}<br>title=%{customdata[0]}<extra></extra>",
         "legendgroup": "Campooz",
         "marker": {
          "color": "#19d3f3",
          "symbol": "circle"
         },
         "mode": "markers",
         "name": "Campooz",
         "orientation": "v",
         "showlegend": true,
         "type": "scatter",
         "x": [
          null,
          2021,
          2023,
          2023,
          2023,
          2017,
          2023,
          2023,
          2023,
          2023,
          2023,
          2023,
          null,
          null,
          null,
          null,
          2023,
          2023,
          2023,
          2023,
          null,
          null,
          2022,
          null,
          null,
          null
         ],
         "xaxis": "x",
         "y": [
          10250,
          0,
          10550,
          10950,
          9600,
          11000,
          10550,
          11400,
          10950,
          10050,
          9600,
          11000,
          0,
          9600,
          10050,
          6100,
          10050,
          10950,
          9600,
          11500,
          10550,
          0,
          0,
          11400,
          10950,
          13900
         ],
         "yaxis": "y"
        },
        {
         "customdata": [
          [
           "Isabella Camp-Let Passion vouwwagen 2019 (snelle opzetter)"
          ],
          [
           "Camp-let Concorde Vouwwagen"
          ],
          [
           "Camp-let Passion - Uit voorraad"
          ],
          [
           "Camp-let North - Uit voorraad"
          ],
          [
           "Camp-let Concorde 2009 vouwwagen"
          ],
          [
           "Camp-let Concorde"
          ],
          [
           "Camp-let Dream"
          ],
          [
           "Te koop mooie Camp-let Concorde"
          ],
          [
           "Camp-Let Concorde, bouwjaar 1995, geremd, en 123 systeem."
          ],
          [
           "Camp-let Limited Edition 2014 als NIEUW!"
          ],
          [
           "Camp-let 2GO Geremd, 123 systeem"
          ],
          [
           "Camp-let Apollo"
          ],
          [
           "Camp-let North 2023 Direct leverbaar"
          ],
          [
           "Camp-Let vouwwagen te koop"
          ]
         ],
         "hovertemplate": "Manufacturer=Camp-Let<br>construction_year=%{x}<br>price_eur=%{y}<br>title=%{customdata[0]}<extra></extra>",
         "legendgroup": "Camp-Let",
         "marker": {
          "color": "#FF6692",
          "symbol": "circle"
         },
         "mode": "markers",
         "name": "Camp-Let",
         "orientation": "v",
         "showlegend": true,
         "type": "scatter",
         "x": [
          2019,
          null,
          2023,
          2023,
          null,
          2003,
          2019,
          2001,
          null,
          null,
          2017,
          1992,
          2023,
          null
         ],
         "xaxis": "x",
         "y": [
          8500,
          1250,
          11099,
          9799,
          2995,
          0,
          0,
          0,
          550,
          0,
          4950,
          0,
          9799,
          2550
         ],
         "yaxis": "y"
        }
       ],
       "layout": {
        "legend": {
         "title": {
          "text": "Manufacturer"
         },
         "tracegroupgap": 0
        },
        "margin": {
         "t": 60
        },
        "template": {
         "data": {
          "bar": [
           {
            "error_x": {
             "color": "#2a3f5f"
            },
            "error_y": {
             "color": "#2a3f5f"
            },
            "marker": {
             "line": {
              "color": "#E5ECF6",
              "width": 0.5
             },
             "pattern": {
              "fillmode": "overlay",
              "size": 10,
              "solidity": 0.2
             }
            },
            "type": "bar"
           }
          ],
          "barpolar": [
           {
            "marker": {
             "line": {
              "color": "#E5ECF6",
              "width": 0.5
             },
             "pattern": {
              "fillmode": "overlay",
              "size": 10,
              "solidity": 0.2
             }
            },
            "type": "barpolar"
           }
          ],
          "carpet": [
           {
            "aaxis": {
             "endlinecolor": "#2a3f5f",
             "gridcolor": "white",
             "linecolor": "white",
             "minorgridcolor": "white",
             "startlinecolor": "#2a3f5f"
            },
            "baxis": {
             "endlinecolor": "#2a3f5f",
             "gridcolor": "white",
             "linecolor": "white",
             "minorgridcolor": "white",
             "startlinecolor": "#2a3f5f"
            },
            "type": "carpet"
           }
          ],
          "choropleth": [
           {
            "colorbar": {
             "outlinewidth": 0,
             "ticks": ""
            },
            "type": "choropleth"
           }
          ],
          "contour": [
           {
            "colorbar": {
             "outlinewidth": 0,
             "ticks": ""
            },
            "colorscale": [
             [
              0,
              "#0d0887"
             ],
             [
              0.1111111111111111,
              "#46039f"
             ],
             [
              0.2222222222222222,
              "#7201a8"
             ],
             [
              0.3333333333333333,
              "#9c179e"
             ],
             [
              0.4444444444444444,
              "#bd3786"
             ],
             [
              0.5555555555555556,
              "#d8576b"
             ],
             [
              0.6666666666666666,
              "#ed7953"
             ],
             [
              0.7777777777777778,
              "#fb9f3a"
             ],
             [
              0.8888888888888888,
              "#fdca26"
             ],
             [
              1,
              "#f0f921"
             ]
            ],
            "type": "contour"
           }
          ],
          "contourcarpet": [
           {
            "colorbar": {
             "outlinewidth": 0,
             "ticks": ""
            },
            "type": "contourcarpet"
           }
          ],
          "heatmap": [
           {
            "colorbar": {
             "outlinewidth": 0,
             "ticks": ""
            },
            "colorscale": [
             [
              0,
              "#0d0887"
             ],
             [
              0.1111111111111111,
              "#46039f"
             ],
             [
              0.2222222222222222,
              "#7201a8"
             ],
             [
              0.3333333333333333,
              "#9c179e"
             ],
             [
              0.4444444444444444,
              "#bd3786"
             ],
             [
              0.5555555555555556,
              "#d8576b"
             ],
             [
              0.6666666666666666,
              "#ed7953"
             ],
             [
              0.7777777777777778,
              "#fb9f3a"
             ],
             [
              0.8888888888888888,
              "#fdca26"
             ],
             [
              1,
              "#f0f921"
             ]
            ],
            "type": "heatmap"
           }
          ],
          "heatmapgl": [
           {
            "colorbar": {
             "outlinewidth": 0,
             "ticks": ""
            },
            "colorscale": [
             [
              0,
              "#0d0887"
             ],
             [
              0.1111111111111111,
              "#46039f"
             ],
             [
              0.2222222222222222,
              "#7201a8"
             ],
             [
              0.3333333333333333,
              "#9c179e"
             ],
             [
              0.4444444444444444,
              "#bd3786"
             ],
             [
              0.5555555555555556,
              "#d8576b"
             ],
             [
              0.6666666666666666,
              "#ed7953"
             ],
             [
              0.7777777777777778,
              "#fb9f3a"
             ],
             [
              0.8888888888888888,
              "#fdca26"
             ],
             [
              1,
              "#f0f921"
             ]
            ],
            "type": "heatmapgl"
           }
          ],
          "histogram": [
           {
            "marker": {
             "pattern": {
              "fillmode": "overlay",
              "size": 10,
              "solidity": 0.2
             }
            },
            "type": "histogram"
           }
          ],
          "histogram2d": [
           {
            "colorbar": {
             "outlinewidth": 0,
             "ticks": ""
            },
            "colorscale": [
             [
              0,
              "#0d0887"
             ],
             [
              0.1111111111111111,
              "#46039f"
             ],
             [
              0.2222222222222222,
              "#7201a8"
             ],
             [
              0.3333333333333333,
              "#9c179e"
             ],
             [
              0.4444444444444444,
              "#bd3786"
             ],
             [
              0.5555555555555556,
              "#d8576b"
             ],
             [
              0.6666666666666666,
              "#ed7953"
             ],
             [
              0.7777777777777778,
              "#fb9f3a"
             ],
             [
              0.8888888888888888,
              "#fdca26"
             ],
             [
              1,
              "#f0f921"
             ]
            ],
            "type": "histogram2d"
           }
          ],
          "histogram2dcontour": [
           {
            "colorbar": {
             "outlinewidth": 0,
             "ticks": ""
            },
            "colorscale": [
             [
              0,
              "#0d0887"
             ],
             [
              0.1111111111111111,
              "#46039f"
             ],
             [
              0.2222222222222222,
              "#7201a8"
             ],
             [
              0.3333333333333333,
              "#9c179e"
             ],
             [
              0.4444444444444444,
              "#bd3786"
             ],
             [
              0.5555555555555556,
              "#d8576b"
             ],
             [
              0.6666666666666666,
              "#ed7953"
             ],
             [
              0.7777777777777778,
              "#fb9f3a"
             ],
             [
              0.8888888888888888,
              "#fdca26"
             ],
             [
              1,
              "#f0f921"
             ]
            ],
            "type": "histogram2dcontour"
           }
          ],
          "mesh3d": [
           {
            "colorbar": {
             "outlinewidth": 0,
             "ticks": ""
            },
            "type": "mesh3d"
           }
          ],
          "parcoords": [
           {
            "line": {
             "colorbar": {
              "outlinewidth": 0,
              "ticks": ""
             }
            },
            "type": "parcoords"
           }
          ],
          "pie": [
           {
            "automargin": true,
            "type": "pie"
           }
          ],
          "scatter": [
           {
            "fillpattern": {
             "fillmode": "overlay",
             "size": 10,
             "solidity": 0.2
            },
            "type": "scatter"
           }
          ],
          "scatter3d": [
           {
            "line": {
             "colorbar": {
              "outlinewidth": 0,
              "ticks": ""
             }
            },
            "marker": {
             "colorbar": {
              "outlinewidth": 0,
              "ticks": ""
             }
            },
            "type": "scatter3d"
           }
          ],
          "scattercarpet": [
           {
            "marker": {
             "colorbar": {
              "outlinewidth": 0,
              "ticks": ""
             }
            },
            "type": "scattercarpet"
           }
          ],
          "scattergeo": [
           {
            "marker": {
             "colorbar": {
              "outlinewidth": 0,
              "ticks": ""
             }
            },
            "type": "scattergeo"
           }
          ],
          "scattergl": [
           {
            "marker": {
             "colorbar": {
              "outlinewidth": 0,
              "ticks": ""
             }
            },
            "type": "scattergl"
           }
          ],
          "scattermapbox": [
           {
            "marker": {
             "colorbar": {
              "outlinewidth": 0,
              "ticks": ""
             }
            },
            "type": "scattermapbox"
           }
          ],
          "scatterpolar": [
           {
            "marker": {
             "colorbar": {
              "outlinewidth": 0,
              "ticks": ""
             }
            },
            "type": "scatterpolar"
           }
          ],
          "scatterpolargl": [
           {
            "marker": {
             "colorbar": {
              "outlinewidth": 0,
              "ticks": ""
             }
            },
            "type": "scatterpolargl"
           }
          ],
          "scatterternary": [
           {
            "marker": {
             "colorbar": {
              "outlinewidth": 0,
              "ticks": ""
             }
            },
            "type": "scatterternary"
           }
          ],
          "surface": [
           {
            "colorbar": {
             "outlinewidth": 0,
             "ticks": ""
            },
            "colorscale": [
             [
              0,
              "#0d0887"
             ],
             [
              0.1111111111111111,
              "#46039f"
             ],
             [
              0.2222222222222222,
              "#7201a8"
             ],
             [
              0.3333333333333333,
              "#9c179e"
             ],
             [
              0.4444444444444444,
              "#bd3786"
             ],
             [
              0.5555555555555556,
              "#d8576b"
             ],
             [
              0.6666666666666666,
              "#ed7953"
             ],
             [
              0.7777777777777778,
              "#fb9f3a"
             ],
             [
              0.8888888888888888,
              "#fdca26"
             ],
             [
              1,
              "#f0f921"
             ]
            ],
            "type": "surface"
           }
          ],
          "table": [
           {
            "cells": {
             "fill": {
              "color": "#EBF0F8"
             },
             "line": {
              "color": "white"
             }
            },
            "header": {
             "fill": {
              "color": "#C8D4E3"
             },
             "line": {
              "color": "white"
             }
            },
            "type": "table"
           }
          ]
         },
         "layout": {
          "annotationdefaults": {
           "arrowcolor": "#2a3f5f",
           "arrowhead": 0,
           "arrowwidth": 1
          },
          "autotypenumbers": "strict",
          "coloraxis": {
           "colorbar": {
            "outlinewidth": 0,
            "ticks": ""
           }
          },
          "colorscale": {
           "diverging": [
            [
             0,
             "#8e0152"
            ],
            [
             0.1,
             "#c51b7d"
            ],
            [
             0.2,
             "#de77ae"
            ],
            [
             0.3,
             "#f1b6da"
            ],
            [
             0.4,
             "#fde0ef"
            ],
            [
             0.5,
             "#f7f7f7"
            ],
            [
             0.6,
             "#e6f5d0"
            ],
            [
             0.7,
             "#b8e186"
            ],
            [
             0.8,
             "#7fbc41"
            ],
            [
             0.9,
             "#4d9221"
            ],
            [
             1,
             "#276419"
            ]
           ],
           "sequential": [
            [
             0,
             "#0d0887"
            ],
            [
             0.1111111111111111,
             "#46039f"
            ],
            [
             0.2222222222222222,
             "#7201a8"
            ],
            [
             0.3333333333333333,
             "#9c179e"
            ],
            [
             0.4444444444444444,
             "#bd3786"
            ],
            [
             0.5555555555555556,
             "#d8576b"
            ],
            [
             0.6666666666666666,
             "#ed7953"
            ],
            [
             0.7777777777777778,
             "#fb9f3a"
            ],
            [
             0.8888888888888888,
             "#fdca26"
            ],
            [
             1,
             "#f0f921"
            ]
           ],
           "sequentialminus": [
            [
             0,
             "#0d0887"
            ],
            [
             0.1111111111111111,
             "#46039f"
            ],
            [
             0.2222222222222222,
             "#7201a8"
            ],
            [
             0.3333333333333333,
             "#9c179e"
            ],
            [
             0.4444444444444444,
             "#bd3786"
            ],
            [
             0.5555555555555556,
             "#d8576b"
            ],
            [
             0.6666666666666666,
             "#ed7953"
            ],
            [
             0.7777777777777778,
             "#fb9f3a"
            ],
            [
             0.8888888888888888,
             "#fdca26"
            ],
            [
             1,
             "#f0f921"
            ]
           ]
          },
          "colorway": [
           "#636efa",
           "#EF553B",
           "#00cc96",
           "#ab63fa",
           "#FFA15A",
           "#19d3f3",
           "#FF6692",
           "#B6E880",
           "#FF97FF",
           "#FECB52"
          ],
          "font": {
           "color": "#2a3f5f"
          },
          "geo": {
           "bgcolor": "white",
           "lakecolor": "white",
           "landcolor": "#E5ECF6",
           "showlakes": true,
           "showland": true,
           "subunitcolor": "white"
          },
          "hoverlabel": {
           "align": "left"
          },
          "hovermode": "closest",
          "mapbox": {
           "style": "light"
          },
          "paper_bgcolor": "white",
          "plot_bgcolor": "#E5ECF6",
          "polar": {
           "angularaxis": {
            "gridcolor": "white",
            "linecolor": "white",
            "ticks": ""
           },
           "bgcolor": "#E5ECF6",
           "radialaxis": {
            "gridcolor": "white",
            "linecolor": "white",
            "ticks": ""
           }
          },
          "scene": {
           "xaxis": {
            "backgroundcolor": "#E5ECF6",
            "gridcolor": "white",
            "gridwidth": 2,
            "linecolor": "white",
            "showbackground": true,
            "ticks": "",
            "zerolinecolor": "white"
           },
           "yaxis": {
            "backgroundcolor": "#E5ECF6",
            "gridcolor": "white",
            "gridwidth": 2,
            "linecolor": "white",
            "showbackground": true,
            "ticks": "",
            "zerolinecolor": "white"
           },
           "zaxis": {
            "backgroundcolor": "#E5ECF6",
            "gridcolor": "white",
            "gridwidth": 2,
            "linecolor": "white",
            "showbackground": true,
            "ticks": "",
            "zerolinecolor": "white"
           }
          },
          "shapedefaults": {
           "line": {
            "color": "#2a3f5f"
           }
          },
          "ternary": {
           "aaxis": {
            "gridcolor": "white",
            "linecolor": "white",
            "ticks": ""
           },
           "baxis": {
            "gridcolor": "white",
            "linecolor": "white",
            "ticks": ""
           },
           "bgcolor": "#E5ECF6",
           "caxis": {
            "gridcolor": "white",
            "linecolor": "white",
            "ticks": ""
           }
          },
          "title": {
           "x": 0.05
          },
          "xaxis": {
           "automargin": true,
           "gridcolor": "white",
           "linecolor": "white",
           "ticks": "",
           "title": {
            "standoff": 15
           },
           "zerolinecolor": "white",
           "zerolinewidth": 2
          },
          "yaxis": {
           "automargin": true,
           "gridcolor": "white",
           "linecolor": "white",
           "ticks": "",
           "title": {
            "standoff": 15
           },
           "zerolinecolor": "white",
           "zerolinewidth": 2
          }
         }
        },
        "xaxis": {
         "anchor": "y",
         "domain": [
          0,
          1
         ],
         "title": {
          "text": "construction_year"
         }
        },
        "yaxis": {
         "anchor": "x",
         "domain": [
          0,
          1
         ],
         "title": {
          "text": "price_eur"
         }
        }
       }
      }
     },
     "metadata": {},
     "output_type": "display_data"
    }
   ],
   "source": [
    "import plotly.express as px\n",
    "fig = px.scatter(df_ads, x=\"construction_year\", y=\"price_eur\",\n",
    "                color=\"Manufacturer\",\n",
    "                #  size='petal_length', \n",
    "                hover_data=['title']\n",
    "                 )\n",
    "fig.show()"
   ]
  }
 ],
 "metadata": {
  "kernelspec": {
   "display_name": "Python 3",
   "language": "python",
   "name": "python3"
  },
  "language_info": {
   "codemirror_mode": {
    "name": "ipython",
    "version": 3
   },
   "file_extension": ".py",
   "mimetype": "text/x-python",
   "name": "python",
   "nbconvert_exporter": "python",
   "pygments_lexer": "ipython3",
   "version": "3.11.4"
  },
  "orig_nbformat": 4
 },
 "nbformat": 4,
 "nbformat_minor": 2
}
